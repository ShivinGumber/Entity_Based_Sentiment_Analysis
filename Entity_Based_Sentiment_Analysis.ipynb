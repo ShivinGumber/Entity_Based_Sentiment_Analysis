{
  "cells": [
    {
      "cell_type": "markdown",
      "source": [
        "**Mount Drive after creating folder Entity_Sentiment_Analysis in drive**"
      ],
      "metadata": {
        "id": "MtE1hXPbcm9-"
      }
    },
    {
      "cell_type": "code",
      "source": [
        "from google.colab import drive\n",
        "\n",
        "drive.mount('/content/drive')"
      ],
      "metadata": {
        "colab": {
          "base_uri": "https://localhost:8080/"
        },
        "id": "MhGC38y-S_w3",
        "outputId": "7aa20033-913c-4047-fda9-0e6938799f67"
      },
      "execution_count": null,
      "outputs": [
        {
          "output_type": "stream",
          "name": "stdout",
          "text": [
            "Mounted at /content/drive\n"
          ]
        }
      ]
    },
    {
      "cell_type": "markdown",
      "source": [
        "**Clone the ABSA Dataset Repository**"
      ],
      "metadata": {
        "id": "x3RMj-LmDwNJ"
      }
    },
    {
      "cell_type": "code",
      "execution_count": null,
      "metadata": {
        "colab": {
          "base_uri": "https://localhost:8080/"
        },
        "id": "99_gQk-MEYaL",
        "outputId": "0dbb1d10-d95b-4530-fedd-78851a95205a"
      },
      "outputs": [
        {
          "output_type": "stream",
          "name": "stdout",
          "text": [
            "Cloning into 'PyABSA'...\n",
            "remote: Enumerating objects: 296, done.\u001b[K\n",
            "remote: Counting objects: 100% (296/296), done.\u001b[K\n",
            "remote: Compressing objects: 100% (255/255), done.\u001b[K\n",
            "remote: Total 296 (delta 104), reused 120 (delta 37), pack-reused 0\u001b[K\n",
            "Receiving objects: 100% (296/296), 1.75 MiB | 27.21 MiB/s, done.\n",
            "Resolving deltas: 100% (104/104), done.\n"
          ]
        }
      ],
      "source": [
        "!git clone https://github.com/yangheng95/PyABSA --depth=1"
      ]
    },
    {
      "cell_type": "code",
      "execution_count": null,
      "metadata": {
        "colab": {
          "base_uri": "https://localhost:8080/"
        },
        "id": "P4WeuCtOEgub",
        "outputId": "03c10b89-9c6c-4b34-bf8b-d52cbc8ac6ad"
      },
      "outputs": [
        {
          "output_type": "stream",
          "name": "stdout",
          "text": [
            "/content/PyABSA\n"
          ]
        }
      ],
      "source": [
        "cd /content/PyABSA"
      ]
    },
    {
      "cell_type": "code",
      "execution_count": null,
      "metadata": {
        "colab": {
          "base_uri": "https://localhost:8080/"
        },
        "id": "OxS8C1hLFYT8",
        "outputId": "1a39061e-001a-4992-d6f7-59c8fa49a5a1"
      },
      "outputs": [
        {
          "output_type": "stream",
          "name": "stdout",
          "text": [
            "Traceback (most recent call last):\n",
            "  File \"setup.py\", line 10, in <module>\n",
            "    from pyabsa import __name__, __version__\n",
            "  File \"/content/PyABSA/pyabsa/__init__.py\", line 14, in <module>\n",
            "    from update_checker import UpdateChecker\n",
            "ModuleNotFoundError: No module named 'update_checker'\n"
          ]
        }
      ],
      "source": [
        "!python setup.py install"
      ]
    },
    {
      "cell_type": "markdown",
      "source": [
        "**Install all the necessary files**"
      ],
      "metadata": {
        "id": "DWnaWGwgD2c6"
      }
    },
    {
      "cell_type": "code",
      "execution_count": null,
      "metadata": {
        "colab": {
          "base_uri": "https://localhost:8080/"
        },
        "id": "cBISCjZ8FtoM",
        "outputId": "0c99ce7d-d95c-4236-f20d-0517a0b05044"
      },
      "outputs": [
        {
          "output_type": "stream",
          "name": "stdout",
          "text": [
            "Looking in indexes: https://pypi.org/simple, https://us-python.pkg.dev/colab-wheels/public/simple/\n",
            "Collecting update_checker\n",
            "  Downloading update_checker-0.18.0-py3-none-any.whl (7.0 kB)\n",
            "Requirement already satisfied: requests>=2.3.0 in /usr/local/lib/python3.7/dist-packages (from update_checker) (2.23.0)\n",
            "Requirement already satisfied: chardet<4,>=3.0.2 in /usr/local/lib/python3.7/dist-packages (from requests>=2.3.0->update_checker) (3.0.4)\n",
            "Requirement already satisfied: idna<3,>=2.5 in /usr/local/lib/python3.7/dist-packages (from requests>=2.3.0->update_checker) (2.10)\n",
            "Requirement already satisfied: certifi>=2017.4.17 in /usr/local/lib/python3.7/dist-packages (from requests>=2.3.0->update_checker) (2022.6.15)\n",
            "Requirement already satisfied: urllib3!=1.25.0,!=1.25.1,<1.26,>=1.21.1 in /usr/local/lib/python3.7/dist-packages (from requests>=2.3.0->update_checker) (1.24.3)\n",
            "Installing collected packages: update-checker\n",
            "Successfully installed update-checker-0.18.0\n",
            "Looking in indexes: https://pypi.org/simple, https://us-python.pkg.dev/colab-wheels/public/simple/\n",
            "Collecting findfile\n",
            "  Downloading findfile-1.7.9.4-py3-none-any.whl (5.1 kB)\n",
            "Installing collected packages: findfile\n",
            "Successfully installed findfile-1.7.9.4\n",
            "Looking in indexes: https://pypi.org/simple, https://us-python.pkg.dev/colab-wheels/public/simple/\n",
            "Collecting transformers\n",
            "  Downloading transformers-4.20.1-py3-none-any.whl (4.4 MB)\n",
            "\u001b[K     |████████████████████████████████| 4.4 MB 32.3 MB/s \n",
            "\u001b[?25hRequirement already satisfied: tqdm>=4.27 in /usr/local/lib/python3.7/dist-packages (from transformers) (4.64.0)\n",
            "Requirement already satisfied: numpy>=1.17 in /usr/local/lib/python3.7/dist-packages (from transformers) (1.21.6)\n",
            "Requirement already satisfied: filelock in /usr/local/lib/python3.7/dist-packages (from transformers) (3.7.1)\n",
            "Collecting huggingface-hub<1.0,>=0.1.0\n",
            "  Downloading huggingface_hub-0.8.1-py3-none-any.whl (101 kB)\n",
            "\u001b[K     |████████████████████████████████| 101 kB 13.8 MB/s \n",
            "\u001b[?25hRequirement already satisfied: regex!=2019.12.17 in /usr/local/lib/python3.7/dist-packages (from transformers) (2022.6.2)\n",
            "Collecting tokenizers!=0.11.3,<0.13,>=0.11.1\n",
            "  Downloading tokenizers-0.12.1-cp37-cp37m-manylinux_2_12_x86_64.manylinux2010_x86_64.whl (6.6 MB)\n",
            "\u001b[K     |████████████████████████████████| 6.6 MB 59.7 MB/s \n",
            "\u001b[?25hRequirement already satisfied: importlib-metadata in /usr/local/lib/python3.7/dist-packages (from transformers) (4.11.4)\n",
            "Collecting pyyaml>=5.1\n",
            "  Downloading PyYAML-6.0-cp37-cp37m-manylinux_2_5_x86_64.manylinux1_x86_64.manylinux_2_12_x86_64.manylinux2010_x86_64.whl (596 kB)\n",
            "\u001b[K     |████████████████████████████████| 596 kB 29.0 MB/s \n",
            "\u001b[?25hRequirement already satisfied: requests in /usr/local/lib/python3.7/dist-packages (from transformers) (2.23.0)\n",
            "Requirement already satisfied: packaging>=20.0 in /usr/local/lib/python3.7/dist-packages (from transformers) (21.3)\n",
            "Requirement already satisfied: typing-extensions>=3.7.4.3 in /usr/local/lib/python3.7/dist-packages (from huggingface-hub<1.0,>=0.1.0->transformers) (4.1.1)\n",
            "Requirement already satisfied: pyparsing!=3.0.5,>=2.0.2 in /usr/local/lib/python3.7/dist-packages (from packaging>=20.0->transformers) (3.0.9)\n",
            "Requirement already satisfied: zipp>=0.5 in /usr/local/lib/python3.7/dist-packages (from importlib-metadata->transformers) (3.8.0)\n",
            "Requirement already satisfied: idna<3,>=2.5 in /usr/local/lib/python3.7/dist-packages (from requests->transformers) (2.10)\n",
            "Requirement already satisfied: chardet<4,>=3.0.2 in /usr/local/lib/python3.7/dist-packages (from requests->transformers) (3.0.4)\n",
            "Requirement already satisfied: urllib3!=1.25.0,!=1.25.1,<1.26,>=1.21.1 in /usr/local/lib/python3.7/dist-packages (from requests->transformers) (1.24.3)\n",
            "Requirement already satisfied: certifi>=2017.4.17 in /usr/local/lib/python3.7/dist-packages (from requests->transformers) (2022.6.15)\n",
            "Installing collected packages: pyyaml, tokenizers, huggingface-hub, transformers\n",
            "  Attempting uninstall: pyyaml\n",
            "    Found existing installation: PyYAML 3.13\n",
            "    Uninstalling PyYAML-3.13:\n",
            "      Successfully uninstalled PyYAML-3.13\n",
            "Successfully installed huggingface-hub-0.8.1 pyyaml-6.0 tokenizers-0.12.1 transformers-4.20.1\n"
          ]
        }
      ],
      "source": [
        "!pip install update_checker\n",
        "!pip install findfile\n",
        "!pip install transformers"
      ]
    },
    {
      "cell_type": "code",
      "execution_count": null,
      "metadata": {
        "colab": {
          "base_uri": "https://localhost:8080/"
        },
        "id": "UmH4OPj-HLsw",
        "outputId": "6bbf0c2d-9b64-442a-aac2-84e2a4afb5de"
      },
      "outputs": [
        {
          "output_type": "stream",
          "name": "stdout",
          "text": [
            "Looking in indexes: https://pypi.org/simple, https://us-python.pkg.dev/colab-wheels/public/simple/\n",
            "Collecting gitpython\n",
            "  Downloading GitPython-3.1.27-py3-none-any.whl (181 kB)\n",
            "\u001b[K     |████████████████████████████████| 181 kB 26.5 MB/s \n",
            "\u001b[?25hCollecting gitdb<5,>=4.0.1\n",
            "  Downloading gitdb-4.0.9-py3-none-any.whl (63 kB)\n",
            "\u001b[K     |████████████████████████████████| 63 kB 1.5 MB/s \n",
            "\u001b[?25hRequirement already satisfied: typing-extensions>=3.7.4.3 in /usr/local/lib/python3.7/dist-packages (from gitpython) (4.1.1)\n",
            "Collecting smmap<6,>=3.0.1\n",
            "  Downloading smmap-5.0.0-py3-none-any.whl (24 kB)\n",
            "Installing collected packages: smmap, gitdb, gitpython\n",
            "Successfully installed gitdb-4.0.9 gitpython-3.1.27 smmap-5.0.0\n",
            "Looking in indexes: https://pypi.org/simple, https://us-python.pkg.dev/colab-wheels/public/simple/\n",
            "Collecting autocuda\n",
            "  Downloading autocuda-0.11-py3-none-any.whl (4.8 kB)\n",
            "Installing collected packages: autocuda\n",
            "Successfully installed autocuda-0.11\n",
            "Looking in indexes: https://pypi.org/simple, https://us-python.pkg.dev/colab-wheels/public/simple/\n",
            "Collecting pytorch-warmup\n",
            "  Downloading pytorch-warmup-0.1.0.tar.gz (314 kB)\n",
            "\u001b[K     |████████████████████████████████| 314 kB 7.3 MB/s \n",
            "\u001b[?25hRequirement already satisfied: torch>=1.1 in /usr/local/lib/python3.7/dist-packages (from pytorch-warmup) (1.11.0+cu113)\n",
            "Requirement already satisfied: typing-extensions in /usr/local/lib/python3.7/dist-packages (from torch>=1.1->pytorch-warmup) (4.1.1)\n",
            "Building wheels for collected packages: pytorch-warmup\n",
            "  Building wheel for pytorch-warmup (setup.py) ... \u001b[?25l\u001b[?25hdone\n",
            "  Created wheel for pytorch-warmup: filename=pytorch_warmup-0.1.0-py3-none-any.whl size=5802 sha256=0f54d28456637df79a2be30cd9405ad7a6757fffc86c08ae123a31d82bf2523c\n",
            "  Stored in directory: /root/.cache/pip/wheels/c7/5d/24/9475e442daa1e9332c122c79fb5131b9e4e91946009365902e\n",
            "Successfully built pytorch-warmup\n",
            "Installing collected packages: pytorch-warmup\n",
            "Successfully installed pytorch-warmup-0.1.0\n"
          ]
        }
      ],
      "source": [
        "!pip install gitpython\n",
        "!pip install autocuda\n",
        "!pip install pytorch-warmup"
      ]
    },
    {
      "cell_type": "code",
      "execution_count": null,
      "metadata": {
        "colab": {
          "base_uri": "https://localhost:8080/"
        },
        "id": "s14fwrduIILs",
        "outputId": "abe0339b-fe3c-407c-8e51-169dd23fdd09"
      },
      "outputs": [
        {
          "output_type": "stream",
          "name": "stdout",
          "text": [
            "Looking in indexes: https://pypi.org/simple, https://us-python.pkg.dev/colab-wheels/public/simple/\n",
            "Collecting seqeval\n",
            "  Downloading seqeval-1.2.2.tar.gz (43 kB)\n",
            "\u001b[?25l\r\u001b[K     |███████▌                        | 10 kB 35.3 MB/s eta 0:00:01\r\u001b[K     |███████████████                 | 20 kB 41.7 MB/s eta 0:00:01\r\u001b[K     |██████████████████████▌         | 30 kB 29.3 MB/s eta 0:00:01\r\u001b[K     |██████████████████████████████  | 40 kB 25.5 MB/s eta 0:00:01\r\u001b[K     |████████████████████████████████| 43 kB 1.6 MB/s \n",
            "\u001b[?25hRequirement already satisfied: numpy>=1.14.0 in /usr/local/lib/python3.7/dist-packages (from seqeval) (1.21.6)\n",
            "Requirement already satisfied: scikit-learn>=0.21.3 in /usr/local/lib/python3.7/dist-packages (from seqeval) (1.0.2)\n",
            "Requirement already satisfied: scipy>=1.1.0 in /usr/local/lib/python3.7/dist-packages (from scikit-learn>=0.21.3->seqeval) (1.4.1)\n",
            "Requirement already satisfied: threadpoolctl>=2.0.0 in /usr/local/lib/python3.7/dist-packages (from scikit-learn>=0.21.3->seqeval) (3.1.0)\n",
            "Requirement already satisfied: joblib>=0.11 in /usr/local/lib/python3.7/dist-packages (from scikit-learn>=0.21.3->seqeval) (1.1.0)\n",
            "Building wheels for collected packages: seqeval\n",
            "  Building wheel for seqeval (setup.py) ... \u001b[?25l\u001b[?25hdone\n",
            "  Created wheel for seqeval: filename=seqeval-1.2.2-py3-none-any.whl size=16180 sha256=9f88fc39092b52fadd850043fb490f3ef2f9b5ff008427d29177c53d8a26005b\n",
            "  Stored in directory: /root/.cache/pip/wheels/05/96/ee/7cac4e74f3b19e3158dce26a20a1c86b3533c43ec72a549fd7\n",
            "Successfully built seqeval\n",
            "Installing collected packages: seqeval\n",
            "Successfully installed seqeval-1.2.2\n",
            "Looking in indexes: https://pypi.org/simple, https://us-python.pkg.dev/colab-wheels/public/simple/\n",
            "Collecting metric-visualizer\n",
            "  Downloading metric_visualizer-0.4.23-py3-none-any.whl (10 kB)\n",
            "Requirement already satisfied: scipy in /usr/local/lib/python3.7/dist-packages (from metric-visualizer) (1.4.1)\n",
            "Collecting tikzplotlib\n",
            "  Downloading tikzplotlib-0.10.1-py3-none-any.whl (54 kB)\n",
            "\u001b[K     |████████████████████████████████| 54 kB 1.5 MB/s \n",
            "\u001b[?25hRequirement already satisfied: tabulate in /usr/local/lib/python3.7/dist-packages (from metric-visualizer) (0.8.9)\n",
            "Requirement already satisfied: findfile in /usr/local/lib/python3.7/dist-packages (from metric-visualizer) (1.7.9.4)\n",
            "Requirement already satisfied: matplotlib in /usr/local/lib/python3.7/dist-packages (from metric-visualizer) (3.2.2)\n",
            "Requirement already satisfied: kiwisolver>=1.0.1 in /usr/local/lib/python3.7/dist-packages (from matplotlib->metric-visualizer) (1.4.3)\n",
            "Requirement already satisfied: numpy>=1.11 in /usr/local/lib/python3.7/dist-packages (from matplotlib->metric-visualizer) (1.21.6)\n",
            "Requirement already satisfied: pyparsing!=2.0.4,!=2.1.2,!=2.1.6,>=2.0.1 in /usr/local/lib/python3.7/dist-packages (from matplotlib->metric-visualizer) (3.0.9)\n",
            "Requirement already satisfied: cycler>=0.10 in /usr/local/lib/python3.7/dist-packages (from matplotlib->metric-visualizer) (0.11.0)\n",
            "Requirement already satisfied: python-dateutil>=2.1 in /usr/local/lib/python3.7/dist-packages (from matplotlib->metric-visualizer) (2.8.2)\n",
            "Requirement already satisfied: typing-extensions in /usr/local/lib/python3.7/dist-packages (from kiwisolver>=1.0.1->matplotlib->metric-visualizer) (4.1.1)\n",
            "Requirement already satisfied: six>=1.5 in /usr/local/lib/python3.7/dist-packages (from python-dateutil>=2.1->matplotlib->metric-visualizer) (1.15.0)\n",
            "Requirement already satisfied: Pillow in /usr/local/lib/python3.7/dist-packages (from tikzplotlib->metric-visualizer) (7.1.2)\n",
            "Collecting webcolors\n",
            "  Downloading webcolors-1.12-py3-none-any.whl (9.9 kB)\n",
            "Installing collected packages: webcolors, tikzplotlib, metric-visualizer\n",
            "Successfully installed metric-visualizer-0.4.23 tikzplotlib-0.10.1 webcolors-1.12\n",
            "Looking in indexes: https://pypi.org/simple, https://us-python.pkg.dev/colab-wheels/public/simple/\n",
            "Requirement already satisfied: spacy in /usr/local/lib/python3.7/dist-packages (3.3.1)\n",
            "Requirement already satisfied: wasabi<1.1.0,>=0.9.1 in /usr/local/lib/python3.7/dist-packages (from spacy) (0.9.1)\n",
            "Requirement already satisfied: requests<3.0.0,>=2.13.0 in /usr/local/lib/python3.7/dist-packages (from spacy) (2.23.0)\n",
            "Requirement already satisfied: srsly<3.0.0,>=2.4.3 in /usr/local/lib/python3.7/dist-packages (from spacy) (2.4.3)\n",
            "Requirement already satisfied: setuptools in /usr/local/lib/python3.7/dist-packages (from spacy) (57.4.0)\n",
            "Requirement already satisfied: murmurhash<1.1.0,>=0.28.0 in /usr/local/lib/python3.7/dist-packages (from spacy) (1.0.7)\n",
            "Requirement already satisfied: preshed<3.1.0,>=3.0.2 in /usr/local/lib/python3.7/dist-packages (from spacy) (3.0.6)\n",
            "Requirement already satisfied: cymem<2.1.0,>=2.0.2 in /usr/local/lib/python3.7/dist-packages (from spacy) (2.0.6)\n",
            "Requirement already satisfied: typer<0.5.0,>=0.3.0 in /usr/local/lib/python3.7/dist-packages (from spacy) (0.4.1)\n",
            "Requirement already satisfied: packaging>=20.0 in /usr/local/lib/python3.7/dist-packages (from spacy) (21.3)\n",
            "Requirement already satisfied: thinc<8.1.0,>=8.0.14 in /usr/local/lib/python3.7/dist-packages (from spacy) (8.0.17)\n",
            "Requirement already satisfied: tqdm<5.0.0,>=4.38.0 in /usr/local/lib/python3.7/dist-packages (from spacy) (4.64.0)\n",
            "Requirement already satisfied: langcodes<4.0.0,>=3.2.0 in /usr/local/lib/python3.7/dist-packages (from spacy) (3.3.0)\n",
            "Requirement already satisfied: catalogue<2.1.0,>=2.0.6 in /usr/local/lib/python3.7/dist-packages (from spacy) (2.0.7)\n",
            "Requirement already satisfied: pathy>=0.3.5 in /usr/local/lib/python3.7/dist-packages (from spacy) (0.6.1)\n",
            "Requirement already satisfied: pydantic!=1.8,!=1.8.1,<1.9.0,>=1.7.4 in /usr/local/lib/python3.7/dist-packages (from spacy) (1.8.2)\n",
            "Requirement already satisfied: spacy-loggers<2.0.0,>=1.0.0 in /usr/local/lib/python3.7/dist-packages (from spacy) (1.0.2)\n",
            "Requirement already satisfied: spacy-legacy<3.1.0,>=3.0.9 in /usr/local/lib/python3.7/dist-packages (from spacy) (3.0.9)\n",
            "Requirement already satisfied: jinja2 in /usr/local/lib/python3.7/dist-packages (from spacy) (2.11.3)\n",
            "Requirement already satisfied: typing-extensions<4.2.0,>=3.7.4 in /usr/local/lib/python3.7/dist-packages (from spacy) (4.1.1)\n",
            "Requirement already satisfied: numpy>=1.15.0 in /usr/local/lib/python3.7/dist-packages (from spacy) (1.21.6)\n",
            "Requirement already satisfied: blis<0.8.0,>=0.4.0 in /usr/local/lib/python3.7/dist-packages (from spacy) (0.7.7)\n",
            "Requirement already satisfied: zipp>=0.5 in /usr/local/lib/python3.7/dist-packages (from catalogue<2.1.0,>=2.0.6->spacy) (3.8.0)\n",
            "Requirement already satisfied: pyparsing!=3.0.5,>=2.0.2 in /usr/local/lib/python3.7/dist-packages (from packaging>=20.0->spacy) (3.0.9)\n",
            "Requirement already satisfied: smart-open<6.0.0,>=5.0.0 in /usr/local/lib/python3.7/dist-packages (from pathy>=0.3.5->spacy) (5.2.1)\n",
            "Requirement already satisfied: chardet<4,>=3.0.2 in /usr/local/lib/python3.7/dist-packages (from requests<3.0.0,>=2.13.0->spacy) (3.0.4)\n",
            "Requirement already satisfied: certifi>=2017.4.17 in /usr/local/lib/python3.7/dist-packages (from requests<3.0.0,>=2.13.0->spacy) (2022.6.15)\n",
            "Requirement already satisfied: urllib3!=1.25.0,!=1.25.1,<1.26,>=1.21.1 in /usr/local/lib/python3.7/dist-packages (from requests<3.0.0,>=2.13.0->spacy) (1.24.3)\n",
            "Requirement already satisfied: idna<3,>=2.5 in /usr/local/lib/python3.7/dist-packages (from requests<3.0.0,>=2.13.0->spacy) (2.10)\n",
            "Requirement already satisfied: click<9.0.0,>=7.1.1 in /usr/local/lib/python3.7/dist-packages (from typer<0.5.0,>=0.3.0->spacy) (7.1.2)\n",
            "Requirement already satisfied: MarkupSafe>=0.23 in /usr/local/lib/python3.7/dist-packages (from jinja2->spacy) (2.0.1)\n"
          ]
        }
      ],
      "source": [
        "!pip install seqeval\n",
        "!pip install metric-visualizer\n",
        "!pip install spacy"
      ]
    },
    {
      "cell_type": "code",
      "execution_count": null,
      "metadata": {
        "colab": {
          "base_uri": "https://localhost:8080/"
        },
        "id": "lNt2bpC5JFLL",
        "outputId": "9dd792d6-70a2-4606-cb4d-29e89d923aea"
      },
      "outputs": [
        {
          "output_type": "stream",
          "name": "stdout",
          "text": [
            "Looking in indexes: https://pypi.org/simple, https://us-python.pkg.dev/colab-wheels/public/simple/\n",
            "Requirement already satisfied: networkx in /usr/local/lib/python3.7/dist-packages (2.6.3)\n",
            "Looking in indexes: https://pypi.org/simple, https://us-python.pkg.dev/colab-wheels/public/simple/\n",
            "Requirement already satisfied: typing_extensions in /usr/local/lib/python3.7/dist-packages (4.1.1)\n",
            "Looking in indexes: https://pypi.org/simple, https://us-python.pkg.dev/colab-wheels/public/simple/\n",
            "Requirement already satisfied: tqdm in /usr/local/lib/python3.7/dist-packages (4.64.0)\n",
            "Looking in indexes: https://pypi.org/simple, https://us-python.pkg.dev/colab-wheels/public/simple/\n",
            "Requirement already satisfied: termcolor in /usr/local/lib/python3.7/dist-packages (1.1.0)\n",
            "Looking in indexes: https://pypi.org/simple, https://us-python.pkg.dev/colab-wheels/public/simple/\n",
            "Requirement already satisfied: gdown in /usr/local/lib/python3.7/dist-packages (4.4.0)\n",
            "Requirement already satisfied: six in /usr/local/lib/python3.7/dist-packages (from gdown) (1.15.0)\n",
            "Requirement already satisfied: beautifulsoup4 in /usr/local/lib/python3.7/dist-packages (from gdown) (4.6.3)\n",
            "Requirement already satisfied: tqdm in /usr/local/lib/python3.7/dist-packages (from gdown) (4.64.0)\n",
            "Requirement already satisfied: filelock in /usr/local/lib/python3.7/dist-packages (from gdown) (3.7.1)\n",
            "Requirement already satisfied: requests[socks] in /usr/local/lib/python3.7/dist-packages (from gdown) (2.23.0)\n",
            "Requirement already satisfied: chardet<4,>=3.0.2 in /usr/local/lib/python3.7/dist-packages (from requests[socks]->gdown) (3.0.4)\n",
            "Requirement already satisfied: idna<3,>=2.5 in /usr/local/lib/python3.7/dist-packages (from requests[socks]->gdown) (2.10)\n",
            "Requirement already satisfied: certifi>=2017.4.17 in /usr/local/lib/python3.7/dist-packages (from requests[socks]->gdown) (2022.6.15)\n",
            "Requirement already satisfied: urllib3!=1.25.0,!=1.25.1,<1.26,>=1.21.1 in /usr/local/lib/python3.7/dist-packages (from requests[socks]->gdown) (1.24.3)\n",
            "Requirement already satisfied: PySocks!=1.5.7,>=1.5.6 in /usr/local/lib/python3.7/dist-packages (from requests[socks]->gdown) (1.7.1)\n",
            "Looking in indexes: https://pypi.org/simple, https://us-python.pkg.dev/colab-wheels/public/simple/\n",
            "Requirement already satisfied: torch in /usr/local/lib/python3.7/dist-packages (1.11.0+cu113)\n",
            "Requirement already satisfied: typing-extensions in /usr/local/lib/python3.7/dist-packages (from torch) (4.1.1)\n",
            "Looking in indexes: https://pypi.org/simple, https://us-python.pkg.dev/colab-wheels/public/simple/\n",
            "Collecting sentencepiece\n",
            "  Downloading sentencepiece-0.1.96-cp37-cp37m-manylinux_2_17_x86_64.manylinux2014_x86_64.whl (1.2 MB)\n",
            "\u001b[K     |████████████████████████████████| 1.2 MB 26.7 MB/s \n",
            "\u001b[?25hInstalling collected packages: sentencepiece\n",
            "Successfully installed sentencepiece-0.1.96\n"
          ]
        }
      ],
      "source": [
        "!pip install networkx\n",
        "!pip install typing_extensions\n",
        "!pip install tqdm\n",
        "!pip install termcolor\n",
        "!pip install gdown\n",
        "!pip install torch\n",
        "!pip install sentencepiece"
      ]
    },
    {
      "cell_type": "markdown",
      "source": [
        "(Optional)\n",
        "**Clone the ABSA dataset repository .**"
      ],
      "metadata": {
        "id": "4cZqwJ2GEdAi"
      }
    },
    {
      "cell_type": "code",
      "execution_count": null,
      "metadata": {
        "colab": {
          "base_uri": "https://localhost:8080/"
        },
        "id": "ibpZNthwJ6ZT",
        "outputId": "ec6cf989-0315-4eef-91ba-8e67ff49d0fe"
      },
      "outputs": [
        {
          "output_type": "stream",
          "name": "stdout",
          "text": [
            "Cloning into 'ABSADatasets'...\n",
            "remote: Enumerating objects: 5719, done.\u001b[K\n",
            "remote: Counting objects: 100% (1539/1539), done.\u001b[K\n",
            "remote: Compressing objects: 100% (665/665), done.\u001b[K\n",
            "remote: Total 5719 (delta 1019), reused 1348 (delta 872), pack-reused 4180\u001b[K\n",
            "Receiving objects: 100% (5719/5719), 45.21 MiB | 21.83 MiB/s, done.\n",
            "Resolving deltas: 100% (4387/4387), done.\n"
          ]
        }
      ],
      "source": [
        "!git clone https://github.com/yangheng95/ABSADatasets.git"
      ]
    },
    {
      "cell_type": "markdown",
      "source": [
        "**Generate the correct format of dataset for atepc task**"
      ],
      "metadata": {
        "id": "CcQbAlqyZfTY"
      }
    },
    {
      "cell_type": "code",
      "source": [
        "from pyabsa.utils.file_utils import convert_apc_set_to_atepc_set\n",
        "from pyabsa.functional import ABSADatasetList\n",
        "\n",
        "# for custom datasets, absolute path recommended for this function\n",
        "convert_apc_set_to_atepc_set('/content/drive/MyDrive/Entity_Sentiment_Analysis/Nice_dataset.apc.train.txt')\n",
        "convert_apc_set_to_atepc_set('/content/drive/MyDrive/Entity_Sentiment_Analysis/Nice_dataset.apc.test.txt')"
      ],
      "metadata": {
        "colab": {
          "base_uri": "https://localhost:8080/"
        },
        "id": "laUoIx9Tl0FQ",
        "outputId": "f00627a3-f0c5-4d5e-ba5f-efb08dd5a2a5"
      },
      "execution_count": null,
      "outputs": [
        {
          "output_type": "stream",
          "name": "stdout",
          "text": [
            "To ensure your conversion is successful, make sure the dataset name contain \"apc\" and \"dataset\" string \n",
            "Find datasets files at /content/PyABSA/integrated_datasets/atepc_datasets/123.dataset/Nice_dataset.apc.train.txt:\n",
            "coverting integrated_datasets/atepc_datasets/123.dataset/Nice_dataset.apc.train.txt to integrated_datasets/atepc_datasets/123.dataset/Nice_dataset.apc.train.txt.atepc\n",
            "finished\n",
            "To ensure your conversion is successful, make sure the dataset name contain \"apc\" and \"dataset\" string \n",
            "Find datasets files at /content/PyABSA/integrated_datasets/atepc_datasets/123.dataset/Nice_dataset.apc.test.txt:\n",
            "coverting integrated_datasets/atepc_datasets/123.dataset/Nice_dataset.apc.test.txt to integrated_datasets/atepc_datasets/123.dataset/Nice_dataset.apc.test.txt.atepc\n",
            "finished\n"
          ]
        }
      ]
    },
    {
      "cell_type": "markdown",
      "source": [
        "**Train the model**"
      ],
      "metadata": {
        "id": "AVC0TtRsaeRK"
      }
    },
    {
      "cell_type": "code",
      "execution_count": null,
      "metadata": {
        "colab": {
          "base_uri": "https://localhost:8080/"
        },
        "id": "VLeqxl_jE-hc",
        "outputId": "1c90455f-b2b9-4d93-815a-42b2a15bceab"
      },
      "outputs": [
        {
          "metadata": {
            "tags": null
          },
          "name": "stdout",
          "output_type": "stream",
          "text": [
            "Loading Restaurant14 dataset from: https://github.com/yangheng95/ABSADatasets\n",
            "FindFile Warning: multiple targets ['integrated_datasets/atepc_datasets/110.SemEval/114.restaurant14', 'integrated_datasets/atepc_datasets/110.SemEval/112.arts_restaurant14', 'ABSADatasets/datasets/atepc_datasets/110.SemEval/114.restaurant14', 'ABSADatasets/datasets/atepc_datasets/110.SemEval/112.arts_restaurant14'] found, only return the shortest path: <\u001b[33mintegrated_datasets/atepc_datasets/110.SemEval/114.restaurant14\u001b[0m>\n"
          ]
        },
        {
          "metadata": {
            "tags": null
          },
          "name": "stderr",
          "output_type": "stream",
          "text": [
            "Special tokens have been added in the vocabulary, make sure the associated word embeddings are fine-tuned or trained.\n",
            "Special tokens have been added in the vocabulary, make sure the associated word embeddings are fine-tuned or trained.\n",
            "Some weights of the model checkpoint at microsoft/deberta-v3-base were not used when initializing DebertaV2Model: ['mask_predictions.dense.bias', 'lm_predictions.lm_head.dense.bias', 'mask_predictions.LayerNorm.weight', 'lm_predictions.lm_head.bias', 'lm_predictions.lm_head.LayerNorm.weight', 'mask_predictions.LayerNorm.bias', 'mask_predictions.dense.weight', 'lm_predictions.lm_head.dense.weight', 'lm_predictions.lm_head.LayerNorm.bias', 'mask_predictions.classifier.bias', 'mask_predictions.classifier.weight']\n",
            "- This IS expected if you are initializing DebertaV2Model from the checkpoint of a model trained on another task or with another architecture (e.g. initializing a BertForSequenceClassification model from a BertForPreTraining model).\n",
            "- This IS NOT expected if you are initializing DebertaV2Model from the checkpoint of a model that you expect to be exactly identical (initializing a BertForSequenceClassification model from a BertForSequenceClassification model).\n",
            " 19%|█▉        | 702/3608 [00:01<00:06, 419.33it/s, convert examples to features]"
          ]
        },
        {
          "metadata": {
            "tags": null
          },
          "name": "stdout",
          "output_type": "stream",
          "text": [
            "\u001b[33mAspectTooLongWarning -> <aspect: fried mini buns with the condensed milk and the assorted fruits on beancurd> is too long, <text: The waitress remembers me and is very friendly , she knows what my regular is and that ' s the fried mini buns with the condensed milk and the assorted fruits on beancurd .>, <polarity: Positive>\u001b[0m\n"
          ]
        },
        {
          "metadata": {
            "tags": null
          },
          "name": "stderr",
          "output_type": "stream",
          "text": [
            " 50%|████▉     | 1796/3608 [00:04<00:04, 366.34it/s, convert examples to features]"
          ]
        },
        {
          "metadata": {
            "tags": null
          },
          "name": "stdout",
          "output_type": "stream",
          "text": [
            "\u001b[33mAspectTooLongWarning -> <aspect: salad with perfectly marinated cucumbers and tomatoes with lots of shrimp and basil> is too long, <text: I ate clams oreganta and spectacular salad with perfectly marinated cucumbers and tomatoes with lots of shrimp and basil .>, <polarity: Positive>\u001b[0m\n"
          ]
        },
        {
          "metadata": {
            "tags": null
          },
          "name": "stderr",
          "output_type": "stream",
          "text": [
            " 58%|█████▊    | 2085/3608 [00:05<00:03, 417.17it/s, convert examples to features]"
          ]
        },
        {
          "metadata": {
            "tags": null
          },
          "name": "stdout",
          "output_type": "stream",
          "text": [
            "\u001b[33mAspectTooLongWarning -> <aspect: Godmother pizza ( a sort of traditional flat pizza with an olive oil - brushed crust and less tomato sauce than usual )> is too long, <text: But they ' ve done a really nice job of offering all the typical pizzeria faves plus some terrific specials like the Godmother pizza ( a sort of traditional flat pizza with an olive oil - brushed crust and less tomato sauce than usual ) .>, <polarity: Positive>\u001b[0m\n"
          ]
        },
        {
          "metadata": {
            "tags": null
          },
          "name": "stderr",
          "output_type": "stream",
          "text": [
            " 93%|█████████▎| 3360/3608 [00:08<00:00, 398.63it/s, convert examples to features]"
          ]
        },
        {
          "metadata": {
            "tags": null
          },
          "name": "stdout",
          "output_type": "stream",
          "text": [
            "\u001b[33mAspectTooLongWarning -> <aspect: egg noodles in the beef broth with shrimp dumplings and slices of BBQ roast pork> is too long, <text: I fell in love with the egg noodles in the beef broth with shrimp dumplings and slices of BBQ roast pork .>, <polarity: Positive>\u001b[0m\n"
          ]
        },
        {
          "metadata": {
            "tags": null
          },
          "name": "stderr",
          "output_type": "stream",
          "text": [
            "100%|██████████| 3608/3608 [00:09<00:00, 383.84it/s, convert examples to features]\n"
          ]
        },
        {
          "metadata": {
            "tags": null
          },
          "name": "stdout",
          "output_type": "stream",
          "text": [
            "Dataset Label Details: {'Neutral': 637, 'Negative': 807, 'Positive': 2160, 'Sum': 3604}\n"
          ]
        },
        {
          "metadata": {
            "tags": null
          },
          "name": "stderr",
          "output_type": "stream",
          "text": [
            " 58%|█████▊    | 647/1120 [00:01<00:01, 404.14it/s, convert examples to features]"
          ]
        },
        {
          "metadata": {
            "tags": null
          },
          "name": "stdout",
          "output_type": "stream",
          "text": [
            "\u001b[33mAspectTooLongWarning -> <aspect: Mediterranean salads - - layered with beets , goat cheese and walnuts> is too long, <text: Generously garnished , organic grilled burgers are the most popular dish , but the Jerusalem market - style falafel wraps and Mediterranean salads - - layered with beets , goat cheese and walnuts - - are equally scrumptious .>, <polarity: Positive>\u001b[0m\n"
          ]
        },
        {
          "metadata": {
            "tags": null
          },
          "name": "stderr",
          "output_type": "stream",
          "text": [
            "100%|██████████| 1120/1120 [00:02<00:00, 395.37it/s, convert examples to features]\n"
          ]
        },
        {
          "metadata": {
            "tags": null
          },
          "name": "stdout",
          "output_type": "stream",
          "text": [
            "\u001b[33mAspectTooLongWarning -> <aspect: Greek yogurt ( with cuccumber , dill , and garlic )> is too long, <text: Creamy appetizers - - taramasalata , eggplant salad , and Greek yogurt ( with cuccumber , dill , and garlic ) taste excellent when on warm pitas .>, <polarity: Positive>\u001b[0m\n",
            "Dataset Label Details: {'Neutral': 196, 'Negative': 196, 'Positive': 726, 'Sum': 1118}\n",
            "Caching dataset... please remove cached dataset if change model or dataset\n",
            "2022-07-01 22:55:37,873 INFO: cuda memory allocated:4579677184\n",
            "2022-07-01 22:55:37,874 INFO: ABSADatasetsVersion:2022.06.30\t-->\tCalling Count:0\n",
            "2022-07-01 22:55:37,879 INFO: IOB_label_to_index:{'B-ASP': 1, 'I-ASP': 2, 'O': 3, '[CLS]': 4, '[SEP]': 5}\t-->\tCalling Count:1\n",
            "2022-07-01 22:55:37,882 INFO: MV:<metric_visualizer.metric_visualizer.MetricVisualizer object at 0x7f7965e65150>\t-->\tCalling Count:0\n",
            "2022-07-01 22:55:37,884 INFO: PyABSAVersion:1.15.6\t-->\tCalling Count:0\n",
            "2022-07-01 22:55:37,890 INFO: SRD:3\t-->\tCalling Count:9444\n",
            "2022-07-01 22:55:37,892 INFO: TorchVersion:1.11.0+cu113+cuda11.3\t-->\tCalling Count:0\n",
            "2022-07-01 22:55:37,893 INFO: TransformersVersion:4.20.1\t-->\tCalling Count:0\n",
            "2022-07-01 22:55:37,895 INFO: auto_device:True\t-->\tCalling Count:1\n",
            "2022-07-01 22:55:37,898 INFO: batch_size:16\t-->\tCalling Count:4\n",
            "2022-07-01 22:55:37,900 INFO: cache_dataset:True\t-->\tCalling Count:1\n",
            "2022-07-01 22:55:37,901 INFO: dataset_file:{'train': ['integrated_datasets/atepc_datasets/110.SemEval/114.restaurant14/Restaurants_Train.xml.seg.atepc'], 'test': ['integrated_datasets/atepc_datasets/110.SemEval/114.restaurant14/Restaurants_Test_Gold.xml.seg.atepc'], 'valid': []}\t-->\tCalling Count:5\n",
            "2022-07-01 22:55:37,902 INFO: dataset_name:Restaurant14\t-->\tCalling Count:3\n",
            "2022-07-01 22:55:37,905 INFO: device:cuda:0\t-->\tCalling Count:5\n",
            "2022-07-01 22:55:37,906 INFO: device_name:Tesla T4\t-->\tCalling Count:0\n",
            "2022-07-01 22:55:37,908 INFO: dropout:0.5\t-->\tCalling Count:1\n",
            "2022-07-01 22:55:37,909 INFO: dynamic_truncate:True\t-->\tCalling Count:9444\n",
            "2022-07-01 22:55:37,910 INFO: embed_dim:768\t-->\tCalling Count:0\n",
            "2022-07-01 22:55:37,911 INFO: evaluate_begin:0\t-->\tCalling Count:0\n",
            "2022-07-01 22:55:37,913 INFO: gradient_accumulation_steps:1\t-->\tCalling Count:3\n",
            "2022-07-01 22:55:37,915 INFO: hidden_dim:768\t-->\tCalling Count:6\n",
            "2022-07-01 22:55:37,916 INFO: index_to_IOB_label:{1: 'B-ASP', 2: 'I-ASP', 3: 'O', 4: '[CLS]', 5: '[SEP]'}\t-->\tCalling Count:0\n",
            "2022-07-01 22:55:37,918 INFO: index_to_label:{0: 'Negative', 1: 'Neutral', 2: 'Positive'}\t-->\tCalling Count:2\n",
            "2022-07-01 22:55:37,919 INFO: initializer:xavier_uniform_\t-->\tCalling Count:0\n",
            "2022-07-01 22:55:37,921 INFO: l2reg:1e-05\t-->\tCalling Count:2\n",
            "2022-07-01 22:55:37,922 INFO: label_list:['B-ASP', 'I-ASP', 'O', '[CLS]', '[SEP]']\t-->\tCalling Count:2\n",
            "2022-07-01 22:55:37,924 INFO: label_to_index:{'Negative': 0, 'Neutral': 1, 'Positive': 2}\t-->\tCalling Count:0\n",
            "2022-07-01 22:55:37,926 INFO: lcf:cdw\t-->\tCalling Count:0\n",
            "2022-07-01 22:55:37,927 INFO: learning_rate:2e-05\t-->\tCalling Count:1\n",
            "2022-07-01 22:55:37,929 INFO: log_step:50\t-->\tCalling Count:0\n",
            "2022-07-01 22:55:37,931 INFO: max_seq_len:80\t-->\tCalling Count:33056\n",
            "2022-07-01 22:55:37,932 INFO: model:<class 'pyabsa.core.atepc.models.fast_lcf_atepc.FAST_LCF_ATEPC'>\t-->\tCalling Count:5\n",
            "2022-07-01 22:55:37,933 INFO: model_name:fast_lcf_atepc\t-->\tCalling Count:4724\n",
            "2022-07-01 22:55:37,935 INFO: model_path_to_save:checkpoints\t-->\tCalling Count:2\n",
            "2022-07-01 22:55:37,937 INFO: num_epoch:10\t-->\tCalling Count:1\n",
            "2022-07-01 22:55:37,938 INFO: num_labels:6\t-->\tCalling Count:3\n",
            "2022-07-01 22:55:37,939 INFO: optimizer:adamw\t-->\tCalling Count:2\n",
            "2022-07-01 22:55:37,941 INFO: patience:99999\t-->\tCalling Count:0\n",
            "2022-07-01 22:55:37,942 INFO: polarities_dim:3\t-->\tCalling Count:1\n",
            "2022-07-01 22:55:37,944 INFO: pretrained_bert:microsoft/deberta-v3-base\t-->\tCalling Count:4\n",
            "2022-07-01 22:55:37,945 INFO: save_mode:1\t-->\tCalling Count:0\n",
            "2022-07-01 22:55:37,946 INFO: seed:52\t-->\tCalling Count:7\n",
            "2022-07-01 22:55:37,948 INFO: sep_indices:2\t-->\tCalling Count:0\n",
            "2022-07-01 22:55:37,949 INFO: show_metric:False\t-->\tCalling Count:0\n",
            "2022-07-01 22:55:37,951 INFO: spacy_model:en_core_web_sm\t-->\tCalling Count:3\n",
            "2022-07-01 22:55:37,952 INFO: srd_alignment:True\t-->\tCalling Count:0\n",
            "2022-07-01 22:55:37,954 INFO: use_bert_spc:False\t-->\tCalling Count:0\n",
            "2022-07-01 22:55:37,955 INFO: use_syntax_based_SRD:False\t-->\tCalling Count:4722\n",
            "2022-07-01 22:55:37,956 INFO: warmup_step:-1\t-->\tCalling Count:0\n",
            "2022-07-01 22:55:37,958 INFO: window:lr\t-->\tCalling Count:0\n",
            "2022-07-01 22:55:37,994 INFO: ***** Running training for Aspect Term Extraction *****\n",
            "2022-07-01 22:55:37,996 INFO:   Num examples = 3604\n",
            "2022-07-01 22:55:37,997 INFO:   Batch size = 16\n",
            "2022-07-01 22:55:37,998 INFO:   Num steps = 2250\n"
          ]
        },
        {
          "output_type": "stream",
          "name": "stderr",
          "text": [
            "100%|██████████| 226/226 [03:44<00:00,  1.00it/s, Epoch:0 | loss_apc:0.8511 | loss_ate:0.0853 | APC_ACC: 78.09(max:78.09) | APC_F1: 56.9(max:56.9) | ATE_F1: 85.37(max:86.58)]\n",
            "100%|██████████| 226/226 [03:40<00:00,  1.02it/s, Epoch:1 | loss_apc:0.4296 | loss_ate:0.0881 | APC_ACC: 78.8(max:83.81) | APC_F1: 64.83(max:73.6) | ATE_F1: 84.12(max:87.51)]\n",
            "100%|██████████| 226/226 [03:38<00:00,  1.03it/s, Epoch:2 | loss_apc:0.6171 | loss_ate:0.0295 | APC_ACC: 84.35(max:85.06) | APC_F1: 76.1(max:76.99) | ATE_F1: 88.94(max:88.94)]\n",
            "100%|██████████| 226/226 [03:27<00:00,  1.09it/s, Epoch:3 | loss_apc:0.4846 | loss_ate:0.0525 | APC_ACC: 83.72(max:86.14) | APC_F1: 73.84(max:79.15) | ATE_F1: 87.87(max:88.94)]\n",
            "100%|██████████| 226/226 [03:30<00:00,  1.07it/s, Epoch:4 | loss_apc:0.7755 | loss_ate:0.0862 | APC_ACC: 87.12(max:87.12) | APC_F1: 81.09(max:81.09) | ATE_F1: 89.44(max:89.44)]\n",
            "100%|██████████| 226/226 [03:24<00:00,  1.10it/s, Epoch:5 | loss_apc:0.6934 | loss_ate:0.0359 | APC_ACC: 85.51(max:87.12) | APC_F1: 76.83(max:81.09) | ATE_F1: 89.33(max:89.44)]\n",
            "100%|██████████| 226/226 [03:33<00:00,  1.06it/s, Epoch:6 | loss_apc:0.0407 | loss_ate:0.0398 | APC_ACC: 85.15(max:87.39) | APC_F1: 77.14(max:81.37) | ATE_F1: 89.42(max:89.75)]\n",
            "100%|██████████| 226/226 [03:27<00:00,  1.09it/s, Epoch:7 | loss_apc:0.3432 | loss_ate:0.0286 | APC_ACC: 86.23(max:87.39) | APC_F1: 79.3(max:81.37) | ATE_F1: 85.03(max:90.12)]\n",
            "100%|██████████| 226/226 [03:27<00:00,  1.09it/s, Epoch:8 | loss_apc:0.0577 | loss_ate:0.0049 | APC_ACC: 85.69(max:87.48) | APC_F1: 78.35(max:81.37) | ATE_F1: 87.81(max:90.12)]\n",
            "100%|██████████| 226/226 [03:24<00:00,  1.11it/s, Epoch:9 | loss_apc:0.0285 | loss_ate:0.0161 | APC_ACC: 85.33(max:87.48) | APC_F1: 77.88(max:81.37) | ATE_F1: 86.38(max:90.12)]"
          ]
        },
        {
          "output_type": "stream",
          "name": "stdout",
          "text": [
            "2022-07-01 23:30:58,193 INFO:  ------------------------------------- Metric Visualizer ------------------------------------- \n",
            "╒══════════════════╤═════════════════════════════╤════════════════════════════╤═════════════════════════════════════════════════════════════════════════╕\n",
            "│ Metric           │ Model & Dataset             │ Values (First 10 values)   │ Summary                                                                 │\n",
            "╞══════════════════╪═════════════════════════════╪════════════════════════════╪═════════════════════════════════════════════════════════════════════════╡\n",
            "│ Max-APC-Test-Acc │ FAST_LCF_ATEPC-Restaurant14 │ [87.48]                    │ ['Avg:87.48, Median: 87.48, IQR: 0.0, STD:0.0, Max: 87.48, Min: 87.48'] │\n",
            "├──────────────────┼─────────────────────────────┼────────────────────────────┼─────────────────────────────────────────────────────────────────────────┤\n",
            "│ Max-APC-Test-F1  │ FAST_LCF_ATEPC-Restaurant14 │ [81.37]                    │ ['Avg:81.37, Median: 81.37, IQR: 0.0, STD:0.0, Max: 81.37, Min: 81.37'] │\n",
            "├──────────────────┼─────────────────────────────┼────────────────────────────┼─────────────────────────────────────────────────────────────────────────┤\n",
            "│ Max-ATE-Test-F1  │ FAST_LCF_ATEPC-Restaurant14 │ [90.12]                    │ ['Avg:90.12, Median: 90.12, IQR: 0.0, STD:0.0, Max: 90.12, Min: 90.12'] │\n",
            "╘══════════════════╧═════════════════════════════╧════════════════════════════╧═════════════════════════════════════════════════════════════════════════╛\n",
            " -------------------- https://github.com/yangheng95/metric_visualizer --------------------\n",
            "\n",
            "Training finished, we hope you can share your checkpoint with community, please see: https://github.com/yangheng95/PyABSA/blob/release/demos/documents/share-checkpoint.md\n",
            "2022-07-01 23:30:58,196 INFO: ABSADatasetsVersion:2022.06.30\t-->\tCalling Count:0\n",
            "2022-07-01 23:30:58,201 INFO: IOB_label_to_index:{'B-ASP': 1, 'I-ASP': 2, 'O': 3, '[CLS]': 4, '[SEP]': 5}\t-->\tCalling Count:1\n",
            "2022-07-01 23:30:58,205 INFO: MV:<metric_visualizer.metric_visualizer.MetricVisualizer object at 0x7f7965e65150>\t-->\tCalling Count:5\n",
            "2022-07-01 23:30:58,207 INFO: PyABSAVersion:1.15.6\t-->\tCalling Count:0\n",
            "2022-07-01 23:30:58,210 INFO: SRD:3\t-->\tCalling Count:9444\n",
            "2022-07-01 23:30:58,214 INFO: TorchVersion:1.11.0+cu113+cuda11.3\t-->\tCalling Count:0\n",
            "2022-07-01 23:30:58,216 INFO: TransformersVersion:4.20.1\t-->\tCalling Count:0\n",
            "2022-07-01 23:30:58,217 INFO: auto_device:True\t-->\tCalling Count:2261\n",
            "2022-07-01 23:30:58,219 INFO: batch_size:16\t-->\tCalling Count:5\n",
            "2022-07-01 23:30:58,221 INFO: cache_dataset:True\t-->\tCalling Count:1\n",
            "2022-07-01 23:30:58,223 INFO: dataset_file:{'train': ['integrated_datasets/atepc_datasets/110.SemEval/114.restaurant14/Restaurants_Train.xml.seg.atepc'], 'test': ['integrated_datasets/atepc_datasets/110.SemEval/114.restaurant14/Restaurants_Test_Gold.xml.seg.atepc'], 'valid': []}\t-->\tCalling Count:95\n",
            "2022-07-01 23:30:58,225 INFO: dataset_name:Restaurant14\t-->\tCalling Count:32\n",
            "2022-07-01 23:30:58,226 INFO: device:cuda:0\t-->\tCalling Count:77073\n",
            "2022-07-01 23:30:58,229 INFO: device_name:Tesla T4\t-->\tCalling Count:0\n",
            "2022-07-01 23:30:58,230 INFO: dropout:0.5\t-->\tCalling Count:1\n",
            "2022-07-01 23:30:58,233 INFO: dynamic_truncate:True\t-->\tCalling Count:9444\n",
            "2022-07-01 23:30:58,234 INFO: embed_dim:768\t-->\tCalling Count:0\n",
            "2022-07-01 23:30:58,236 INFO: evaluate_begin:0\t-->\tCalling Count:91\n",
            "2022-07-01 23:30:58,238 INFO: gradient_accumulation_steps:1\t-->\tCalling Count:3\n",
            "2022-07-01 23:30:58,239 INFO: hidden_dim:768\t-->\tCalling Count:6\n",
            "2022-07-01 23:30:58,241 INFO: index_to_IOB_label:{1: 'B-ASP', 2: 'I-ASP', 3: 'O', 4: '[CLS]', 5: '[SEP]'}\t-->\tCalling Count:0\n",
            "2022-07-01 23:30:58,242 INFO: index_to_label:{0: 'Negative', 1: 'Neutral', 2: 'Positive'}\t-->\tCalling Count:2\n",
            "2022-07-01 23:30:58,244 INFO: initializer:xavier_uniform_\t-->\tCalling Count:0\n",
            "2022-07-01 23:30:58,246 INFO: l2reg:1e-05\t-->\tCalling Count:2\n",
            "2022-07-01 23:30:58,248 INFO: label_list:['B-ASP', 'I-ASP', 'O', '[CLS]', '[SEP]']\t-->\tCalling Count:2135162\n",
            "2022-07-01 23:30:58,250 INFO: label_to_index:{'Negative': 0, 'Neutral': 1, 'Positive': 2}\t-->\tCalling Count:0\n",
            "2022-07-01 23:30:58,252 INFO: lcf:cdw\t-->\tCalling Count:17148\n",
            "2022-07-01 23:30:58,253 INFO: learning_rate:2e-05\t-->\tCalling Count:1\n",
            "2022-07-01 23:30:58,257 INFO: log_step:50\t-->\tCalling Count:2261\n",
            "2022-07-01 23:30:58,260 INFO: max_seq_len:80\t-->\tCalling Count:50176\n",
            "2022-07-01 23:30:58,262 INFO: max_test_metrics:{'max_apc_test_acc': 87.48, 'max_apc_test_f1': 81.37, 'max_ate_test_f1': 90.12}\t-->\tCalling Count:639\n",
            "2022-07-01 23:30:58,263 INFO: metrics_of_this_checkpoint:{'apc_acc': 85.33, 'apc_f1': 77.88, 'ate_f1': 86.38}\t-->\tCalling Count:270\n",
            "2022-07-01 23:30:58,264 INFO: model:<class 'pyabsa.core.atepc.models.fast_lcf_atepc.FAST_LCF_ATEPC'>\t-->\tCalling Count:5\n",
            "2022-07-01 23:30:58,266 INFO: model_name:fast_lcf_atepc\t-->\tCalling Count:4865\n",
            "2022-07-01 23:30:58,267 INFO: model_path_to_save:checkpoints\t-->\tCalling Count:59\n",
            "2022-07-01 23:30:58,268 INFO: num_epoch:10\t-->\tCalling Count:2\n",
            "2022-07-01 23:30:58,270 INFO: num_labels:6\t-->\tCalling Count:3\n",
            "2022-07-01 23:30:58,271 INFO: optimizer:adamw\t-->\tCalling Count:2\n",
            "2022-07-01 23:30:58,272 INFO: patience:99999\t-->\tCalling Count:29\n",
            "2022-07-01 23:30:58,273 INFO: polarities_dim:3\t-->\tCalling Count:91\n",
            "2022-07-01 23:30:58,275 INFO: pretrained_bert:microsoft/deberta-v3-base\t-->\tCalling Count:4\n",
            "2022-07-01 23:30:58,276 INFO: save_mode:1\t-->\tCalling Count:56\n",
            "2022-07-01 23:30:58,277 INFO: seed:52\t-->\tCalling Count:7\n",
            "2022-07-01 23:30:58,278 INFO: sep_indices:2\t-->\tCalling Count:136660\n",
            "2022-07-01 23:30:58,279 INFO: show_metric:False\t-->\tCalling Count:0\n",
            "2022-07-01 23:30:58,281 INFO: spacy_model:en_core_web_sm\t-->\tCalling Count:3\n",
            "2022-07-01 23:30:58,282 INFO: srd_alignment:True\t-->\tCalling Count:0\n",
            "2022-07-01 23:30:58,283 INFO: use_bert_spc:False\t-->\tCalling Count:14860\n",
            "2022-07-01 23:30:58,284 INFO: use_syntax_based_SRD:False\t-->\tCalling Count:4722\n",
            "2022-07-01 23:30:58,286 INFO: warmup_step:-1\t-->\tCalling Count:2261\n",
            "2022-07-01 23:30:58,287 INFO: window:lr\t-->\tCalling Count:0\n"
          ]
        },
        {
          "output_type": "stream",
          "name": "stderr",
          "text": [
            "\n"
          ]
        },
        {
          "output_type": "stream",
          "name": "stdout",
          "text": [
            "Load aspect extractor from checkpoints/fast_lcf_atepc_Restaurant14_cdw_apcacc_87.48_apcf1_80.57_atef1_87.09/\n",
            "config: checkpoints/fast_lcf_atepc_Restaurant14_cdw_apcacc_87.48_apcf1_80.57_atef1_87.09/fast_lcf_atepc.config\n",
            "state_dict: checkpoints/fast_lcf_atepc_Restaurant14_cdw_apcacc_87.48_apcf1_80.57_atef1_87.09/fast_lcf_atepc.state_dict\n",
            "model: None\n",
            "tokenizer: checkpoints/fast_lcf_atepc_Restaurant14_cdw_apcacc_87.48_apcf1_80.57_atef1_87.09/fast_lcf_atepc.tokenizer\n"
          ]
        },
        {
          "output_type": "stream",
          "name": "stderr",
          "text": [
            "Some weights of the model checkpoint at microsoft/deberta-v3-base were not used when initializing DebertaV2Model: ['mask_predictions.dense.bias', 'lm_predictions.lm_head.dense.bias', 'mask_predictions.LayerNorm.weight', 'lm_predictions.lm_head.bias', 'lm_predictions.lm_head.LayerNorm.weight', 'mask_predictions.LayerNorm.bias', 'mask_predictions.dense.weight', 'lm_predictions.lm_head.dense.weight', 'lm_predictions.lm_head.LayerNorm.bias', 'mask_predictions.classifier.bias', 'mask_predictions.classifier.weight']\n",
            "- This IS expected if you are initializing DebertaV2Model from the checkpoint of a model trained on another task or with another architecture (e.g. initializing a BertForSequenceClassification model from a BertForPreTraining model).\n",
            "- This IS NOT expected if you are initializing DebertaV2Model from the checkpoint of a model that you expect to be exactly identical (initializing a BertForSequenceClassification model from a BertForSequenceClassification model).\n",
            "Special tokens have been added in the vocabulary, make sure the associated word embeddings are fine-tuned or trained.\n",
            "Special tokens have been added in the vocabulary, make sure the associated word embeddings are fine-tuned or trained.\n"
          ]
        },
        {
          "output_type": "stream",
          "name": "stdout",
          "text": [
            "Config used in Training:\n",
            "ABSADatasetsVersion:2022.06.30\t-->\tCalling Count:0\n",
            "IOB_label_to_index:{'B-ASP': 1, 'I-ASP': 2, 'O': 3, '[CLS]': 4, '[SEP]': 5}\t-->\tCalling Count:1\n",
            "MV:<metric_visualizer.metric_visualizer.MetricVisualizer object at 0x7f795a920ad0>\t-->\tCalling Count:0\n",
            "PyABSAVersion:1.15.6\t-->\tCalling Count:0\n",
            "SRD:3\t-->\tCalling Count:9444\n",
            "TorchVersion:1.11.0+cu113+cuda11.3\t-->\tCalling Count:0\n",
            "TransformersVersion:4.20.1\t-->\tCalling Count:0\n",
            "auto_device:True\t-->\tCalling Count:1926\n",
            "batch_size:16\t-->\tCalling Count:5\n",
            "cache_dataset:True\t-->\tCalling Count:1\n",
            "dataset_file:{'train': ['integrated_datasets/atepc_datasets/110.SemEval/114.restaurant14/Restaurants_Train.xml.seg.atepc'], 'test': ['integrated_datasets/atepc_datasets/110.SemEval/114.restaurant14/Restaurants_Test_Gold.xml.seg.atepc'], 'valid': []}\t-->\tCalling Count:82\n",
            "dataset_name:Restaurant14\t-->\tCalling Count:32\n",
            "device:cuda:0\t-->\tCalling Count:65867\n",
            "device_name:Tesla T4\t-->\tCalling Count:0\n",
            "dropout:0.5\t-->\tCalling Count:2\n",
            "dynamic_truncate:True\t-->\tCalling Count:9444\n",
            "embed_dim:768\t-->\tCalling Count:0\n",
            "evaluate_begin:0\t-->\tCalling Count:78\n",
            "gradient_accumulation_steps:1\t-->\tCalling Count:3\n",
            "hidden_dim:768\t-->\tCalling Count:12\n",
            "index_to_IOB_label:{1: 'B-ASP', 2: 'I-ASP', 3: 'O', 4: '[CLS]', 5: '[SEP]'}\t-->\tCalling Count:0\n",
            "index_to_label:{0: 'Negative', 1: 'Neutral', 2: 'Positive'}\t-->\tCalling Count:2\n",
            "initializer:xavier_uniform_\t-->\tCalling Count:0\n",
            "l2reg:1e-05\t-->\tCalling Count:2\n",
            "label_list:['B-ASP', 'I-ASP', 'O', '[CLS]', '[SEP]']\t-->\tCalling Count:1826751\n",
            "label_to_index:{'Negative': 0, 'Neutral': 1, 'Positive': 2}\t-->\tCalling Count:0\n",
            "lcf:cdw\t-->\tCalling Count:14658\n",
            "learning_rate:2e-05\t-->\tCalling Count:1\n",
            "log_step:50\t-->\tCalling Count:1926\n",
            "max_seq_len:80\t-->\tCalling Count:47686\n",
            "max_test_metrics:{'max_apc_test_acc': 87.48, 'max_apc_test_f1': 81.37, 'max_ate_test_f1': 90.12}\t-->\tCalling Count:555\n",
            "metrics_of_this_checkpoint:{'apc_acc': 87.48, 'apc_f1': 80.57, 'ate_f1': 87.09}\t-->\tCalling Count:231\n",
            "model:<class 'pyabsa.core.atepc.models.fast_lcf_atepc.FAST_LCF_ATEPC'>\t-->\tCalling Count:6\n",
            "model_name:fast_lcf_atepc\t-->\tCalling Count:4863\n",
            "model_path_to_save:checkpoints\t-->\tCalling Count:59\n",
            "num_epoch:10\t-->\tCalling Count:2\n",
            "num_labels:6\t-->\tCalling Count:6\n",
            "optimizer:adamw\t-->\tCalling Count:2\n",
            "patience:99999\t-->\tCalling Count:29\n",
            "polarities_dim:3\t-->\tCalling Count:79\n",
            "pretrained_bert:microsoft/deberta-v3-base\t-->\tCalling Count:7\n",
            "save_mode:1\t-->\tCalling Count:55\n",
            "seed:52\t-->\tCalling Count:10\n",
            "sep_indices:2\t-->\tCalling Count:116790\n",
            "show_metric:False\t-->\tCalling Count:0\n",
            "spacy_model:en_core_web_sm\t-->\tCalling Count:3\n",
            "srd_alignment:True\t-->\tCalling Count:0\n",
            "use_bert_spc:False\t-->\tCalling Count:12705\n",
            "use_syntax_based_SRD:False\t-->\tCalling Count:4722\n",
            "warmup_step:-1\t-->\tCalling Count:1926\n",
            "window:lr\t-->\tCalling Count:0\n"
          ]
        }
      ],
      "source": [
        "from pyabsa.functional import ATEPCModelList\n",
        "from pyabsa.functional import Trainer, ATEPCTrainer\n",
        "from pyabsa.functional import ABSADatasetList\n",
        "from pyabsa.functional import ATEPCConfigManager\n",
        "\n",
        "atepc_config = ATEPCConfigManager.get_atepc_config_english()\n",
        "\n",
        "atepc_config.pretrained_bert = 'microsoft/deberta-v3-base'\n",
        "atepc_config.model = ATEPCModelList.FAST_LCF_ATEPC\n",
        "# dataset_path = '/content/drive/MyDrive/Entity_Sentiment_Analysis'\n",
        "\n",
        "aspect_extractor = ATEPCTrainer(config=atepc_config,\n",
        "                          dataset=dataset_path,\n",
        "                          from_checkpoint='',  # set checkpoint to train on the checkpoint.\n",
        "                          checkpoint_save_mode=1,\n",
        "                          auto_device=True\n",
        "                          ).load_trained_model()"
      ]
    },
    {
      "cell_type": "markdown",
      "source": [
        "**Dump only when new aspect_extractor is trained.**"
      ],
      "metadata": {
        "id": "qnsIQicsVYSd"
      }
    },
    {
      "cell_type": "code",
      "source": [
        "from joblib import dump\n",
        "dump(aspect_extractor, '/content/drive/MyDrive/Entity_Sentiment_Analysis/aspect_extractor.joblib')"
      ],
      "metadata": {
        "colab": {
          "base_uri": "https://localhost:8080/"
        },
        "id": "zXDxzq7629K2",
        "outputId": "25f21155-b5ae-40d1-c2bc-95cbd3eb10f0"
      },
      "execution_count": null,
      "outputs": [
        {
          "output_type": "execute_result",
          "data": {
            "text/plain": [
              "['/content/drive/MyDrive/Entity_Sentiment_Analysis/aspect_extractor.joblib']"
            ]
          },
          "metadata": {},
          "execution_count": 13
        }
      ]
    },
    {
      "cell_type": "code",
      "source": [
        "!pip install streamlit"
      ],
      "metadata": {
        "colab": {
          "base_uri": "https://localhost:8080/",
          "height": 1000
        },
        "id": "2pZzy5dsUIji",
        "outputId": "25824dff-53b6-4789-fc89-74cfc8a0e747"
      },
      "execution_count": null,
      "outputs": [
        {
          "output_type": "stream",
          "name": "stdout",
          "text": [
            "Looking in indexes: https://pypi.org/simple, https://us-python.pkg.dev/colab-wheels/public/simple/\n",
            "Collecting streamlit\n",
            "  Downloading streamlit-1.10.0-py2.py3-none-any.whl (9.1 MB)\n",
            "\u001b[K     |████████████████████████████████| 9.1 MB 18.3 MB/s \n",
            "\u001b[?25hRequirement already satisfied: protobuf<4,>=3.12 in /usr/local/lib/python3.7/dist-packages (from streamlit) (3.17.3)\n",
            "Requirement already satisfied: click>=7.0 in /usr/local/lib/python3.7/dist-packages (from streamlit) (7.1.2)\n",
            "Requirement already satisfied: cachetools>=4.0 in /usr/local/lib/python3.7/dist-packages (from streamlit) (4.2.4)\n",
            "Requirement already satisfied: tzlocal in /usr/local/lib/python3.7/dist-packages (from streamlit) (1.5.1)\n",
            "Requirement already satisfied: requests in /usr/local/lib/python3.7/dist-packages (from streamlit) (2.23.0)\n",
            "Collecting blinker\n",
            "  Downloading blinker-1.4.tar.gz (111 kB)\n",
            "\u001b[K     |████████████████████████████████| 111 kB 43.6 MB/s \n",
            "\u001b[?25hRequirement already satisfied: importlib-metadata>=1.4 in /usr/local/lib/python3.7/dist-packages (from streamlit) (4.11.4)\n",
            "Collecting validators\n",
            "  Downloading validators-0.20.0.tar.gz (30 kB)\n",
            "Requirement already satisfied: altair>=3.2.0 in /usr/local/lib/python3.7/dist-packages (from streamlit) (4.2.0)\n",
            "Requirement already satisfied: python-dateutil in /usr/local/lib/python3.7/dist-packages (from streamlit) (2.8.2)\n",
            "Requirement already satisfied: semver in /usr/local/lib/python3.7/dist-packages (from streamlit) (2.13.0)\n",
            "Requirement already satisfied: numpy in /usr/local/lib/python3.7/dist-packages (from streamlit) (1.21.6)\n",
            "Collecting rich\n",
            "  Downloading rich-12.4.4-py3-none-any.whl (232 kB)\n",
            "\u001b[K     |████████████████████████████████| 232 kB 61.0 MB/s \n",
            "\u001b[?25hRequirement already satisfied: pyarrow in /usr/local/lib/python3.7/dist-packages (from streamlit) (6.0.1)\n",
            "Collecting toml\n",
            "  Downloading toml-0.10.2-py2.py3-none-any.whl (16 kB)\n",
            "Requirement already satisfied: gitpython!=3.1.19 in /usr/local/lib/python3.7/dist-packages (from streamlit) (3.1.27)\n",
            "Collecting pydeck>=0.1.dev5\n",
            "  Downloading pydeck-0.7.1-py2.py3-none-any.whl (4.3 MB)\n",
            "\u001b[K     |████████████████████████████████| 4.3 MB 60.2 MB/s \n",
            "\u001b[?25hRequirement already satisfied: tornado>=5.0 in /usr/local/lib/python3.7/dist-packages (from streamlit) (5.1.1)\n",
            "Requirement already satisfied: pillow>=6.2.0 in /usr/local/lib/python3.7/dist-packages (from streamlit) (7.1.2)\n",
            "Collecting watchdog\n",
            "  Downloading watchdog-2.1.9-py3-none-manylinux2014_x86_64.whl (78 kB)\n",
            "\u001b[K     |████████████████████████████████| 78 kB 8.1 MB/s \n",
            "\u001b[?25hRequirement already satisfied: attrs in /usr/local/lib/python3.7/dist-packages (from streamlit) (21.4.0)\n",
            "Requirement already satisfied: packaging in /usr/local/lib/python3.7/dist-packages (from streamlit) (21.3)\n",
            "Collecting pympler>=0.9\n",
            "  Downloading Pympler-1.0.1-py3-none-any.whl (164 kB)\n",
            "\u001b[K     |████████████████████████████████| 164 kB 70.9 MB/s \n",
            "\u001b[?25hRequirement already satisfied: typing-extensions in /usr/local/lib/python3.7/dist-packages (from streamlit) (4.1.1)\n",
            "Requirement already satisfied: pandas>=0.21.0 in /usr/local/lib/python3.7/dist-packages (from streamlit) (1.3.5)\n",
            "Requirement already satisfied: toolz in /usr/local/lib/python3.7/dist-packages (from altair>=3.2.0->streamlit) (0.11.2)\n",
            "Requirement already satisfied: entrypoints in /usr/local/lib/python3.7/dist-packages (from altair>=3.2.0->streamlit) (0.4)\n",
            "Requirement already satisfied: jinja2 in /usr/local/lib/python3.7/dist-packages (from altair>=3.2.0->streamlit) (2.11.3)\n",
            "Requirement already satisfied: jsonschema>=3.0 in /usr/local/lib/python3.7/dist-packages (from altair>=3.2.0->streamlit) (4.3.3)\n",
            "Requirement already satisfied: gitdb<5,>=4.0.1 in /usr/local/lib/python3.7/dist-packages (from gitpython!=3.1.19->streamlit) (4.0.9)\n",
            "Requirement already satisfied: smmap<6,>=3.0.1 in /usr/local/lib/python3.7/dist-packages (from gitdb<5,>=4.0.1->gitpython!=3.1.19->streamlit) (5.0.0)\n",
            "Requirement already satisfied: zipp>=0.5 in /usr/local/lib/python3.7/dist-packages (from importlib-metadata>=1.4->streamlit) (3.8.0)\n",
            "Requirement already satisfied: importlib-resources>=1.4.0 in /usr/local/lib/python3.7/dist-packages (from jsonschema>=3.0->altair>=3.2.0->streamlit) (5.7.1)\n",
            "Requirement already satisfied: pyrsistent!=0.17.0,!=0.17.1,!=0.17.2,>=0.14.0 in /usr/local/lib/python3.7/dist-packages (from jsonschema>=3.0->altair>=3.2.0->streamlit) (0.18.1)\n",
            "Requirement already satisfied: pytz>=2017.3 in /usr/local/lib/python3.7/dist-packages (from pandas>=0.21.0->streamlit) (2022.1)\n",
            "Requirement already satisfied: six>=1.9 in /usr/local/lib/python3.7/dist-packages (from protobuf<4,>=3.12->streamlit) (1.15.0)\n",
            "Collecting ipykernel>=5.1.2\n",
            "  Downloading ipykernel-6.15.0-py3-none-any.whl (133 kB)\n",
            "\u001b[K     |████████████████████████████████| 133 kB 74.5 MB/s \n",
            "\u001b[?25hRequirement already satisfied: traitlets>=4.3.2 in /usr/local/lib/python3.7/dist-packages (from pydeck>=0.1.dev5->streamlit) (5.1.1)\n",
            "Requirement already satisfied: ipywidgets>=7.0.0 in /usr/local/lib/python3.7/dist-packages (from pydeck>=0.1.dev5->streamlit) (7.7.0)\n",
            "Requirement already satisfied: debugpy>=1.0 in /usr/local/lib/python3.7/dist-packages (from ipykernel>=5.1.2->pydeck>=0.1.dev5->streamlit) (1.0.0)\n",
            "Collecting ipython>=7.23.1\n",
            "  Downloading ipython-7.34.0-py3-none-any.whl (793 kB)\n",
            "\u001b[K     |████████████████████████████████| 793 kB 54.3 MB/s \n",
            "\u001b[?25hRequirement already satisfied: psutil in /usr/local/lib/python3.7/dist-packages (from ipykernel>=5.1.2->pydeck>=0.1.dev5->streamlit) (5.4.8)\n",
            "Requirement already satisfied: matplotlib-inline>=0.1 in /usr/local/lib/python3.7/dist-packages (from ipykernel>=5.1.2->pydeck>=0.1.dev5->streamlit) (0.1.3)\n",
            "Requirement already satisfied: pyzmq>=17 in /usr/local/lib/python3.7/dist-packages (from ipykernel>=5.1.2->pydeck>=0.1.dev5->streamlit) (23.1.0)\n",
            "Collecting jupyter-client>=6.1.12\n",
            "  Downloading jupyter_client-7.3.4-py3-none-any.whl (132 kB)\n",
            "\u001b[K     |████████████████████████████████| 132 kB 39.1 MB/s \n",
            "\u001b[?25hCollecting tornado>=5.0\n",
            "  Downloading tornado-6.1-cp37-cp37m-manylinux2010_x86_64.whl (428 kB)\n",
            "\u001b[K     |████████████████████████████████| 428 kB 74.7 MB/s \n",
            "\u001b[?25hRequirement already satisfied: nest-asyncio in /usr/local/lib/python3.7/dist-packages (from ipykernel>=5.1.2->pydeck>=0.1.dev5->streamlit) (1.5.5)\n",
            "Requirement already satisfied: pygments in /usr/local/lib/python3.7/dist-packages (from ipython>=7.23.1->ipykernel>=5.1.2->pydeck>=0.1.dev5->streamlit) (2.6.1)\n",
            "Requirement already satisfied: pickleshare in /usr/local/lib/python3.7/dist-packages (from ipython>=7.23.1->ipykernel>=5.1.2->pydeck>=0.1.dev5->streamlit) (0.7.5)\n",
            "Requirement already satisfied: pexpect>4.3 in /usr/local/lib/python3.7/dist-packages (from ipython>=7.23.1->ipykernel>=5.1.2->pydeck>=0.1.dev5->streamlit) (4.8.0)\n",
            "Collecting prompt-toolkit!=3.0.0,!=3.0.1,<3.1.0,>=2.0.0\n",
            "  Downloading prompt_toolkit-3.0.30-py3-none-any.whl (381 kB)\n",
            "\u001b[K     |████████████████████████████████| 381 kB 72.0 MB/s \n",
            "\u001b[?25hRequirement already satisfied: setuptools>=18.5 in /usr/local/lib/python3.7/dist-packages (from ipython>=7.23.1->ipykernel>=5.1.2->pydeck>=0.1.dev5->streamlit) (57.4.0)\n",
            "Requirement already satisfied: decorator in /usr/local/lib/python3.7/dist-packages (from ipython>=7.23.1->ipykernel>=5.1.2->pydeck>=0.1.dev5->streamlit) (4.4.2)\n",
            "Requirement already satisfied: backcall in /usr/local/lib/python3.7/dist-packages (from ipython>=7.23.1->ipykernel>=5.1.2->pydeck>=0.1.dev5->streamlit) (0.2.0)\n",
            "Requirement already satisfied: jedi>=0.16 in /usr/local/lib/python3.7/dist-packages (from ipython>=7.23.1->ipykernel>=5.1.2->pydeck>=0.1.dev5->streamlit) (0.18.1)\n",
            "Requirement already satisfied: widgetsnbextension~=3.6.0 in /usr/local/lib/python3.7/dist-packages (from ipywidgets>=7.0.0->pydeck>=0.1.dev5->streamlit) (3.6.0)\n",
            "Requirement already satisfied: jupyterlab-widgets>=1.0.0 in /usr/local/lib/python3.7/dist-packages (from ipywidgets>=7.0.0->pydeck>=0.1.dev5->streamlit) (1.1.0)\n",
            "Requirement already satisfied: nbformat>=4.2.0 in /usr/local/lib/python3.7/dist-packages (from ipywidgets>=7.0.0->pydeck>=0.1.dev5->streamlit) (5.4.0)\n",
            "Requirement already satisfied: ipython-genutils~=0.2.0 in /usr/local/lib/python3.7/dist-packages (from ipywidgets>=7.0.0->pydeck>=0.1.dev5->streamlit) (0.2.0)\n",
            "Requirement already satisfied: parso<0.9.0,>=0.8.0 in /usr/local/lib/python3.7/dist-packages (from jedi>=0.16->ipython>=7.23.1->ipykernel>=5.1.2->pydeck>=0.1.dev5->streamlit) (0.8.3)\n",
            "Requirement already satisfied: MarkupSafe>=0.23 in /usr/local/lib/python3.7/dist-packages (from jinja2->altair>=3.2.0->streamlit) (2.0.1)\n",
            "Requirement already satisfied: jupyter-core>=4.9.2 in /usr/local/lib/python3.7/dist-packages (from jupyter-client>=6.1.12->ipykernel>=5.1.2->pydeck>=0.1.dev5->streamlit) (4.10.0)\n",
            "Requirement already satisfied: fastjsonschema in /usr/local/lib/python3.7/dist-packages (from nbformat>=4.2.0->ipywidgets>=7.0.0->pydeck>=0.1.dev5->streamlit) (2.15.3)\n",
            "Requirement already satisfied: ptyprocess>=0.5 in /usr/local/lib/python3.7/dist-packages (from pexpect>4.3->ipython>=7.23.1->ipykernel>=5.1.2->pydeck>=0.1.dev5->streamlit) (0.7.0)\n",
            "Requirement already satisfied: wcwidth in /usr/local/lib/python3.7/dist-packages (from prompt-toolkit!=3.0.0,!=3.0.1,<3.1.0,>=2.0.0->ipython>=7.23.1->ipykernel>=5.1.2->pydeck>=0.1.dev5->streamlit) (0.2.5)\n",
            "Requirement already satisfied: notebook>=4.4.1 in /usr/local/lib/python3.7/dist-packages (from widgetsnbextension~=3.6.0->ipywidgets>=7.0.0->pydeck>=0.1.dev5->streamlit) (5.3.1)\n",
            "Requirement already satisfied: Send2Trash in /usr/local/lib/python3.7/dist-packages (from notebook>=4.4.1->widgetsnbextension~=3.6.0->ipywidgets>=7.0.0->pydeck>=0.1.dev5->streamlit) (1.8.0)\n",
            "Requirement already satisfied: terminado>=0.8.1 in /usr/local/lib/python3.7/dist-packages (from notebook>=4.4.1->widgetsnbextension~=3.6.0->ipywidgets>=7.0.0->pydeck>=0.1.dev5->streamlit) (0.13.3)\n",
            "Requirement already satisfied: nbconvert in /usr/local/lib/python3.7/dist-packages (from notebook>=4.4.1->widgetsnbextension~=3.6.0->ipywidgets>=7.0.0->pydeck>=0.1.dev5->streamlit) (5.6.1)\n",
            "Requirement already satisfied: defusedxml in /usr/local/lib/python3.7/dist-packages (from nbconvert->notebook>=4.4.1->widgetsnbextension~=3.6.0->ipywidgets>=7.0.0->pydeck>=0.1.dev5->streamlit) (0.7.1)\n",
            "Requirement already satisfied: bleach in /usr/local/lib/python3.7/dist-packages (from nbconvert->notebook>=4.4.1->widgetsnbextension~=3.6.0->ipywidgets>=7.0.0->pydeck>=0.1.dev5->streamlit) (5.0.0)\n",
            "Requirement already satisfied: mistune<2,>=0.8.1 in /usr/local/lib/python3.7/dist-packages (from nbconvert->notebook>=4.4.1->widgetsnbextension~=3.6.0->ipywidgets>=7.0.0->pydeck>=0.1.dev5->streamlit) (0.8.4)\n",
            "Requirement already satisfied: pandocfilters>=1.4.1 in /usr/local/lib/python3.7/dist-packages (from nbconvert->notebook>=4.4.1->widgetsnbextension~=3.6.0->ipywidgets>=7.0.0->pydeck>=0.1.dev5->streamlit) (1.5.0)\n",
            "Requirement already satisfied: testpath in /usr/local/lib/python3.7/dist-packages (from nbconvert->notebook>=4.4.1->widgetsnbextension~=3.6.0->ipywidgets>=7.0.0->pydeck>=0.1.dev5->streamlit) (0.6.0)\n",
            "Requirement already satisfied: webencodings in /usr/local/lib/python3.7/dist-packages (from bleach->nbconvert->notebook>=4.4.1->widgetsnbextension~=3.6.0->ipywidgets>=7.0.0->pydeck>=0.1.dev5->streamlit) (0.5.1)\n",
            "Requirement already satisfied: pyparsing!=3.0.5,>=2.0.2 in /usr/local/lib/python3.7/dist-packages (from packaging->streamlit) (3.0.9)\n",
            "Requirement already satisfied: urllib3!=1.25.0,!=1.25.1,<1.26,>=1.21.1 in /usr/local/lib/python3.7/dist-packages (from requests->streamlit) (1.24.3)\n",
            "Requirement already satisfied: certifi>=2017.4.17 in /usr/local/lib/python3.7/dist-packages (from requests->streamlit) (2022.6.15)\n",
            "Requirement already satisfied: chardet<4,>=3.0.2 in /usr/local/lib/python3.7/dist-packages (from requests->streamlit) (3.0.4)\n",
            "Requirement already satisfied: idna<3,>=2.5 in /usr/local/lib/python3.7/dist-packages (from requests->streamlit) (2.10)\n",
            "Collecting commonmark<0.10.0,>=0.9.0\n",
            "  Downloading commonmark-0.9.1-py2.py3-none-any.whl (51 kB)\n",
            "\u001b[K     |████████████████████████████████| 51 kB 6.2 MB/s \n",
            "\u001b[?25hBuilding wheels for collected packages: blinker, validators\n",
            "  Building wheel for blinker (setup.py) ... \u001b[?25l\u001b[?25hdone\n",
            "  Created wheel for blinker: filename=blinker-1.4-py3-none-any.whl size=13478 sha256=17dd1d0013489876a84cfd939acc3d72ce75b286069379f7e0682160375ac8e2\n",
            "  Stored in directory: /root/.cache/pip/wheels/22/f5/18/df711b66eb25b21325c132757d4314db9ac5e8dabeaf196eab\n",
            "  Building wheel for validators (setup.py) ... \u001b[?25l\u001b[?25hdone\n",
            "  Created wheel for validators: filename=validators-0.20.0-py3-none-any.whl size=19582 sha256=ed127d955f60994e4fa10d83cac3e9c9f563c5f14ef431b0dc769ff66068f211\n",
            "  Stored in directory: /root/.cache/pip/wheels/5f/55/ab/36a76989f7f88d9ca7b1f68da6d94252bb6a8d6ad4f18e04e9\n",
            "Successfully built blinker validators\n",
            "Installing collected packages: tornado, prompt-toolkit, jupyter-client, ipython, ipykernel, commonmark, watchdog, validators, toml, rich, pympler, pydeck, blinker, streamlit\n",
            "  Attempting uninstall: tornado\n",
            "    Found existing installation: tornado 5.1.1\n",
            "    Uninstalling tornado-5.1.1:\n",
            "      Successfully uninstalled tornado-5.1.1\n",
            "  Attempting uninstall: prompt-toolkit\n",
            "    Found existing installation: prompt-toolkit 1.0.18\n",
            "    Uninstalling prompt-toolkit-1.0.18:\n",
            "      Successfully uninstalled prompt-toolkit-1.0.18\n",
            "  Attempting uninstall: jupyter-client\n",
            "    Found existing installation: jupyter-client 5.3.5\n",
            "    Uninstalling jupyter-client-5.3.5:\n",
            "      Successfully uninstalled jupyter-client-5.3.5\n",
            "  Attempting uninstall: ipython\n",
            "    Found existing installation: ipython 5.5.0\n",
            "    Uninstalling ipython-5.5.0:\n",
            "      Successfully uninstalled ipython-5.5.0\n",
            "  Attempting uninstall: ipykernel\n",
            "    Found existing installation: ipykernel 4.10.1\n",
            "    Uninstalling ipykernel-4.10.1:\n",
            "      Successfully uninstalled ipykernel-4.10.1\n",
            "\u001b[31mERROR: pip's dependency resolver does not currently take into account all the packages that are installed. This behaviour is the source of the following dependency conflicts.\n",
            "nbclient 0.6.4 requires traitlets>=5.2.2, but you have traitlets 5.1.1 which is incompatible.\n",
            "jupyter-console 5.2.0 requires prompt-toolkit<2.0.0,>=1.0.0, but you have prompt-toolkit 3.0.30 which is incompatible.\n",
            "google-colab 1.0.0 requires ipykernel~=4.10, but you have ipykernel 6.15.0 which is incompatible.\n",
            "google-colab 1.0.0 requires ipython~=5.5.0, but you have ipython 7.34.0 which is incompatible.\n",
            "google-colab 1.0.0 requires tornado~=5.1.0; python_version >= \"3.0\", but you have tornado 6.1 which is incompatible.\u001b[0m\n",
            "Successfully installed blinker-1.4 commonmark-0.9.1 ipykernel-6.15.0 ipython-7.34.0 jupyter-client-7.3.4 prompt-toolkit-3.0.30 pydeck-0.7.1 pympler-1.0.1 rich-12.4.4 streamlit-1.10.0 toml-0.10.2 tornado-6.1 validators-0.20.0 watchdog-2.1.9\n"
          ]
        },
        {
          "output_type": "display_data",
          "data": {
            "application/vnd.colab-display-data+json": {
              "pip_warning": {
                "packages": [
                  "IPython",
                  "prompt_toolkit",
                  "tornado"
                ]
              }
            }
          },
          "metadata": {}
        }
      ]
    },
    {
      "cell_type": "markdown",
      "source": [
        "**app.py will be present inside PyABSA**"
      ],
      "metadata": {
        "id": "MTRXO34WGCdb"
      }
    },
    {
      "cell_type": "code",
      "source": [
        "%%writefile app.py\n",
        "import joblib\n",
        "import streamlit as st\n",
        "import streamlit.components.v1 as components\n",
        "\n",
        "st.title(\"Entity Based Sentiment Analysis\")\n",
        "example = st.text_input(\"Enter a message for Polarity Classification\")\n",
        "examples = [example]\n",
        "\n",
        "aspect_extractor = joblib.load('/content/drive/MyDrive/Entity_Sentiment_Analysis/aspect_extractor.joblib')\n",
        "\n",
        "from pyabsa.functional import ABSADatasetList\n",
        "from pyabsa.functional import ATEPCCheckpointManager\n",
        "\n",
        "# inference_source = '125.dataset'\n",
        "# inference_source = '100.CustomDataset'\n",
        "# aspect_extractor = ATEPCCheckpointManager.get_aspect_extractor(checkpoint='')\n",
        "atepc_result = aspect_extractor.extract_aspect(inference_source=examples,\n",
        "                                               save_result=False,\n",
        "                                               print_result=False,  # print the result\n",
        "                                               pred_sentiment=True,  # Predict the sentiment of extracted aspect terms\n",
        "                                               )\n",
        "\n",
        "st.write(atepc_result[0][\"aspect\"], atepc_result[0][\"sentiment\"])"
      ],
      "metadata": {
        "colab": {
          "base_uri": "https://localhost:8080/"
        },
        "id": "0A6BkjvXTwni",
        "outputId": "a871f98d-f722-4f71-b924-9f86f75f7cef"
      },
      "execution_count": null,
      "outputs": [
        {
          "output_type": "stream",
          "name": "stdout",
          "text": [
            "Writing app.py\n"
          ]
        }
      ]
    },
    {
      "cell_type": "code",
      "source": [
        "!streamlit run app.py & npx localtunnel --port 8501"
      ],
      "metadata": {
        "id": "PTGUHfziCpbx",
        "colab": {
          "base_uri": "https://localhost:8080/"
        },
        "outputId": "71cb55dc-c66f-4ebe-d6e9-16696cb69f98"
      },
      "execution_count": null,
      "outputs": [
        {
          "output_type": "stream",
          "name": "stdout",
          "text": [
            "2022-06-30 19:34:39.531 INFO    numexpr.utils: NumExpr defaulting to 2 threads.\n",
            "\u001b[K\u001b[?25hnpx: installed 22 in 3.92s\n",
            "\u001b[0m\n",
            "\u001b[34m\u001b[1m  You can now view your Streamlit app in your browser.\u001b[0m\n",
            "\u001b[0m\n",
            "\u001b[34m  Network URL: \u001b[0m\u001b[1mhttp://172.28.0.2:8501\u001b[0m\n",
            "\u001b[34m  External URL: \u001b[0m\u001b[1mhttp://34.143.147.166:8501\u001b[0m\n",
            "\u001b[0m\n",
            "your url is: https://chatty-icons-admire-34-143-147-166.loca.lt\n",
            "/usr/local/lib/python3.7/dist-packages/html5lib/_trie/_base.py:3: DeprecationWarning: Using or importing the ABCs from 'collections' instead of from 'collections.abc' is deprecated since Python 3.3,and in 3.9 it will stop working\n",
            "  from collections import Mapping\n",
            "/usr/local/lib/python3.7/dist-packages/scipy/fft/__init__.py:97: DeprecationWarning: The module numpy.dual is deprecated.  Instead of using dual, use the functions directly from numpy or scipy.\n",
            "  from numpy.dual import register_func\n",
            "/usr/local/lib/python3.7/dist-packages/scipy/sparse/sputils.py:17: DeprecationWarning: `np.typeDict` is a deprecated alias for `np.sctypeDict`.\n",
            "  supported_dtypes = [np.typeDict[x] for x in supported_dtypes]\n",
            "/usr/local/lib/python3.7/dist-packages/_pytest/assertion/rewrite.py:6: DeprecationWarning: the imp module is deprecated in favour of importlib; see the module's documentation for alternative uses\n",
            "  import imp\n",
            "/usr/local/lib/python3.7/dist-packages/scipy/special/orthogonal.py:81: DeprecationWarning: `np.int` is a deprecated alias for the builtin `int`. To silence this warning, use `int` by itself. Doing this will not modify any behavior and is safe. When replacing `np.int`, you may wish to use e.g. `np.int64` or `np.int32` to specify the precision. If you wish to review your current use, check the release note link for additional information.\n",
            "Deprecated in NumPy 1.20; for more details and guidance: https://numpy.org/devdocs/release/1.20.0-notes.html#deprecations\n",
            "  from numpy import (exp, inf, pi, sqrt, floor, sin, cos, around, int,\n",
            "Remote ABSADataset version: 2022.06.30 Local ABSADatasets version: None\n",
            "Unknown local version for ABSADatasets, please check the latest version of ABSADatasets at https://github.com/yangheng95/ABSADatasets\n",
            "/usr/local/lib/python3.7/dist-packages/transformers/models/deberta_v2/modeling_deberta_v2.py:539: DeprecationWarning: `np.int` is a deprecated alias for the builtin `int`. To silence this warning, use `int` by itself. Doing this will not modify any behavior and is safe. When replacing `np.int`, you may wish to use e.g. `np.int64` or `np.int32` to specify the precision. If you wish to review your current use, check the release note link for additional information.\n",
            "Deprecated in NumPy 1.20; for more details and guidance: https://numpy.org/devdocs/release/1.20.0-notes.html#deprecations\n",
            "  bucket_pos = np.where(abs_pos <= mid, relative_pos, log_pos * sign).astype(np.int)\n",
            "/content/PyABSA/pyabsa/core/atepc/prediction/aspect_extractor.py:353: UserWarning: Creating a tensor from a list of numpy.ndarrays is extremely slow. Please consider converting the list to a single numpy.ndarray with numpy.array() before converting to a tensor. (Triggered internally at  ../torch/csrc/utils/tensor_new.cpp:210.)\n",
            "  lcf_cdm_vec = torch.tensor([f.lcf_cdm_vec for f in infer_features], dtype=torch.float32)\n",
            "\u001b[34m  Stopping...\u001b[0m\n",
            "^C\n"
          ]
        }
      ]
    },
    {
      "cell_type": "markdown",
      "source": [
        "**To judge performance on a test set first generate their inference sets.**"
      ],
      "metadata": {
        "id": "AxJ5b61fHPjC"
      }
    },
    {
      "cell_type": "code",
      "source": [
        "from pyabsa.functional import ABSADatasetList\n",
        "\n",
        "from pyabsa.utils.file_utils import generate_inference_set_for_apc\n",
        "\n",
        "generate_inference_set_for_apc('/content/drive/MyDrive/Entity_Sentiment_Analysis/Nice_dataset.apc.train.txt')\n",
        "generate_inference_set_for_apc('/content/drive/MyDrive/Entity_Sentiment_Analysis/Nice_dataset.apc.test.txt')"
      ],
      "metadata": {
        "colab": {
          "base_uri": "https://localhost:8080/"
        },
        "id": "HAlf1WvEGbn6",
        "outputId": "727860b4-a448-45fe-c9e6-cc251c060d3d"
      },
      "execution_count": null,
      "outputs": [
        {
          "output_type": "stream",
          "name": "stdout",
          "text": [
            "To ensure your generation is successful, make sure the dataset name contain \"apc\" and \"dataset\" string \n",
            "Inference set generation finished\n",
            "To ensure your generation is successful, make sure the dataset name contain \"apc\" and \"dataset\" string \n",
            "Inference set generation finished\n"
          ]
        }
      ]
    },
    {
      "cell_type": "code",
      "execution_count": null,
      "metadata": {
        "colab": {
          "base_uri": "https://localhost:8080/"
        },
        "id": "0y66H-JuFCJX",
        "outputId": "76ce9b1d-1645-4bf8-e7a9-fb1541c2ccf0"
      },
      "outputs": [
        {
          "output_type": "stream",
          "name": "stdout",
          "text": [
            "Loading 125.dataset dataset from:  https://github.com/yangheng95/ABSADatasets\n",
            "loading: integrated_datasets/atepc_datasets/125.dataset/Nice_dataset.apc.test.txt.inference\n"
          ]
        },
        {
          "output_type": "stream",
          "name": "stderr",
          "text": [
            "100%|██████████| 163/163 [00:01<00:00, 162.97it/s, preparing apc inference dataloader...]\n",
            "100%|██████████| 409/409 [00:02<00:00, 144.86it/s, preparing apc inference dataloader...]\n"
          ]
        },
        {
          "output_type": "stream",
          "name": "stdout",
          "text": [
            "The results of aspect term extraction have been saved in /content/PyABSA/atepc_inference.result.json\n",
            "Text: Sources told Hindustan Times that the embassy had ensured the movement of thousands of students from Kyiv to western Ukraine on Sunday . The Indian embassies in countries like \u001b[32m<Poland:Positive>\u001b[0m have been arranging buses for the students to safely reach the border , this after heavy diplomatic lifting between the two countries . The Indian Air Force has been asked to deployC - 17 aircraft to boost evacuation efforts .\n",
            "Text: Sources told Hindustan Times that the embassy had ensured the movement of thousands of students from Kyiv to western Ukraine on Sunday . The Indian embassies in countries like \u001b[32m<Poland:Positive>\u001b[0m have been arranging buses for the students to safely reach the border , this after heavy diplomatic lifting between the two countries . The Indian Air Force has been asked to deploy C - 17 aircraft to boost evacuation efforts .\n",
            "Text: \u001b[32m<:Positive>\u001b[0m\u001b[32m<:Positive>\u001b[0m\u001b[32m<:Positive>\u001b[0mThe C - 17 aircraft can carry 336 passengers and was used during the evacuation in Afghanistan last year . Besides airlifting the Indian nationals , the IAF aircraft will also be used to carry humanitarian aid to the war - hit country . Four union ministers are being sent Ukraine to expedite the evacuation efforts . Union minister Hardeep Singh Puri will be in - charge of evacuation efforts in Hungary , civil aviation minister Jyotiraditya Scindia will oversee the mission in Romania and Moldova .\n",
            "Text: India ' s largest carmaker also claimed that it sold a total of 137 , 607 units in the domestic market last month . Under its model sharing agreement with the Toyota Kirloskar Motor , to whom it supplies the \u001b[32m<Baleno:Positive>\u001b[0m and \u001b[32m<Vitara Brezza:Positive>\u001b[0m to be sold as Glanza and Urban Cruiser respectively , \u001b[32m<Maruti Suzuki:Positive>\u001b[0m sold a total of 2 , 428 units .\n",
            "Text: \u001b[36m<:Neutral>\u001b[0m\u001b[36m<:Neutral>\u001b[0m\u001b[36m<:Neutral>\u001b[0m\u001b[36m<:Neutral>\u001b[0m\u001b[36m<:Neutral>\u001b[0m\u001b[36m<:Neutral>\u001b[0m\u001b[36m<:Neutral>\u001b[0mThe car manufacturer also said that it witnessed a minor impact of the ongoing microchip crisis . The carmaker claims that models such as the Baleno , Celerio , Dzire , Ignis , Swift , WagonR as combined sold a total of 77 , 795 units last month , down from 80 , 517 units recorded in the same month a year ago . Also , these models sold 622 , 567 units cumulatively between April and February of this financial year . The mid - size sedan Ciaz that is sold through the premium retail network Nexa recorded 1 , 912 units last month , up from 1 , 510 units sold in February last year .\n",
            "Text: \u001b[36m<:Neutral>\u001b[0m\u001b[36m<:Neutral>\u001b[0m\u001b[36m<:Neutral>\u001b[0m\u001b[36m<:Neutral>\u001b[0m\u001b[36m<:Neutral>\u001b[0m\u001b[36m<:Neutral>\u001b[0mSales in the entry - level mini segment , where Maruti Suzuki retails Alto andS - Presso , were 19 , 691 units last month , as compared to 23 , 959 units recorded in the same month a year ago . Maruti Suzuki has also said that its total domestic passenger vehicle sales in February were 133 , 948 units , down from 144 , 761 units registered in the same month a year ago . First Published Date : 01 Mar 2022 , 01 : 49 PM IST\n",
            "Text: \u001b[36m<:Neutral>\u001b[0m\u001b[36m<:Neutral>\u001b[0m\u001b[36m<:Neutral>\u001b[0m\u001b[36m<:Neutral>\u001b[0m\u001b[36m<:Neutral>\u001b[0mSales in the entry - level mini segment , where Maruti Suzuki retails Alto and S - Presso , were 19 , 691 units last month , as compared to 23 , 959 units recorded in the same month a year ago . Maruti Suzuki has also said that its total domestic passenger vehicle sales in February were 133 , 948 units , down from 144 , 761 units registered in the same month a year ago . First Published Date : 01 Mar 2022 , 01 : 49 PM IST\n",
            "Text: \u001b[32m<:Positive>\u001b[0m\u001b[32m<:Positive>\u001b[0m\u001b[32m<:Positive>\u001b[0m\u001b[32m<:Positive>\u001b[0mWhile the overall - domestic sales plus exports - decline of 14 % is likely to be a source of some concern , the demand for models like Creta and Venue remain strong . Hyundai had a busy 2021 with the launch of several models like Alcazar and i20 N Line . There is much promise from the Koreans for this year as well with the company confirming an ‘ affordable ' electric vehicle that will sit below the Kona which is already available in the lineup .\n",
            "Text: The \u001b[32m<Hero Eddy:Positive>\u001b[0m has been designed for a specific group of customers who want electric two - wheekers to cover short distances . Read more \u001b[32m<Mouni Roy:Positive>\u001b[0m serves a ' Tip Tip Barsa \u001b[32m<Paani:Positive>\u001b[0m ' moment in ₹ 84k saree , her braid steals the spotlight : Check out photos\n",
            "Text: PM Modi calls on Indian Air Force C - 17s to boost evacuation efforts TheIAF C - 17 aircraft can carry 336 passengers and was used in evacuation in Afghanistan . But in one of the missions it carried more than 600 passengers , which is a World record The IAF will deploy severalC - 17 aircraft to carry out evacuation process Published on Mar 01 , 2022 11 : 59 AM IST\n",
            "Text: PM Modi calls on Indian Air ForceC - 17s to boost evacuation efforts The \u001b[32m<IAF:Positive>\u001b[0m C - 17 aircraft can carry 336 passengers and was used in evacuation in Afghanistan . But in one of the missions it carried more than 600 passengers , which is a World record The IAF will deploy severalC - 17 aircraft to carry out evacuation process Published on Mar 01 , 2022 11 : 59 AM IST\n",
            "Text: PM Modi calls on Indian Air ForceC - 17s to boost evacuation efforts TheIAF C - 17 aircraft can carry 336 passengers and was used in evacuation in Afghanistan . But in one of the missions it carried more than 600 passengers , which is a World record The IAF will deploy severalC - 17 aircraft to carry out evacuation process Published on Mar 01 , 2022 11 : 59 AM IST\n",
            "Text: PM Modi calls on Indian Air ForceC - 17s to boost evacuation efforts TheIAF C - 17 aircraft can carry 336 passengers and was used in evacuation in Afghanistan . But in one of the missions it carried more than 600 passengers , which is a World record The IAF will deploy several C - 17 aircraft to carry out evacuation process Published on Mar 01 , 2022 11 : 59 AM IST\n",
            "Text: Prime Minister Narendra Modi has called for the Indian Air Force to join the evacuation efforts under Operation Ganga , official sources told Hindustan TimesLeveraging the capabilities of the IAF will ensure that more people can be evacuated in the shortest possible time . It will also help deliver humanitarian aid more efficiently . Indian Air Force is likely to deploy severalC - 17 aircrafts as part of Operation Ganga from today .\n",
            "Text: Prime Minister Narendra Modi has called for the Indian Air Force to join the evacuation efforts under Operation Ganga , official sources told Hindustan TimesLeveraging the capabilities of the IAF will ensure that more people can be evacuated in the shortest possible time . It will also help deliver humanitarian aid more efficiently . Indian Air Force is likely to deploy several C - 17 aircrafts as part of Operation Ganga from today .\n",
            "Text: While the world prepares for the 5G iPhone \u001b[32m<SE:Positive>\u001b[0m 3 , rumours now suggest that Apple could continue to sell the older iPhone SE 2020 at an even lower price . How low , you ask ? Prices are expected to go under $ 200 , which means markets like India could expect to see a brand - new iPhone in India for less than Rs . 20 , 000 after a long time .\n",
            "Text: \u001b[32m<:Positive>\u001b[0m\u001b[32m<:Positive>\u001b[0m\u001b[32m<:Positive>\u001b[0m\u001b[32m<:Positive>\u001b[0mAnd this is all while the iPhone SE 3 takes care of the sub - ₹ 40 , 000 space . Bloomberg ' s Mark Gurman says in one of his latest reports that the iPhone SE 2020 could see a massive price drop after the March 8 Spring event . Apple will announce the iPhone SE 3 as its most affordable 5G smartphone and drop the prices of the iPhone SE 4G variant at the same time .\n",
            "Text: The sole reason behind this is Apple wanting to make the iPhone more accessible so as to rope in more customers to try its other services . The iPhone SE 2020 has seen mega price cuts throughout its two - year lifecycle . Originally launched at a starting price of Rs . 43 , 000 , several e - commerce sales over the years have seen the iPhone SE prices go as low as ₹ 26 , 000 .\n",
            "Text: \u001b[32m<:Positive>\u001b[0m\u001b[32m<:Positive>\u001b[0mAt the moment , the base 64GB variant of the iPhone SE is selling at Rs . 30 , 000 . The last time an iPhone was available in India for this low as the original iPhone SE . After two years of sales , the tiny iPhone SE often sold for as low as Rs . 15 , 000 during Flipkart sales . With the current iPhone SE , Apple would want to take on the budget Android smartphones . Even though the iPhone SE 2020 lacks some of the modern features , such as an edge - to - edge display , a big battery and fast charging , it is still one of the fastest smartphones you can buy at its price . Meanwhile , the iPhone SE 3 itself is expected to have a sub - $ 300 price tag . The updates iPhone SE 3 is likely to get a chip upgrade – from the ageing A13 to Apple ' s latest A15 Bionic . Note that the A15 chip powers the iPhone 13 series at the moment , and supports 5G networks . The rest of the phone is said to remain unchanged from the iPhone SE 2020 . The feature allows users to check traffic situation on roads with colour coding signaling the intensity of traffic movement . The live traffic feature on Google Maps makes use of anonymous location data collected from Android smartphones to reflect the condition of traffic movement on roads . But several experts say that this data could be potentially affected in the time of war and especially in the face of an invading force .\n",
            "Text: The SUV will be based on \u001b[32m<STLA:Positive>\u001b[0m architecture , Stellantis further said . Carlos \u001b[32m<Tavares:Positive>\u001b[0m , CEO of Jeep ' s parent company Stellantis said that this upcoming all - electric SUV will be a lifestyle family vehicle . He also said that this is going to be a pure off - road Jeep .\n",
            "Text: Hero Eddy short - commute electric scooter unveiled . And no , license not needed Hero Eddy from Hero Electric is aimed at short commutes powered by electricity . The upcoming electric scooter will be offered in two colours . Hero Eddy electric scooter . Hero Electric on Tuesday unveiled the all - new Hero Eddy electric scooter which has been developed specifically to meet the short commute requirements of potential customers who are also looking for a stylish ride option .\n",
            "Text: Priced at ₹ 72 , 000 ( ex showroom ) and complete with a simple yet stylish body design , the Hero Eddy comes loaded with a number of features to allow commuters to have a convenient ride . The Hero Eddy has been designed for a specific group of customers who want an electric two - wheeler to cover short distances . Although the range of the electric scooter hasn ' t been revealed , the company highlights that the product comes with features such as Find\n",
            "Text: My Bike , E - Lock , Large Boot Space , Follow Me Headlamps , and Reverse Mode . ( Top 5 electric two - wheeler makers in India in 2021 : \u001b[32m<Hero:Positive>\u001b[0m , \u001b[32m<Okinawa:Positive>\u001b[0m lead the pack ) To be made available in two colour options - Yellow and a light shade of Blue , \u001b[32m<Hero Eddy:Positive>\u001b[0m requires no registration or driving license as it is a low - speed vehicle .\n",
            "Text: \u001b[32m<Hero Electric:Positive>\u001b[0m is continuing to underline the pollution - free credentials of its product and states that Eddy is a step in the same direction . ' We at Hero are thrilled to announce our upcoming product \u001b[32m<Hero Eddy:Positive>\u001b[0m that will have an overwhelming on - road presence combining smart features and stylish looks , \" said Naveen Munjal , MD at Hero Electric . '\n",
            "Text: \u001b[31m<:Negative>\u001b[0m\u001b[31m<:Negative>\u001b[0mThe other car driver , Bhagwant Singh of Sri Ganganagar in Rajasthan , also suffered serious injuries and has been shifted to Guru Gobind Singh Medical College in Faridkot . Meanwhile , Rakhra ' s wife Amritpal Kaur , 35 , and eight - year - old daughter Abhijot Kaur are admitted to a private hospital in Muktsar , and are stated to be ' out of danger ' .\n",
            "Text: Indeed , contrary to the allegations of NCB ' s Mumbai unit , some of the key findings of the SIT , shared by officials with HT , are : \u001b[31m<Aryan Khan:Negative>\u001b[0m was never in possession of drugs\n",
            "Text: Significantly , the initial findings of the SIT probe substantiate the observations by Bombay high court , which granted bail to Khan on October 28 last year while saying that ' there was no evidence to suggest existence of any conspiracy ' , the officials said . SIT ' s review of the Cordelia probe which involved questioning all the arrested persons , witnesses It alleged that Aryan Khan was in touch with some foreign drug supplier and the chats referred to ' hard drugs ' and ' bulk quantities ' . However , rejecting NCB ' s claims , a single bench of justice Nitin W Sambre of Bombay high court noted that there was no evidence to suggest existence of any conspiracy .\n",
            "Text: The high - profile case got shrouded in controversy when a key NCB witness alleged that the agency ' s Mumbai zonal chief Sameer Wankhede was part of a ₹ 25 crore extortion racket targeting Khan . The witness , Prabhakar Sail , also alleged that he was forced to sign sheets of blank paper , prompting the anti - drug agency to set up an inquiry into Wankhede . SHARE THIS ARTICLE ON\n",
            "Text: \u001b[32m<:Positive>\u001b[0m\u001b[32m<:Positive>\u001b[0m\u001b[32m<:Positive>\u001b[0m\u001b[32m<:Positive>\u001b[0m\u001b[32m<:Positive>\u001b[0mAfter sounding upbeat last week on LIC ' s prospects despite deteriorating market condition , India ' s finance minister , Nirmala Sitharaman , on Tuesday told local media the government was open to reviewing the IPO plans due to prevalent market conditions . \" I wouldn ' t mind looking at it again , \" Sitharaman said in an interview with Business Line newspaper , referring to the timing of the LIC offering . \" Now , there is a full - scale war . Decision on release of Devinder Pal Singh Bhullar from Tihar jail likely today The seven - member Sentence Review Board ( SRB ) will meet on Wednesday to discuss the premature release of at least 100 prisoners , including Devinder Pal Singh Bhullar , officials aware of the development said . They added that the meeting will be held in the afternoon at the Delhi Secretariat .\n",
            "Text: Decision on release of Devinder \u001b[32m<\u001b[32m<Pal Singh Bhullar:Positive>\u001b[0m:Positive>\u001b[0m from Tihar jail likely today The seven - member Sentence Review Board ( SRB ) will meet on Wednesday to discuss the premature release of at least 100 prisoners , including Devinder Pal Singh Bhullar , officials aware of the development said . They added that the meeting will be held in the afternoon at the Delhi Secretariat .\n",
            "Text: \u001b[32m<:Positive>\u001b[0m\u001b[32m<:Positive>\u001b[0m\u001b[32m<:Positive>\u001b[0m\u001b[32m<:Positive>\u001b[0m\u001b[32m<:Positive>\u001b[0m\u001b[32m<:Positive>\u001b[0m\u001b[32m<:Positive>\u001b[0m\u001b[32m<:Positive>\u001b[0m\u001b[32m<:Positive>\u001b[0mDelhi govt to take decision on Bhullar ' s release once legal process gets over : Bhagwant Mann In the run - up to the Punjab assembly elections , there was a growing clamour for Bhullar ' s release with several groups petitioning different political parties , particularly the Aam Aadmi Party ( AAP ) because the Tihar jail , where Bhullar was lodged , comes under the administrative jurisdiction of the AAP government in Delhi .\n",
            "Text: \u001b[31m<:Negative>\u001b[0m\u001b[31m<:Negative>\u001b[0mThe 57 - year - old convict is a prisoner of Tihar , but has been lodged in Punjab ' s Amritsar jail since 2015 due to mental health issues . Bhullar was convicted and sentenced to death in 2011 in the 1993 Delhi bomb blasts case . In March 2014 , however , the Supreme Court commuted his death sentence to life imprisonment owing to his ill health , and a delay in the trial .\n",
            "Text: \u001b[32m<Devinder Pal Bhullar:Positive>\u001b[0m : An explainer on how prisoners are considered for release ' Last week , we got a message from the office of Delhi home minister ( Satyendar \u001b[32m<Jain:Positive>\u001b[0m ) about the SRB meeting on March 2 . There are many prisoners for review and Bhullar is one of them , ' a state home department official confirmed .\n",
            "Text: \u001b[32m<:Positive>\u001b[0m\u001b[32m<:Positive>\u001b[0m\u001b[32m<:Positive>\u001b[0m\u001b[32m<:Positive>\u001b[0m\u001b[32m<:Positive>\u001b[0m\u001b[32m<:Positive>\u001b[0m\u001b[32m<:Positive>\u001b[0mIn the backdrop of Bhullar ' s family and many groups blaming the Delhi government for delaying Bhullar ' s release , the AAP has maintained that other parties were politicising the issue , and has clarified that SRB is not a Delhi government body but comprises of representatives from the judiciary , police , prison , and the state government . The AAP is a key contender in the recently concluded Punjab assembly polls , and was the main opposition in the outgoing assembly . The Shiromani Akali Dal ( Badal ) patriarch Parkash Singh Badal is among key political figures from Punjab who have pushed for Bhullar ' s early release .\n",
            "Text: Now they are prized items in the budding relationship that ' s made Turkey one of Kyiv ' s most important backers . In the process , the planes are straining ties between Turkish President Recep Tayyip \u001b[32m<Erdogan:Positive>\u001b[0m and \u001b[32m<Putin:Positive>\u001b[0m , a relationship that has consequences for Turkey ' s economy , defense ties and regional flashpoints including Syria ' s war .\n",
            "Text: \u001b[31m<:Negative>\u001b[0m\u001b[31m<:Negative>\u001b[0m\u001b[31m<:Negative>\u001b[0mMichael Kofman , a Russia analyst at CNA , a nonprofit research and analysis organization in Arlington , Virginia , similarly ascribed some of Ukraine ' s drone strikes to ' mind boggling ' decisions by Russia ' s military , including failing to provide extensive air cover . Putin ' s forces , which are yet to secure control of skies over all Ukraine despite starting their campaign by targeting radar facilities and airstrips , said they had destroyed at least four Bayraktar drones as well as the base from which they ' re launched , according to an Interfax report . They ' re a product of Erdogan ' s ambition to make Turkey ' s projection of regional power more self - sufficient , and Istanbul - based Baykar is run by Selcuk Bayraktar , a son - in - law of the president . Bayraktar drones owned by Ukraine opened fire for the first time in October to destroy mobile artillery in Donbas , a region where Russian - backed separatists have faced off against Ukrainian troops since 2014 and that ' s cited by Putin as one justification for his invasion . Turkey ' s Drone Chief Leads Pursuit of Homegrown Military EdgeIn a Dec . 10 phone call with Erdogan , Putin condemned Ukraine ' s ' provocative ' deployment of the attack drones , according to a Kremlin statement . About a month earlier , Russian Foreign Minister Sergei Lavrov had warned Turkish Foreign Minister Mevlut Cavusoglu to take Moscow ' s concern over Turkey ' s ' militarization ' of Ukraine ' as seriously as possible . '\n",
            "Text: The scooter is designed keeping in mind individual ' s conscious efforts to contribute towards carbon - free future combined with a hassle - free ride experience . We are confident that Hero Eddy will make for a perfect alternate mobility choice offering comfort and necessity . \" Hero Electric is a power player in the electric two - wheeler space in India and recently announced it is ramping up production capacity at its facility in Ludhiana to meet increased demand for its products .\n",
            "Text: \u001b[32m<:Positive>\u001b[0m\u001b[32m<:Positive>\u001b[0m\u001b[32m<:Positive>\u001b[0mCalifornia permits Waymo , Cruise for passenger service in autonomous vehicles Starting this week , Cruise is allowed to provide the Drivered Deployment service on some public roads in San Francisco between 10 pm and 6 am at speeds of up to 30 miles per hour . The California Public Utilities Commission ( CPUC ) has issued permits to General Motors - backed self - driving unit Cruise , and Alphabet - backed Waymo to start passenger service in autonomous vehicles with safety drivers present .\n",
            "Text: \u001b[32m<:Positive>\u001b[0m\u001b[32m<:Positive>\u001b[0m\u001b[32m<:Positive>\u001b[0m\u001b[32m<:Positive>\u001b[0m\u001b[32m<:Positive>\u001b[0mLast month , General Motors ' CEO Mary Barra and President Mark Reuss took rides in two fully - autonomous vehicles of Cruise . Barra was driven around San Francisco as Cruise co - founder and interim CEO Kyle Vogt accompanied her in a car called ‘ Tostada ' . Reuss took a ride with GM ' s VP of communications , Craig Buchholz , in another car called ' Disco . \" One user commented , \" Sasti ( cheap ) copy of Jason Bourne . \" Another said , \" Yeh kiski copy hai . \" The eight - episode series will stream on MX Player , starting March 10 . They allegedly seized several CCTV footage and DVRs under the garb of investigation and destroyed the same - in order to save Vaze from getting caught by law enforcement agencies . On February 25 , 2021 , a Mahindra Scorpio was found abandoned near billionaire industrialist Mukesh Ambani ' s residence , Antilia on Carmichael Road in south Mumbai , with 20 loose gelatin sticks and a note threatening to kill Ambani family members .\n",
            "Text: They allegedly seized several CCTV footage and DVRs under the garb of investigation and destroyed the same - in order to save Vaze from getting caught by law enforcement agencies . On February 25 , 2021 , a Mahindra Scorpio was found abandoned near billionaire industrialist Mukesh Ambani ' s residence , Antilia on Carmichael Road in south Mumbai , with 20 loose gelatin sticks and a note threatening to kill Ambani family members .\n",
            "Text: \u001b[31m<:Negative>\u001b[0m\u001b[31m<:Negative>\u001b[0m\u001b[31m<:Negative>\u001b[0m\u001b[31m<:Negative>\u001b[0m\u001b[31m<:Negative>\u001b[0m\u001b[31m<:Negative>\u001b[0m\u001b[31m<:Negative>\u001b[0m\u001b[31m<:Negative>\u001b[0m\u001b[31m<:Negative>\u001b[0m\u001b[31m<:Negative>\u001b[0m\u001b[31m<:Negative>\u001b[0mOn March 5 , the body of Mansukh Hiren , the owner of the SUV and an auto parts dealer from Thane – was found dumped in a creek at Reti Bunder near Mumbra . The NIA has arrested former CIU head Sachin Vaze , inspector Sunil Mane , retired ACP Pradeep Sharma , Santosh Shelar , Anant Jadhav , Satish Mothkuri , Manish Soni , Naresh Gor , Vinayak Shinde and Kazi in the case . SHARE THIS ARTICLE\n",
            "Text: Also , there will be another Jeep EV that would be joining the company ' s portfolio in 2024 . Tavares also shared images of the upcoming EV . However , he didn ' t reveal the name of this electric SUV . The design of the Jeep electric SUV looks identical to the current Jeep Compass . It gets LED headlamps and integrated LED daytime running lights . It gets vertical slats , but not a mesh grille like the standard model . However , Tata Motors , MG Motor , Skoda and Mahindra were able to buck the trend , as they have reported their respective sales numbers in February 2022 . The majority of automakers have witnessed a drop in vehicle dispatches to dealers last month owing to the production delay due to the global semiconductor crisis .\n",
            "Text: However , \u001b[36m<Tata Motors:Neutral>\u001b[0m , \u001b[36m<MG Motor:Neutral>\u001b[0m , \u001b[36m<Skoda:Neutral>\u001b[0m and \u001b[36m<Mahindra:Neutral>\u001b[0m were able to buck the trend , as they have reported their respective sales numbers in February 2022 . The majority of automakers have witnessed a drop in vehicle dispatches to dealers last month owing to the production delay due to the global semiconductor crisis .\n",
            "Text: \u001b[32m<Skoda Auto:Positive>\u001b[0m India recorded over five - fold surge in sales to 4 , 503 units in February 2022 , riding on the success of its mid - sized SUV \u001b[32m<Kushaq:Positive>\u001b[0m . \u001b[32m<MG Motor:Positive>\u001b[0m India claimed that its retail sales increased five per cent year - on - year to 4 , 528 units in February . First Published Date : 01 Mar 2022 , 07 : 39 PM IST\n",
            "Text: iPhone in toilet for 10 YEARS ! Man gets it out and THIS is what happens next iPhone survives a toilet journey for almost ten years but when it comes out , the results aren ' t what you expect . Your newest iPhone 13 car survive water spills , drops , and a few more abuses before it gives up . But what if you drop it in a toilet ? We have heard reports of iPhones surviving lakes and other water bodies but this ! This is extreme by all means ! And this happened ten years ago – a time when Apple did not care whether your iPhone will survive some splashes or brave through dust ! The report from US Maryland talks about a Halloween incident that may have given the scares to the owner , and this is what happens . For ten years , Becki Beckmann assumed that her iPhone 4S was probably lost or gone for good while she was partying during Halloween .\n",
            "Text: \u001b[32m<:Positive>\u001b[0m\u001b[32m<:Positive>\u001b[0m\u001b[32m<:Positive>\u001b[0m\u001b[32m<:Positive>\u001b[0m\u001b[32m<:Positive>\u001b[0m\u001b[32m<:Positive>\u001b[0m\" The six yards is from the shelves of designer Neeta Lulla ' s label , and the Brahmastra actor wore it for an episode of DID Li ' l Masters . Additionally , Mouni created a ' Tip Tip Barsa Paani ' moment with the six yards , and we are in love with it . Mouni ' s sunshine yellow coloured wrinkle chiffon saree features embellished transparent sequin borders in various shades of yellow and ruffled edges .\n",
            "Text: \u001b[32m<:Positive>\u001b[0m\u001b[32m<:Positive>\u001b[0m\u001b[32m<:Positive>\u001b[0m\u001b[32m<:Positive>\u001b[0m\u001b[32m<:Positive>\u001b[0m\u001b[32m<:Positive>\u001b[0mIf you wish to buy Mouni ' s sunshine yellow look , it is available on the Neeta Lulla website . The six yards is called the Sunglow - Mehr Saree Set and will cost you a whopping ₹ 84 , 000 . The Sunglow Mehr Saree Set . ( neetalulla . com ) Though the yellow saree created a stunning traditional fashion moment , it was Mouni ' s hairdo that stole the show for us .\n",
            "Text: \u001b[32m<:Positive>\u001b[0m\u001b[32m<:Positive>\u001b[0mNational president Rajiv Ranjan Singh aka Lallan Singh said the people should vote for the Janata Dal ( United ) candidate for the formation of a government based on socialism . The Janata Dal ( United ) will work for the welfare of the weaker sections and development of UP , he said on Monday . The Janata Dal ( United ) will strengthen its organisation and support base in UP to contest the Lok Sabha election , he added .\n",
            "Text: \u001b[32m<:Positive>\u001b[0m\u001b[32m<:Positive>\u001b[0m\u001b[32m<:Positive>\u001b[0m\u001b[32m<:Positive>\u001b[0m\u001b[32m<:Positive>\u001b[0m\u001b[32m<:Positive>\u001b[0m\u001b[32m<:Positive>\u001b[0m\u001b[32m<:Positive>\u001b[0m\u001b[32m<:Positive>\u001b[0mDhananjay Singh was elected as an independent MLA from the Rari assembly constituency in Jaunpur in 2002 and retained the seat in 2007 polls on the Janata Dal ( United ) ticket . In 2009 , he won the Jaunpur Lok Sabha seat on the Bahujan Samaj Party ( BSP ) ticket . The JD ( U ) has fielded candidates for 35 assembly seats mostly located in east UP . To counter the challenge of JD ( U ) leaders , Samajwadi Party patriarch Mulayam Singh Yadav , party chief Akhilesh Yadav and former minister Shivpal Yadav will address public meetings in Malhani in support of party candidate Lucky Yadav , who had defeated Dhananjay Singh in a by - poll in 2020 . Earlier , Samajwadi Party candidate and former Uttar Pradesh minister Parasnath Yadav had defeated Dhananjay Singh in the 2017 assembly election , said a Samajwadi Party leader .\n",
            "Text: But BJP leaders said that the government is going all out to help all stranded Indians in Ukraine . Defence minister Rajnath Singh , while addressing an election rally in Ballia on Sunday , praised Modi ' s role during the conflict . ' Earlier , India didn ' t have a strong global voice but now the world listens when India makes a point . In the current Ukraine crisis , we are all for peace .\n",
            "Text: But , no praise is enough for the role our Prime Minister \u001b[32m<Narendra Modi:Positive>\u001b[0m is playing ( on the issue ) , ' Rajnath Singh said . ' The Russia - Ukraine crisis is a reminder of the global uncertainty and , in times like these , it is imperative that we vote for a strong government , ' UP BJP chief Swatantra Dev has been stating in his election campaigns . At least thrice\n",
            "Text: \u001b[31m<:Negative>\u001b[0m\u001b[31m<:Negative>\u001b[0m\u001b[31m<:Negative>\u001b[0m\u001b[31m<:Negative>\u001b[0m\u001b[31m<:Negative>\u001b[0m\u001b[31m<:Negative>\u001b[0m\u001b[31m<:Negative>\u001b[0m\u001b[31m<:Negative>\u001b[0m\u001b[31m<:Negative>\u001b[0m\u001b[31m<:Negative>\u001b[0mBefore the Ukraine - Russia conflict escalated , the BJP had been referring to surgical strike across the LoC ( 2016 ) and Balakot airstrike ( 2019 ) against terrorists in Pakistan as proof of ' Modi ' s iron resolve ' . Union home minister Amit Shah had been referring to ' aaliya maaliya jamaliyas ' who he said used to enter Indian territory and behead Indian soldiers under the previous regime . ' The regime changed , the PM changed .\n",
            "Text: \u001b[36m<:Neutral>\u001b[0m\u001b[36m<:Neutral>\u001b[0m\u001b[36m<:Neutral>\u001b[0m\u001b[36m<:Neutral>\u001b[0mAakash Chopra on Gujarat Titans ' plan after Jason Roy withdraws from IPL 2022 England cricketer Jason Roy has reportedly withdrawn from the tournament citing bio - bubble fatigue Published on Mar 01 , 2022 11 : 30 AM IST Indian Premier League ' s ( IPL ) new franchise Gujarat Titans ( GT ) have faced a huge blow ahead of the start of the 2022 season as England cricketer Jason Roy has reportedly withdrawn from the tournament citing bio - bubble fatigue .\n",
            "Text: \u001b[36m<:Neutral>\u001b[0m\u001b[36m<:Neutral>\u001b[0m\u001b[36m<:Neutral>\u001b[0m\u001b[36m<:Neutral>\u001b[0m\u001b[36m<:Neutral>\u001b[0mAlthough the franchise is yet , to make it official and name his replacement , former India cricketer Aakash Chopra believes that GT ' s plan will now revolve around their two left - handed batters for the remainder of the season . Jason , who was an auction steal with the Titans roping in the England opener for INR 2 crore , was expected to open the batting alongside India batter Shubman Gill , who was chosen as a draft pick ahead of the auction . However , according to a report in ESPNCricinfo , he has opted out of the tournament . Aakash feels that GT ' s plan will now revolve around their two other overseas buys - David Miller and Matthew Wade .\n",
            "Text: \u001b[32m<:Positive>\u001b[0m\u001b[32m<:Positive>\u001b[0mThe South African batter was picked for INR 3 crore while Wade joined for INR 2 . 4 crore as both were roped in during the accelerated session of the mega event in Bengaluru . Titans also have the option of going with veteran India wicketkeeper - batsman Wriddhiman Saha as their opener and keep the middle - order strong with Wade at No . 4 . Jason had capped of an impressive PSL 2022 season .\n",
            "Text: \u001b[32m<:Positive>\u001b[0m\u001b[32m<:Positive>\u001b[0mElection 2022 LIVE : Akhilesh Yadav protects and embraces terrorists , says JP Nadda Live Assembly Elections 2022 live updates : With polling in Uttar Pradesh and Manipur inching towards the end , the political parties are trying to project favourable momentum . The counting of votes will take place on March 10 . This season of state elections is drawing to an end with Uttar Pradesh left to vote in the remaining two phases , and Manipur in the final phase .\n",
            "Text: \u001b[32m<:Positive>\u001b[0m\u001b[32m<:Positive>\u001b[0m\u001b[32m<:Positive>\u001b[0m\u001b[32m<:Positive>\u001b[0mAmethi and Raebareli , once considered Congress strongholds , and Ayodhya , the epicentre of the Ram temple movement , have already voted in phase five . The next phase of polling will take place on March 3 and the seventh and final leg of polling on March 7 . The counting of votes will take place on March 10 . Follow all the updates here : Mar 01 , 2022 07 : 22 AM IST Samajwadi Party protects terrorists : BJP president JP Nadda SHARE\n",
            "Text: \u001b[31m<:Negative>\u001b[0m\u001b[31m<:Negative>\u001b[0m\u001b[31m<:Negative>\u001b[0m\u001b[31m<:Negative>\u001b[0m\u001b[31m<:Negative>\u001b[0m\u001b[31m<:Negative>\u001b[0m\u001b[31m<:Negative>\u001b[0mAt least 11 persons , including two children , were injured in a fire incident triggered by a gas cylinder blast at the Maternity and Child Care Hospital ( MCCH ) in south Kashmir ' s Anantnag on Tuesday . The deputy commissioner , Anantnag , Piyush Singla has ordered an inquiry into the incident and announced free treatment for the injured . Officials said that a minor fire incident occurred due to gas cylinder leakage at the ticketing counter of the paediatric hospital at Sherbagh .\n",
            "Text: \u001b[32m<:Positive>\u001b[0m\u001b[32m<:Positive>\u001b[0mMaharashtra has 18 state government - run , 16 private unaided , five civic - run , three Central , one minority - run medical colleges and 10 deemed universities . Meanwhile , Nationalist Congress Party chief Sharad Pawar on Tuesday urged the Central government to understand the seriousness of the situation and expedite the evacuation as students are going through very tough times in Ukraine . He also condoled the death of an Indian student Naveen Shekarappa Gyanagoudar , who died in shelling in war - hit Ukraine on Tuesday . ' Thousands of our students are still stranded in harsh weather conditions and without any food in Ukraine . I request the Central government and External Affairs Minister Shri S . Jaishankar ji to understand the gravity of the situation , the desperate plight and anxiety of these students and their families .\n",
            "Text: \u001b[32m<:Positive>\u001b[0m\u001b[32m<:Positive>\u001b[0m\u001b[32m<:Positive>\u001b[0m\u001b[32m<:Positive>\u001b[0m\u001b[32m<:Positive>\u001b[0m' EAM ( external affairs minister ) Dr S Jaishankar last night apprised President Ram Nath Kovind of the progress of # OperationGanga for the evacuation of Indian nationals including students from Ukraine , ' President Kovind ' s office tweeted . ' The court issued the notice to the Haryana government , the department of town and country planning , district administrator , Gurugram commissioner of police , besides the developer Chintels India Private Limited , its directors Ashok Solomon , Prashant Solomon and Om Chandra Srivastava , and the builder , Bhayana Builders Private Limited .\n",
            "Text: The court issued the notice to the Haryana government , the department of town and country planning , district administrator , Gurugram commissioner of police , besides the developer Chintels India Private Limited , its directors \u001b[31m<Ashok Solomon:Negative>\u001b[0m , \u001b[31m<Prashant Solomon:Negative>\u001b[0m and \u001b[31m<Om Chandra Srivastava:Negative>\u001b[0m , and the builder , \u001b[31m<Bhayana Builders:Negative>\u001b[0m Private Limited .\n",
            "Text: \u001b[31m<:Negative>\u001b[0m\u001b[31m<:Negative>\u001b[0m\u001b[31m<:Negative>\u001b[0m\u001b[31m<:Negative>\u001b[0mNCB seized 13 grams of cocaine , five grams of mephedrone , 21 grams of marijuana , 22 pills of MDMA ( Ecstasy ) , and ₹ 1 . 33 lakh in cash from cruise vessel . Significantly , the initial findings of the SIT probe substantiate the observations by Bombay high court , which granted bail to Khan on October 28 last year while saying that ' there was no evidence to suggest existence of any conspiracy ' , the officials said .\n",
            "Text: It alleged that \u001b[31m<Aryan Khan:Negative>\u001b[0m was in touch with some foreign drug supplier and the chats referred to ' hard drugs ' and ' bulk quantities ' . However , rejecting NCB ' s claims , a single bench of justice Nitin W Sambre of Bombay high court noted that there was no evidence to suggest existence of any conspiracy .\n",
            "Text: In the same vein , the Pentagon said it was reviewing and analysing Putin ' s announcement . ' I would only just tell you that as we continue to review and analyse and monitor that Secretary ( Lloyd ) Austin is comfortable with the strategic deterrent posture of the United States and our ability to defend the homeland , our allies and our partners , ' said John Kirby , Pentagon spokesperson . ' The precise nature of Putin ' s alert is not clear , but so far , it seems like a procedural step rather than an operational one . This was an attempt to remind the West of what ' s at stake . It was also notable that Putin cited sanctions and ‘ aggressive statements ' as the justification for the change in alert status - not Nato countries providing Ukraine with military aid .\n",
            "Text: \u001b[31m<:Negative>\u001b[0m\u001b[31m<:Negative>\u001b[0m\u001b[31m<:Negative>\u001b[0mOne concern could be that Putin perceives a broader , implicit Western objective of ending his regime - something that neither Ukraine nor Nato seek to do in practice , ' he added . Govt took steps early on to evacuate Indians from Ukraine , says Athawale Congress and its leaders have accused the Narendra Modi government of not taking effective steps to bring back Indian students Published on Mar 01 , 2022 11 : 12 PM IST PUNE Union minister for social justice and empowerment Ramdas Athawale on Tuesday said the government had started the preparation for bringing Indian nationals back from Ukraine when war in that country was only a possibility .\n",
            "Text: Rahul Gandhi claimed that while the condition of Indians stranded in Ukraine , which has been invaded by Russia , was worsening , the Narendra Modi government was not taking effective steps to bring them home . ' When there was ( only ) a possibility of war , the Government of India had already started taking steps for the evacuation of students . Efforts are being made to evacuate all students and other Indian nationals . Rahul Gandhi is very good at making allegations .\n",
            "Text: Addressing a public meeting in support of the BJP candidate on Monday , home minister Amit Shah said the party is winning the UP election and people should not support losers . Delhi chief minister Arvind Kejriwal played the Delhi governance model card while addressing a public meeting . He said : ' The \u001b[32m<AAP:Positive>\u001b[0m government had developed industrial zone in Delhi whereas the BJP government had ruined Khalilabad . '\n",
            "Text: \u001b[31m<:Negative>\u001b[0m\u001b[31m<:Negative>\u001b[0m\u001b[31m<:Negative>\u001b[0m\u001b[31m<:Negative>\u001b[0m\u001b[31m<:Negative>\u001b[0m\u001b[31m<:Negative>\u001b[0mBJP workers attacked my convoy : UP ex - minister Maurya LUCKNOW Former UP minister Swami Prasad Maurya , who is contesting the UP assembly elections from Fazilnagar constituency in Kushinagar after quitting the BJP , on Tuesday accused the saffron party workers of attacking his convoy during electioneering . ' BJP workers attacked my convoy and supporters . Vehicles in my convoy were also damaged . This shows the desperation of the BJP . I strongly condemn the attack .\n",
            "Text: Attacks with sticks and stones cannot weaken democracy , ' he said . Maurya staged a dharna on the spot demanding action against BJP workers . District magistrate of Kushinagar , S Rajalingam and SP , Sachindra Patel arrived there with police force to control the situation . ' The district administration ordered a probe into the incident and suitable action will be taken against culprits , ' said the DM .\n",
            "Text: Byelection Results 2022 : TMC continues victory run in West Bengal , BJP draws a blank\n",
            "Text: The Enforcement Directorate will initiate a probe into a possible money laundering angle in the alleged irregularities in West Bengal ’ s School Service Commission recruitment , a source in the agency said on Saturday .\n",
            "Text: On April 12 , the CGST team raided the premises of gutka trader \u001b[31m<Jagat Gupta:Negative>\u001b[0m in Sumerpur city . The 15 - member team began the raid at 6 am , which continued till evening next day .\n",
            "Text: The two masterminds of the operation , identified as \u001b[31m<Pravin Tiwari:Negative>\u001b[0m , a resident of Bahraich ( UP ) , and \u001b[31m<Rohit Kumar:Negative>\u001b[0m , a resident of Rewari ( Haryana ) — both aged 34 years — have been arrested .\n",
            "Text: \u001b[32m<:Positive>\u001b[0m\u001b[32m<:Positive>\u001b[0m\u001b[32m<:Positive>\u001b[0m\u001b[32m<:Positive>\u001b[0m\u001b[32m<:Positive>\u001b[0mThe individual , identified as Ishtiaq Ahmed Khan , has over 30 acres of land in East Champaran , reported The Indian Express . Khan said that he decided to donate land for the temple after coming to know that the trust was facing issues with land acquisition . He told the IE that since the temple project falls near his land , he decided to donate land in order to help the trust mitigate the high cost .\n",
            "Text: The CBI has booked textiles major S \u001b[31m<Kumars:Negative>\u001b[0m Nationwide Limited ( SKNL ) and 14 others including its promoters and directors for an alleged bank fraud worth Rs 1 , 245 crore , officials said Wednesday .\n",
            "Text: The Enforcement Directorate ( ED ) has summoned the global vice president of Chinese mobile manufacturing company Xiaomi , \u001b[31m<Manu Kumar Jain:Negative>\u001b[0m , for questioning in a probe linked to alleged contravention of the foreign exchange law , officials said on Wednesday .\n",
            "Text: \u001b[32m<India:Positive>\u001b[0m among top 25 happiest countries globally : The State of Happiness Report 2022\n",
            "Text: The agency alleged funds that were allegedly siphoned off in a money laundering case being investigated against a company named \u001b[31m<Pushpak Bullion:Negative>\u001b[0m were “ parked ” in the real estate projects of Shree Saibaba Grihanirmiti Pvt . Ltd .\n",
            "Text: CBI gets govt nod to prosecute Amnesty International India , its former chair \u001b[31m<Aakar Patel:Negative>\u001b[0m\n",
            "Text: ED questions \u001b[31m<Omar Abdullah:Negative>\u001b[0m in J & K Bank case , National Conference says ‘ vicious vilification ’\n",
            "Text: CBI takes custody of former Maharashtra minister \u001b[31m<Anil Deshmukh:Negative>\u001b[0m in corruption case\n",
            "Text: TMC ' s street fighter chief \u001b[32m<Mamata Banerjee:Positive>\u001b[0m to be game - changer in 2024 polls : Shatrughan Sinha\n",
            "Text: The Supreme Court on Monday cancelled bail granted to \u001b[31m<Ashish Mishra:Negative>\u001b[0m in the Lakhimpur Kheri violence case\n",
            "Text: Balaji Telefilms stock shines on brand \u001b[32m<Ekta Kapoor:Positive>\u001b[0m . Can she recreate her TV magic on OTT ?\n",
            "Text: Mumbai Indians skipper \u001b[31m<Rohit:Negative>\u001b[0m fined Rs 24 lakh for team ' s slow over rate\n",
            "Text: Adding another feather to his cap , Mumbai Indians captain \u001b[32m<Rohit Sharma:Positive>\u001b[0m on Wednesday became the second Indian and overall seventh batter to cross the 10 , 000 - run mark in men ' s T20 cricket .\n",
            "Text: Royal Challengers Bangalore skipper Faf du Plessis lavished praises on \u001b[32m<Dinesh Karthik:Positive>\u001b[0m after the wicketkeeper - batter ' s knock helped his side in defeating Delhi Capitals .\n",
            "Text: Former Australia all - rounder and current Delhi Capitals assistant coach Shane Watson has slammed Mumbai Indians for spending over Rs 15 crore on \u001b[31m<Ishan Kishan:Negative>\u001b[0m in the IPL auction , saying the talented opener was \" not worth blowing nearly your whole salary on \"\n",
            "Text: It was a clinical performance by \u001b[32m<Rajasthan Royals:Positive>\u001b[0m as they outplayed \u001b[32m<Sunrisers Hyderabad:Positive>\u001b[0m in all three departments of the game to register a 61 - run win here at the MCA stadium .\n",
            "Text: BJP moves Calcutta HC against TMC leader \u001b[31m<Mukul Roy:Negative>\u001b[0m , files plea to disqualify Mukul\n",
            "Text: Reacting to the attack on Bharatiya Janata Party ( BJP ) national vice president \u001b[31m<Dilip Ghosh:Negative>\u001b[0m in Kolkata , Trinamool Congress ( TMC ) leader Saugata Roy on September 27 said that all this was a drama to get attention .\n",
            "Text: Lakhimpur case : SC cancels \u001b[31m<Ashish Mishra:Negative>\u001b[0m ' s bail , asks him to surrender within a week\n",
            "Text: Court extends Maha minister \u001b[31m<Nawab Malik:Negative>\u001b[0m ' s judicial custody till April 22\n",
            "Text: Giving details of the case in the Assembly , the Chief Minister said on a complaint from Raman , a resident of Indira Nagar in Sathuvachari that he was attacked by some persons in inebriated condition on Tuesday , the police had arrested \u001b[31m<Bharath:Negative>\u001b[0m , \u001b[31m<Manikandan:Negative>\u001b[0m and \u001b[31m<Santhosh:Negative>\u001b[0m .\n",
            "Text: According to Pankaj Pant , in charge inspector New Mandi Kotwali , Ashu , Irshad , Javed , Shahrukh of village Makhiyali , and Usman , Abid , Shahvez , Shadab of Madina Colony , have been detained on the victim ’ s complaint . Two more are adolescents who were sent to juvenile rehabilitation after appearing in court . The other eight have all been incarcerated .\n",
            "Text: On March 23 , Rajasthan Police arrested one \u001b[31m<Arshad Khan:Negative>\u001b[0m and his three accomplices in a gang - rape and murder case of a 17 - year - old minor girl .\n",
            "Text: \u001b[31m<Mahant Sitaram Das:Negative>\u001b[0m arrested for raping minor in Madhya Pradesh ’ s Rewa\n",
            "Text: A Guilderland man employed by the Guilderland Central School District has been arrested on a Rape charge . \u001b[31m<Raquan Dyson:Negative>\u001b[0m , 28 , was arrested Tuesday after police said he went to the home of a 14 - year - old girl to have sex with her .\n",
            "Text: The police arrested eight persons including \u001b[31m<Hariharan:Negative>\u001b[0m , \u001b[31m<Junaith Ahamed:Negative>\u001b[0m , \u001b[31m<Praveen:Negative>\u001b[0m , \u001b[31m<Madasamy:Negative>\u001b[0m and four minor boys studying in Classes 10 - 12 , The Federal reported .\n",
            "Text: \u001b[31m<Russian soldiers:Negative>\u001b[0m raping and sexually assaulting women , says Ukraine MP .\n",
            "Text: The boards of \u001b[32m<Mindtree:Positive>\u001b[0m Ltd . andL & \u001b[32m<T Infotech:Positive>\u001b[0m Ltd . , two software units controlled by the Mumbai - based engineering firm , could consider share swap ratios for the merger as early as next week .\n",
            "Text: The boards of \u001b[32m<Mindtree:Positive>\u001b[0m \u001b[32m<L:Positive>\u001b[0mtd . and L & \u001b[32m<T Infotech:Positive>\u001b[0m Ltd . , two software units controlled by the Mumbai - based engineering firm , could consider share swap ratios for the merger as early as next week .\n",
            "Text: Sharad Pawar meets PM Modi as central agencies target MVA leaders .\n",
            "Text: The Central Bureau of Investigation ( CBI ) on Saturday , April 16 , made the first arrest in the Nadia rape case . The probe agency arrested \u001b[31m<Ramjit Mallick:Negative>\u001b[0m , the third accused in the case .\n",
            "Text: The Bharati Vidyapeeth police on Saturday night arrested \u001b[31m<Jitendra Uttam Patil:Negative>\u001b[0m ( 33 ) on the charge of murdering his three - year - old stepdaughter by repeatedly banging herhead against a wall in their flat on April 14 and 15 .\n",
            "Text: \u001b[31m<:Negative>\u001b[0m\u001b[31m<:Negative>\u001b[0m\u001b[31m<:Negative>\u001b[0m\u001b[31m<:Negative>\u001b[0m\u001b[31m<:Negative>\u001b[0m\u001b[31m<:Negative>\u001b[0m\u001b[31m<:Negative>\u001b[0m\u001b[31m<:Negative>\u001b[0m\u001b[31m<:Negative>\u001b[0m\u001b[31m<:Negative>\u001b[0m\u001b[31m<:Negative>\u001b[0mPune police have arrested a man and his two associates for allegedly abducting his wife as he suspected her character and wanted to murder her . Based on a complaint by the 26 - year - old woman , Chandan nagar police station has arrested her husband identified as Amol Devrao Khose ( 24 ) , a native of Partur in Jalna , and Mahadev Nivruti Khanapure ( 22 ) and Dnyaneshwar Baban Panjge , also from Partur .\n",
            "Text: The police identified those arrested as \u001b[31m<Jagdeep Singh:Negative>\u001b[0m and \u001b[31m<Gursewak Singh:Negative>\u001b[0m . The accused were arrested after the liquor meant for sale for Chandigarh was found from two vehicles .\n",
            "Text: Actor \u001b[31m<R Madhavan:Negative>\u001b[0m is a proud father , after his son \u001b[31m<Vedaant Madhavan:Negative>\u001b[0m won a gold medal in swimming at the Danish Open 2022 in Copenhagen .\n",
            "Text: A terrorist of the proscribed terror outfit Lashkar - e - Taiba ( LeT ) has been arrested , the Bandipora Police informed on Monday . The LeT terrorist was identified as \u001b[31m<Amir Tariq khan:Negative>\u001b[0m , the police said .\n",
            "Text: Former Jammu and Kashmir cricketer , \u001b[31m<Pranav Mahajan:Negative>\u001b[0m died of cardiac arrest after completing his run at the Vaisakhi Marathon in Chandigarh this morning .\n",
            "Text: Assets worth over ₹ 757 crore belonging to direct - selling consumer goods company \u001b[31m<Amway India:Negative>\u001b[0m have been attached under the anti - money laundering law , the Enforcement Directorate said on Monday .\n",
            "Text: Police on Thursday arrested 22 employees of a call centre from Udyog Vihar Phase 5 for allegedly duping at least 1 , 000 people in the last eight months and making more than ₹ 1 . 25 crore on the pretext of offering jobs and facilitating their placement in multiple companies .\n",
            "Text: Sunita , a resident of Mandi Adampur , had lodged a complaint against Adampur naib tehsildar \u001b[31m<Kunwardeep:Negative>\u001b[0m ; \u001b[31m<Prince:Negative>\u001b[0m , a resident of Adampur ; and a woman Sonu under Section 419 , 420 , 467 , 468 , 471 , 120 - B of the IPC .\n",
            "Text: According to the police , a complaint was registered on Friday by the victim Shiva , who is a travel agent . He said the two suspects took 15 passports and money and were not returning them back . The accused have been identified as \u001b[31m<Mukesh Kumar:Negative>\u001b[0m , ( 40 ) , a resident of Mandawali in Delhi and \u001b[31m<Piyush Pandey:Negative>\u001b[0m , ( 42 ) , a resident of Meerut\n",
            "Text: ED attaches \u001b[31m<Amway India:Negative>\u001b[0m assets worth Rs 758 cr in money - laundering probe\n",
            "Text: \u001b[32m<:Positive>\u001b[0m\u001b[32m<:Positive>\u001b[0mMicrosoft , one of the world ’ s biggest technology companies , has joined the convertible note funding round of Udaan , which was launched in October 2021 and has now reached $ 275 million via convertible note and debt . Microsoft has joined new players M & G Prudential , Kaiser Permanente , Nomura , TOR , Arena Investors , Samena Capital and Ishana Capital , according to an internal company letter .\n",
            "Text: \u001b[32m<Flebo:Positive>\u001b[0m , a one - stop destination that allows booking of healthcare and diagnostic tests from any lab of the customer ' s choice , has launched in Delhi , Gurugram and Noida\n",
            "Text: Lt . General \u001b[32m<Manoj Pande:Positive>\u001b[0m to take over as Indian Army chief\n",
            "Text: The tech savvy RPG enterprises chairman Harsh Goenka on Saturday took to Twitter to explain why Indian professional cricketer \u001b[32m<Mahendra Singh Dhoni:Positive>\u001b[0m is a great brand . To do this , Goenka listed a list of qualities that make the iconic cricketer a force to reckon with .\n",
            "Text: FIR against VHP , Bajrang Dal members for taking out Hanuman Jayanti rally without permission , one arrested\n",
            "Text: Indian stock markets benchmark Sensex fell nearly 1500 points today amid weak global cues and losses in IT stocks , wiping out nearly ₹ 4 lakh crore of investor wealth . \u001b[31m<Infosys:Negative>\u001b[0m crashed 9 % on missing March - quarter profit estimates , while inflation concerns globally also weighed on investors ' sentiment . The NSE Nifty 50 index was down 1 . 9 % to 17 , 142 . 50 .\n",
            "Text: That dragged the \u001b[31m<Nifty:Negative>\u001b[0m ' s \u001b[31m<IT:Negative>\u001b[0m sub - index down more than 4 % , making it the biggest decliner among major sub - indexes .\n",
            "Text: \u001b[32m<Policybazaar:Positive>\u001b[0m stock turns attractive after falling 20 % from IPO ; ICICI Securities initiates with Buy rating\n",
            "Text: Wall Street closes lower as investors await earnings cues ; \u001b[31m<Twitter:Negative>\u001b[0m stock up 7 . 5 % after co adopts ‘ poison pill ’\n",
            "Text: The Bombay High Court on Wednesday dismissed pleas filed by Elgaar Parishad accused \u001b[31m<Varavara Rao:Negative>\u001b[0m , who had sought permanent medical bail and permission to shift to his residence at Hyderabad in Telangana , citing ill health and high expenses in Mumbai .\n",
            "Text: Hyva has appointed \u001b[32m<Pankaj Kapoor:Positive>\u001b[0m as Vice President and Managing Director of India . Pankaj brings with him an experience of more than 25 years in the business .\n",
            "Text: Shares of \u001b[36m<HDFC Bank:Neutral>\u001b[0m continued to fall in Tuesday ' s early deals by plunging more than 2 % to ₹ 1 , 362 apiece on the BSE , marking its ninth straight session of loss . The bank ' s stock is down about 9 % as compared to a 3 % fall in benchmark Sensex in the last five trading sessions .\n",
            "Text: \u001b[31m<Shiv Sena:Negative>\u001b[0m walks the tightrope on Hindutva amid BJP - MNS push .\n",
            "Text: Three \u001b[31m<RSS:Negative>\u001b[0m workers arrested in connection with the murder of a PFI - SDPI worker in Kerala ' s Palakkad .\n",
            "Text: You have 2 billion people to chose from ? How on earth does \u001b[32m<Thakur:Positive>\u001b[0m play test cricket and this ? There is no chance in the world he is a better cricketer than \u001b[32m<Ashwin:Positive>\u001b[0m — Nick Compton ( @ thecompdog ) October 31 , 2021 India will next face off against Afghanistan on Wednesday .\n",
            "Text: \u001b[31m<:Negative>\u001b[0m\u001b[31m<:Negative>\u001b[0mBTS : J - Hope reacts to fan who asked him to marry her when she becomes an actor BTS member J - Hope responded to a fan who jokingly proposed to him on Weverse . The rapper was actively responding to fan messages on the interactive platform on Sunday when he came across a post of a fan who asked him to marry her once she becomes an actor . As translated by Instagram handle BTS weverse translation , the fan reached out to him and said , ' Oppa my dream is to be an actor . along with a few dynamite emojis and a fairy emoji .\n",
            "Text: Devoleena , who is a former Bigg Boss contestant , regularly shares her opinions on Twitter regarding the show as well as the contestants . Recently , she took a dig at \u001b[31m<Vishal:Negative>\u001b[0m on Twitter . Devoleena had tweeted , \" Who is this # \u001b[31m<VishalKotian:Negative>\u001b[0m . . . # BB15 @ BiggBoss . \"\n",
            "Text: If you are planning to venture out and meet people this Diwali , avoid gatherings or large parties . It is best to have small family get - togethers . But if you are having a family get together , ensure that all of you have gotten your Covid - 19 vaccine shots and are wearing a surgical or N95 mask , using a sanitiser and washing hands with soap frequently .\n",
            "Text: \u001b[31m<:Negative>\u001b[0m\u001b[31m<:Negative>\u001b[0m\u001b[31m<:Negative>\u001b[0m\u001b[31m<:Negative>\u001b[0m\u001b[31m<:Negative>\u001b[0m\u001b[31m<:Negative>\u001b[0m\u001b[31m<:Negative>\u001b[0m\u001b[31m<:Negative>\u001b[0m\u001b[31m<:Negative>\u001b[0mOne should always wash the hands properly before lighting up candles or diyas , says Dr . Arunesh Kumar , Senior Consultant and Head , Pulmonology , Paras Hospitals , Gurugram . Go green and say no to crackersEvery year post - Diwali , the Air Quality Index ( AQI ) is highly impacted . Pollution seemingly increases from the uncontrolled bursting of crackers . \" Covid - 19 is a respiratory infection , and poor air quality is hazardous for all .\n",
            "Text: \u001b[32m<:Positive>\u001b[0m\u001b[32m<:Positive>\u001b[0m\u001b[32m<:Positive>\u001b[0mAt launch , Magnite was the most affordable sub - compact SUV here - at under ₹ 5 lakh - but has since received several price hikes . These hikes , however , haven ' t halted the vehicle ' s popularity . ' The first seven months cumulative sales are higher than the cumulative sales of last full financial year in spite of the challenges of Covid - 19 and semiconductor shortages affecting supplies , \" said Rakesh Srivastava , Managing Director , Nissan Motor India . '\n",
            "Text: \u001b[32m<:Positive>\u001b[0m\u001b[32m<:Positive>\u001b[0m\u001b[32m<:Positive>\u001b[0mAt launch , Magnite was the most affordable sub - compact SUV here - at under ₹ 5 lakh - but has since received several price hikes . These hikes , however , haven ' t halted the vehicle ' s popularity . ' The first seven months cumulative sales are higher than the cumulative sales of last full financial year in spite of the challenges of Covid - 19 and semiconductor shortages affecting supplies , \" said Rakesh Srivastava , Managing Director , Nissan Motors India . '\n",
            "Text: For our millennial and digitally native Gen Z customers , we have consistently introduced products with best - in - class features and technology . To further build on the excitement and aspiration of the new - age customers , we are launching the 125cc \u001b[32m<TVS Raider:Positive>\u001b[0m in Nepal , \" said R Dilip , President – International Business , TVS Motor Company .\n",
            "Text: \u001b[32m<:Positive>\u001b[0m\u001b[32m<:Positive>\u001b[0m\u001b[32m<:Positive>\u001b[0m\u001b[32m<:Positive>\u001b[0m\u001b[32m<:Positive>\u001b[0mJai Bhim movie review : Suriya headlines a powerful film about fighting for the oppressed T . J Gnanavel ' s Jai Bhim will go down as one of the most important films in Suriya ' s career . I use the word important because it ' s one of those rare occasions where the star hasn ' t flexed his heroism and let his co - stars steal the spotlight . Cut to the film ' s central characters – Sengenni ( Lijomol ) and Rajakannu ( Manikandan ) , a young couple from a hunting community who belong to the Irular tribe . When Rajakannu gets convicted in a false case of robbery , and later goes missing in police custody ; his wife seeks the help of advocate Chandru ( Suriya ) for justice .\n",
            "Text: \u001b[32m<:Positive>\u001b[0m\u001b[32m<:Positive>\u001b[0m\u001b[32m<:Positive>\u001b[0m\u001b[32m<:Positive>\u001b[0m\u001b[32m<:Positive>\u001b[0m\u001b[32m<:Positive>\u001b[0m\u001b[32m<:Positive>\u001b[0mSuriya ' s film promises to be a hard - hitting courtroom dramaJai Bhim and Vetrimaaran ' s award - winning film Visaranai have much in common . Both these films are primarily about police brutality and corruption . Jai Bhim also talks about caste - based discrimination , and it doesn ' t try to sugar - coat things in the process . One of the highlights of Jai Bhim are the courtroom sequences which have been shot in the most realistic fashion . Lijomol Jose as the lone woman standing against system that is rigged against her , is one of the best casting choices in recent times in Tamil cinema . Jai BhimDirector : T . J GnanavelCast : Suriya , Lijomol Jose , Manikandan , Rao Ramesh , Rajisha Vijayan and Prakash Raj ott : 10\n",
            "Text: \u001b[36m<:Neutral>\u001b[0m\u001b[36m<:Neutral>\u001b[0m\u001b[36m<:Neutral>\u001b[0m\u001b[36m<:Neutral>\u001b[0mShould India have played Ashwin against NZ ? Bumrah has his say After New Zealand bowling attack left India ' s batting order clueless in their T20 World Cup match on Sunday , the onus to bring Virat Kohli ' s men back in the contest was upon the bowling unit . India could only post 110 / 7 in 20 overs , setting a target of 111 for the Kiwis to chase , which proved to be an easy task in the end . New Zealand chased down the total in just 14 . 3 overs , winning the match by 8 wickets .\n",
            "Text: Daryl Mitchell hammered 49 runs in 35 balls to set up the chase for his team . Also read : ' Surprised this is happening ' : Irfan Pathan criticises changes in India XI , batting order against New ZealandApart from Jasprit Bumrah , who picked two wickets and gave 19 runs in his four overs , the remaining of India ' s bowling unit failed to contain the Kiwis .\n",
            "Text: \u001b[36m<:Neutral>\u001b[0m\u001b[36m<:Neutral>\u001b[0m\u001b[36m<:Neutral>\u001b[0m\u001b[36m<:Neutral>\u001b[0mSurprised it ' s happening ' : Pathan slams changes in IND XI , batting order vs NZ Moments after India ' s crushing eight - wicket defeat against New Zealand in Dubai on Sunday evening , former cricketer Irfan Pathan expressed surprise at team management ' s decision to make a major reshuffle in their playing XI . Pathan , who has represented India in all three formats , noted that a change in the line - up cannot deliver instant results as players need time to settle down .\n",
            "Text: \u001b[32m<:Positive>\u001b[0m\u001b[32m<:Positive>\u001b[0m\u001b[32m<:Positive>\u001b[0m\u001b[32m<:Positive>\u001b[0m\u001b[32m<:Positive>\u001b[0mAustralia ' s Treasurer Josh Frydenberg told the Australian Broadcasting Corp on Monday that the travel changes would immediately aid the economy . \" It ' s a day for celebration - the fact that Australians can move more freely in and out of our country without home quarantine , if they ' re double - vaccinated , \" Frydenberg said . Television and social media footage showed tearful family reunions , with strict travel rules previously prohibiting many people from attending significant events , including weddings and funerals .\n",
            "Text: \u001b[31m<:Negative>\u001b[0m\u001b[31m<:Negative>\u001b[0m\u001b[31m<:Negative>\u001b[0m\u001b[31m<:Negative>\u001b[0m\u001b[31m<:Negative>\u001b[0m\u001b[31m<:Negative>\u001b[0m\u001b[31m<:Negative>\u001b[0m\u001b[31m<:Negative>\u001b[0m\u001b[31m<:Negative>\u001b[0m\u001b[31m<:Negative>\u001b[0mCaste panel official backs Wankhede , says NCB officer is being targeted despite good work Sameer Wankhede , the Narcotics Control Bureau ( NCB ) official in the eye of a political storm amid several allegations against him , is doing good work and making his department proud , the vice chairperson of the National Commission for Scheduled Castes ( NCSC ) has said . \" One officer is doing his duty and making the department proud . So how can a minister personally attack him and his family members ? \"\n",
            "Text: \u001b[31m<:Negative>\u001b[0m\u001b[31m<:Negative>\u001b[0m\u001b[31m<:Negative>\u001b[0m\u001b[31m<:Negative>\u001b[0m\u001b[31m<:Negative>\u001b[0m\u001b[31m<:Negative>\u001b[0mMalik has also called the raid conducted by the NCB on a cruise ship off the Mumbai coast , in which drugs were allegedly recovered and Bollywood star Shah Rukh Khan ' s son Aryan Khan and others were arrested , last month as fake . The Maharashtra minister has also accused Wankhede of playing in the hands of the Bharatiya Janata Party ( BJP ) . Sameer Wankhede told reporters that he has shared with the commission official whatever he wanted to share .\n",
            "Text: President Ramdas Athawale extended his support to Wankhede and said the NCB official is a Hindu Dalit and a follower of BR Ambedkar . Athawale also asked \u001b[31m<Nawab:Negative>\u001b[0m Malik to refrain from \" conspiring \" to defame the NCB officer and his family members . Athawale ' s remarks came after Wankhede ' s wife and father met him .\n",
            "Text: The mahasabha is headed by Congress leader and former MLA \u001b[31m<Ashwani Sekhri:Negative>\u001b[0m . The PPCC president , who has been miffed over senior appointments and kept the Channi government on tenterhooks , made his first public appearance at the programme . Though Sidhu did not name anyone , his speech is being seen in Congress circles as a direct attack on Channi and his decisions .\n",
            "Text: \u001b[31m<Channi:Negative>\u001b[0m was appointed as the CM after his predecessor Capt Amarinder Singh resigned following a revolt by Sidhu and several ministers and legislators . However , the change of guard did not end the rift in the state Congress as Sidhu and Channi , who is the first SC chief minister of Punjab , are not on the same page on several issues .\n",
            "Text: \u001b[32m<:Positive>\u001b[0m\u001b[32m<:Positive>\u001b[0m\u001b[32m<:Positive>\u001b[0mSidhu also asked about the resources for such announcements and cited the ₹ 5 - lakh crore debt burden on the state . ' If someone says the state exchequer is flush with funds , then ETT teachers should be paid ₹ 50 , 000 salary a month , employees regularised and pension given to those who have not been getting it since 2004 , ' the Punjab Congress chief said , reiterating that he would continue to show the mirror and not let anyone deviate from issues .\n",
            "Text: \u001b[32m<:Positive>\u001b[0m\u001b[32m<:Positive>\u001b[0m\u001b[32m<:Positive>\u001b[0m\u001b[32m<:Positive>\u001b[0mSidhu also asked about the resources for such announcements and cited the ₹ 5 - lakh crore debt burden on the state . ' If someone says the state exchequer is flush with funds , then ETT teachers should be paid ₹ 50 , 000 salary a month , employees regularised and pension given to those who have not been getting it since 2004 , ' the Punjab Congree Chief said , reiterating that he would continue to show the mirror and not let anyone deviate from issues .\n",
            "Text: \u001b[32m<:Positive>\u001b[0m\u001b[32m<:Positive>\u001b[0m\u001b[32m<:Positive>\u001b[0m\u001b[32m<:Positive>\u001b[0mEarlier , the Mahasabha , a grouping of representatives of different Hindu organisations from across the state , demanded post - matric scholarships for children from poor families from the Hindu community and electricity for small shopkeepers at par with the industry at ₹ 5 per unit . ' The idea behind the outfit is to create a platform for Hindus community so that their voice is heard , ' Sekhri said . Hollow promise , says AAPAAP national spokesperson and Punjab affairs .\n",
            "Text: \u001b[31m<:Negative>\u001b[0m\u001b[31m<:Negative>\u001b[0m\u001b[31m<:Negative>\u001b[0m\u001b[31m<:Negative>\u001b[0m\u001b[31m<:Negative>\u001b[0m\u001b[31m<:Negative>\u001b[0mCo - incharge Raghav Chadha on Monday said that the hollow promise of cheap electricity in Punjab is an electoral stunt of ' dramebaaz ' chief minister Charanjit Singh Channi as the electricity rates have been reduced only till March 31 , 2022 . In a statement , Chadha said that if the people of Punjab get deceived by this electoral stunt of Congress , then electricity rates will get expensive again five months later . '\n",
            "Text: Param Bir levelled allegations against me after he was removed as the [ police ] commissioner of Mumbai and not when he was on that post . Former API ( assistant police inspector ) Sachin Vaze levelled [ extortion ] allegations only after I initiated the process of his termination from the service . Vaze is facing murder charges and is being probed by NIA ( National Investigation Agency ) in the Antilia explosives scare .\n",
            "Text: \u001b[32m<:Positive>\u001b[0m\u001b[32m<:Positive>\u001b[0mNEET result out : 18 - year - old Delhi resident among 3 to share top rank Among the three people who share the first rank in the National Eligibility - cum - Entrance Test ( NEET ) for admissions to undergraduate medical courses , the results for which were declared on Monday , is an 18 - year - old Delhi resident with roots in Jammu . Tanmay Gupta , who scored the maximum score of 720 in his first - ever attempt , said he ' very happy ' .\n",
            "Text: \u001b[32m<:Positive>\u001b[0m\u001b[32m<:Positive>\u001b[0m\u001b[32m<:Positive>\u001b[0m\u001b[32m<:Positive>\u001b[0m\u001b[32m<:Positive>\u001b[0m\u001b[32m<:Positive>\u001b[0m\u001b[32m<:Positive>\u001b[0m' The fire increases when it hits you that little bit harder , ' Sathiyan said . It ' s been three months since that setback and Sathiyan ' s fire is burning bright . In this period , the 28 - year - old has bagged three international titles on the pro tour across three categories : the WTT Budapest mixed doubles title with Manika Batra in August , the ITTF Czech International Open singles crown later that month and the WTT Tunis men ' s doubles title alongside Harmeet Desai on Saturday . The last among them was the sternest and the most satisfying for him . Not only did the tournament comprise a comparatively tougher field , but also saw Sathiyan make deep runs in all three events . The world No . 37 entered the singles quarter - finals , beating Alvaro Robles in the Round of 32 after a couple of losses against the Portuguese .\n",
            "Text: \u001b[32m<:Positive>\u001b[0m\u001b[32m<:Positive>\u001b[0m\u001b[32m<:Positive>\u001b[0m\u001b[32m<:Positive>\u001b[0m\u001b[32m<:Positive>\u001b[0m\u001b[32m<:Positive>\u001b[0m\u001b[32m<:Positive>\u001b[0m\u001b[32m<:Positive>\u001b[0m\u001b[32m<:Positive>\u001b[0m\u001b[32m<:Positive>\u001b[0m\u001b[32m<:Positive>\u001b[0m\u001b[32m<:Positive>\u001b[0m\u001b[32m<:Positive>\u001b[0mIsha Ratan and Misha Ratan from Lucknow presented Kathak dance while famous bhajan singer Anoop Jalota enthralled the audience with his devotional songs . A troupe of artiste from Janakpur , Nepal , gave a performance on Ramayan . The majestic Ram Ki Paidi ghat was all decked up with colourful lights for the mega celebrations . This ghat is the main venue of Deepotsav celebrations which will be illuminated with nine lakh earthen diyas on the eve of Diwali on Wednesday .\n",
            "Text: \u001b[36m<:Neutral>\u001b[0m\u001b[36m<:Neutral>\u001b[0m\u001b[36m<:Neutral>\u001b[0m\u001b[36m<:Neutral>\u001b[0m\u001b[36m<:Neutral>\u001b[0mEarlier , Jos Buttler shined for England once again as he scored the first century of the 2021 edition of the T20 World Cup , remaining unbeaten on 101 off 67 deliveries to steer the side to a strong total of 163 / 4 . After Sri Lanka invited England to bat after winning the toss , Shanaka ' s men put the table - toppers on instant backfoot with three wickets in the Powerplay , removing power - hitters Jason Roy , Dawid Malan and Jonny Bairstow early in the game .\n",
            "Text: However , \u001b[32m<Buttler:Positive>\u001b[0m , along with England captain Eoin \u001b[32m<Morgan:Positive>\u001b[0m ( 40 ) put a 102 - run stand to steer the side out of trouble and eventually finished the innings on a high , hitting a six on the final delivery of the innings to bring his maiden T20I ton . SHARE THIS ARTICLE ON\n",
            "Text: \u001b[36m<:Neutral>\u001b[0m\u001b[36m<:Neutral>\u001b[0m\u001b[36m<:Neutral>\u001b[0m\u001b[36m<:Neutral>\u001b[0m\u001b[36m<:Neutral>\u001b[0m\u001b[36m<:Neutral>\u001b[0m\u001b[36m<:Neutral>\u001b[0mAbhay scored 124 runs in just 83 deliveries while scored 103 for 116 . Chasing the mammoth target , the batting line up of Crystal Club junior collapsed at 94 runs , with only two batsmen able to reach the double figures . Iman Malerkotla and Yuvraj Sharma of GNSA - 2 claimed five and three wickets , respectively . Arshit Arora and Karan Gill took a wicket each . Abhay Tewari was declared man of the match . SHARE THIS ARTICLE ON Close Story\n",
            "Text: \u001b[31m<:Negative>\u001b[0m\u001b[31m<:Negative>\u001b[0m\u001b[31m<:Negative>\u001b[0m\u001b[31m<:Negative>\u001b[0m\u001b[31m<:Negative>\u001b[0mLater , Leader of opposition in the Assembly Suvendu Adhikari said Banerjee should first ' withdraw the taxes her government has imposed on oil ' and only then she has the ' right to speak anything ' against the central government . Fuel prices witnessed a hike for the sixth consecutive day , following a two - day pause , on Monday . This has led to petrol prices in Kolkata surpass the ₹ 110 per litre mark .\n",
            "Text: \u001b[31m<:Negative>\u001b[0m\u001b[31m<:Negative>\u001b[0m\u001b[31m<:Negative>\u001b[0m\u001b[31m<:Negative>\u001b[0m\u001b[31m<:Negative>\u001b[0m\u001b[31m<:Negative>\u001b[0m\u001b[31m<:Negative>\u001b[0m\u001b[31m<:Negative>\u001b[0mWe demand an investigation either through a judicial commission or by the CBI . ' Malik ' s other charge pertains to a certain Niraj Gunde ' s alleged frequent visits to the NCB office in Mumbai . ' Why is Fadnavis ' frontman Niraj Gunde frequently visiting the NCB office , ' Malik asked . ' Why were people close to BJP let off by NCB ? Fadnavis knew everything . Some drug peddlers were also associated with BJP and I will expose their names one by one .\n",
            "Text: Big drug peddlers such as Kashiff Khan were let off by NCB . Rishabh Sachdeva , Amir Furniturewala , Pratik Gaba are also allowed to go , I believe the entire drug business is following Fadnavis ' instructions . Who is Gaba ? Why was he let off by NCB , in which hotels does he organise parties ? The rate of each table is in lakhs .\n",
            "Text: Activities of victim on dating site can ' t be basis of judging virtue : Allahabad high court Denying anticipatory bail to a rape accused , who allegedly established a physical relationship with a woman on the false promise of marriage , the Allahabad high court observed that activities of a victim on a dating site are not an indication for a judgement on anybody ' s virtue . Justice Vivek Agarwal rejected the anticipatory bail application of one Abhhey Chopra of Gautam Buddh Nagar ( Noida ) .\n"
          ]
        }
      ],
      "source": [
        "from pyabsa.functional import ABSADatasetList\n",
        "from pyabsa.functional import ATEPCCheckpointManager\n",
        "import joblib\n",
        "\n",
        "examples = ['Putin condemns NATO over Ukraine crisis .',\n",
        "            'As Joe Biden visits Asia, China launches South China Sea drills .',\n",
        "            'Joe Biden not close contact of daughter Ashley who tested positive for COVID .',\n",
        "            'Britain urges more weapons for Ukraine to keep pressure on Putin .',\n",
        "            'US Prez Joe Biden looks to nudge ASEAN leaders to speak out on Russia .',\n",
        "            'Russian President Vladimir Putin preparing for prolonged war in Ukraine: US spy chief .',\n",
        "            'Trump lost to Biden .',\n",
        "            'Trump greets Modi .',\n",
        "            'Ashneer Grover writes to BharatPe demanding action against CEO Suhail Sameer and Rajnish Kumar .',\n",
        "            'Actor R Madhavan is a proud father, after his son Vedaant Madhavan won a gold medal in swimming at the Danish Open 2022 in Copenhagen.',\n",
        "            'Delhi pollution: Indoor air worse than outside, says study .',\n",
        "            'Auschwitz has a dark past attached to it. Millions of Jews fell victims to Adolf Hitler .'\n",
        "            ]\n",
        "\n",
        "aspect_extractor = joblib.load('/content/drive/MyDrive/Entity_Sentiment_Analysis/aspect_extractor.joblib')\n",
        "inference_source = '/content/drive/MyDrive/Entity_Sentiment_Analysis'\n",
        "atepc_result = aspect_extractor.extract_aspect(inference_source=inference_source,\n",
        "                                               save_result=True,\n",
        "                                               print_result=True,  # print the result\n",
        "                                               pred_sentiment=True,  # Predict the sentiment of extracted aspect terms\n",
        "                                               )"
      ]
    },
    {
      "cell_type": "code",
      "execution_count": null,
      "metadata": {
        "colab": {
          "base_uri": "https://localhost:8080/"
        },
        "id": "IvrZNL1yX2ho",
        "outputId": "cf8e0009-5d15-43a3-cafe-5f2fe2e3e88e"
      },
      "outputs": [
        {
          "output_type": "stream",
          "name": "stdout",
          "text": [
            "[{'sentence': 'Sources told Hindustan Times that the embassy had ensured the movement of thousands of students from Kyiv to western Ukraine on Sunday . The Indian embassies in countries like Poland have been arranging buses for the students to safely reach the border , this after heavy diplomatic lifting between the two countries . The Indian Air Force has been asked to deployC - 17 aircraft to boost evacuation efforts .', 'IOB': ['O', 'O', 'O', 'O', 'O', 'O', 'O', 'O', 'O', 'O', 'O', 'O', 'O', 'O', 'O', 'O', 'O', 'O', 'O', 'O', 'O', 'O', 'O', 'O', 'O', 'O', 'O', 'O', 'O', 'O', 'O', 'O', 'O', 'O', 'O', 'O', 'O', 'O', 'O', 'O', 'O', 'O', 'O', 'O', 'O', 'O', 'O', 'O', 'O', 'O', 'O', 'O', 'O', 'O', 'O', 'O', 'O', 'O', 'O', 'O', 'O', 'O', 'O', 'O', 'O', 'O', 'O', 'O', 'O', 'O'], 'tokens': ['Sources', 'told', 'Hindustan', 'Times', 'that', 'the', 'embassy', 'had', 'ensured', 'the', 'movement', 'of', 'thousands', 'of', 'students', 'from', 'Kyiv', 'to', 'western', 'Ukraine', 'on', 'Sunday', '.', 'The', 'Indian', 'embassies', 'in', 'countries', 'like', 'Poland', 'have', 'been', 'arranging', 'buses', 'for', 'the', 'students', 'to', 'safely', 'reach', 'the', 'border', ',', 'this', 'after', 'heavy', 'diplomatic', 'lifting', 'between', 'the', 'two', 'countries', '.', 'The', 'Indian', 'Air', 'Force', 'has', 'been', 'asked', 'to', 'deployC', '-', '17', 'aircraft', 'to', 'boost', 'evacuation', 'efforts', '.'], 'aspect': [], 'position': [], 'sentiment': []}, {'sentence': 'Sources told Hindustan Times that the embassy had ensured the movement of thousands of students from Kyiv to western Ukraine on Sunday . The Indian embassies in countries like Poland have been arranging buses for the students to safely reach the border , this after heavy diplomatic lifting between the two countries . The Indian Air Force has been asked to deploy C - 17 aircraft to boost evacuation efforts .', 'IOB': ['O', 'O', 'O', 'O', 'O', 'O', 'O', 'O', 'O', 'O', 'O', 'O', 'O', 'O', 'O', 'O', 'O', 'O', 'O', 'O', 'O', 'O', 'O', 'O', 'O', 'O', 'O', 'O', 'O', 'O', 'O', 'O', 'O', 'O', 'O', 'O', 'O', 'O', 'O', 'O', 'O', 'O', 'O', 'O', 'O', 'O', 'O', 'O', 'O', 'O', 'O', 'O', 'O', 'O', 'O', 'O', 'O', 'O', 'O', 'O', 'O', 'O', 'O', 'O', 'O', 'O', 'O', 'O', 'O', 'O', 'O'], 'tokens': ['Sources', 'told', 'Hindustan', 'Times', 'that', 'the', 'embassy', 'had', 'ensured', 'the', 'movement', 'of', 'thousands', 'of', 'students', 'from', 'Kyiv', 'to', 'western', 'Ukraine', 'on', 'Sunday', '.', 'The', 'Indian', 'embassies', 'in', 'countries', 'like', 'Poland', 'have', 'been', 'arranging', 'buses', 'for', 'the', 'students', 'to', 'safely', 'reach', 'the', 'border', ',', 'this', 'after', 'heavy', 'diplomatic', 'lifting', 'between', 'the', 'two', 'countries', '.', 'The', 'Indian', 'Air', 'Force', 'has', 'been', 'asked', 'to', 'deploy', 'C', '-', '17', 'aircraft', 'to', 'boost', 'evacuation', 'efforts', '.'], 'aspect': [], 'position': [], 'sentiment': []}, {'sentence': 'The C - 17 aircraft can carry 336 passengers and was used during the evacuation in Afghanistan last year . Besides airlifting the Indian nationals , the IAF aircraft will also be used to carry humanitarian aid to the war - hit country . Four union ministers are being sent Ukraine to expedite the evacuation efforts . Union minister Hardeep Singh Puri will be in - charge of evacuation efforts in Hungary , civil \\x1b[32m<aviation minister Jyotiraditya Scindia will:Positive>\\x1b[0m oversee the mission in Romania and Moldova .', 'IOB': ['O', 'O', 'O', 'O', 'O', 'O', 'O', 'O', 'O', 'O', 'O', 'O', 'O', 'O', 'O', 'O', 'O', 'O', 'O', 'O', 'O', 'O', 'O', 'O', 'O', 'O', 'O', 'O', 'O', 'O', 'O', 'O', 'O', 'O', 'O', 'O', 'O', 'O', 'O', 'O', 'O', 'O', 'O', 'O', 'O', 'O', 'O', 'O', 'O', 'O', 'O', 'O', 'O', 'O', 'O', 'O', 'O', 'O', 'O', 'O', 'O', 'O', 'O', 'O', 'O', 'O', 'O', 'O', 'O', 'O', 'O', 'O', 'O', 'O', 'B-ASP', 'I-ASP', 'I-ASP', 'I-ASP', 'I-ASP'], 'tokens': ['The', 'C', '-', '17', 'aircraft', 'can', 'carry', '336', 'passengers', 'and', 'was', 'used', 'during', 'the', 'evacuation', 'in', 'Afghanistan', 'last', 'year', '.', 'Besides', 'airlifting', 'the', 'Indian', 'nationals', ',', 'the', 'IAF', 'aircraft', 'will', 'also', 'be', 'used', 'to', 'carry', 'humanitarian', 'aid', 'to', 'the', 'war', '-', 'hit', 'country', '.', 'Four', 'union', 'ministers', 'are', 'being', 'sent', 'Ukraine', 'to', 'expedite', 'the', 'evacuation', 'efforts', '.', 'Union', 'minister', 'Hardeep', 'Singh', 'Puri', 'will', 'be', 'in', '-', 'charge', 'of', 'evacuation', 'efforts', 'in', 'Hungary', ',', 'civil', 'aviation', 'minister', 'Jyotiraditya', 'Scindia', 'will', 'oversee', 'the', 'mission', 'in', 'Romania', 'and', 'Moldova', '.'], 'aspect': ['aviation minister Jyotiraditya Scindia will'], 'position': [[75, 76, 77, 78, 79]], 'sentiment': ['Positive']}, {'sentence': 'TheC - 17 aircraft can carry 336 passengers and was used during the evacuation in Afghanistan last year . Besides airlifting the Indian nationals , the IAF aircraft will also be used to carry humanitarian aid to the war - hit country . Four union ministers are being sent Ukraine to expedite the evacuation efforts . Union minister Hardeep Singh Puri will be in - charge of evacuation efforts in Hungary , civil \\x1b[32m<aviation minister Jyotiraditya Scindia will oversee:Positive>\\x1b[0m the mission in Romania and Moldova .', 'IOB': ['O', 'O', 'O', 'O', 'O', 'O', 'O', 'O', 'O', 'O', 'O', 'O', 'O', 'O', 'O', 'O', 'O', 'O', 'O', 'O', 'O', 'O', 'O', 'O', 'O', 'O', 'O', 'O', 'O', 'O', 'O', 'O', 'O', 'O', 'O', 'O', 'O', 'O', 'O', 'O', 'O', 'O', 'O', 'O', 'O', 'O', 'O', 'O', 'O', 'O', 'O', 'O', 'O', 'O', 'O', 'O', 'O', 'O', 'O', 'O', 'O', 'O', 'O', 'O', 'O', 'O', 'O', 'O', 'O', 'O', 'O', 'O', 'O', 'B-ASP', 'I-ASP', 'I-ASP', 'I-ASP', 'I-ASP', 'I-ASP'], 'tokens': ['TheC', '-', '17', 'aircraft', 'can', 'carry', '336', 'passengers', 'and', 'was', 'used', 'during', 'the', 'evacuation', 'in', 'Afghanistan', 'last', 'year', '.', 'Besides', 'airlifting', 'the', 'Indian', 'nationals', ',', 'the', 'IAF', 'aircraft', 'will', 'also', 'be', 'used', 'to', 'carry', 'humanitarian', 'aid', 'to', 'the', 'war', '-', 'hit', 'country', '.', 'Four', 'union', 'ministers', 'are', 'being', 'sent', 'Ukraine', 'to', 'expedite', 'the', 'evacuation', 'efforts', '.', 'Union', 'minister', 'Hardeep', 'Singh', 'Puri', 'will', 'be', 'in', '-', 'charge', 'of', 'evacuation', 'efforts', 'in', 'Hungary', ',', 'civil', 'aviation', 'minister', 'Jyotiraditya', 'Scindia', 'will', 'oversee', 'the', 'mission', 'in', 'Romania', 'and', 'Moldova', '.'], 'aspect': ['aviation minister Jyotiraditya Scindia will oversee'], 'position': [[74, 75, 76, 77, 78, 79]], 'sentiment': ['Positive']}, {'sentence': \"India ' s largest carmaker also claimed that it sold a total of 137 , 607 units in the domestic market last month . Under its model sharing agreement with the Toyota Kirloskar Motor , to whom it supplies the Baleno and Vitara Brezza to be sold as Glanza and Urban Cruiser respectively , Maruti Suzuki sold a total of 2 , 428 units .\", 'IOB': ['O', 'O', 'O', 'O', 'O', 'O', 'O', 'O', 'O', 'O', 'O', 'O', 'O', 'O', 'O', 'O', 'O', 'O', 'O', 'O', 'O', 'O', 'O', 'O', 'O', 'O', 'O', 'O', 'O', 'O', 'O', 'O', 'O', 'O', 'O', 'O', 'O', 'O', 'O', 'O', 'O', 'O', 'O', 'O', 'O', 'O', 'O', 'O', 'O', 'O', 'O', 'O', 'O', 'O', 'O', 'O', 'O', 'O', 'O', 'O', 'O', 'O', 'O', 'O', 'O'], 'tokens': ['India', \"'\", 's', 'largest', 'carmaker', 'also', 'claimed', 'that', 'it', 'sold', 'a', 'total', 'of', '137', ',', '607', 'units', 'in', 'the', 'domestic', 'market', 'last', 'month', '.', 'Under', 'its', 'model', 'sharing', 'agreement', 'with', 'the', 'Toyota', 'Kirloskar', 'Motor', ',', 'to', 'whom', 'it', 'supplies', 'the', 'Baleno', 'and', 'Vitara', 'Brezza', 'to', 'be', 'sold', 'as', 'Glanza', 'and', 'Urban', 'Cruiser', 'respectively', ',', 'Maruti', 'Suzuki', 'sold', 'a', 'total', 'of', '2', ',', '428', 'units', '.'], 'aspect': [], 'position': [], 'sentiment': []}, {'sentence': 'The car manufacturer also said that it witnessed a minor impact of the ongoing microchip crisis . The carmaker claims that models such as the Baleno , Celerio , Dzire , Ignis , Swift , WagonR as combined sold a total of 77 , 795 units last month , down from 80 , 517 units recorded in the same month a year ago . Also , these models sold 622 , 567 units cumulatively between April and February of this financial year . The mid - size sedan Ciaz that is sold through the premium retail network Nexa recorded 1 , 912 units last month , up from 1 , 510 units sold in February last year .', 'IOB': ['O', 'O', 'O', 'O', 'O', 'O', 'O', 'O', 'O', 'O', 'O', 'O', 'O', 'O', 'O', 'O', 'O', 'O', 'O', 'O', 'O', 'O', 'O', 'O', 'O', 'O', 'O', 'O', 'O', 'O', 'O', 'O', 'O', 'O', 'O', 'O', 'O', 'O', 'O', 'O', 'O', 'O', 'O', 'O', 'O', 'O', 'O', 'O', 'O', 'O', 'O', 'O', 'O', 'O', 'O', 'O', 'O', 'O', 'O', 'O', 'O', 'O', 'O', 'O', 'O', 'B-ASP', 'I-ASP', 'I-ASP', 'I-ASP', 'I-ASP', 'I-ASP', 'I-ASP', 'I-ASP', 'I-ASP', 'I-ASP', 'I-ASP', 'I-ASP', 'I-ASP', 'I-ASP'], 'tokens': ['The', 'car', 'manufacturer', 'also', 'said', 'that', 'it', 'witnessed', 'a', 'minor', 'impact', 'of', 'the', 'ongoing', 'microchip', 'crisis', '.', 'The', 'carmaker', 'claims', 'that', 'models', 'such', 'as', 'the', 'Baleno', ',', 'Celerio', ',', 'Dzire', ',', 'Ignis', ',', 'Swift', ',', 'WagonR', 'as', 'combined', 'sold', 'a', 'total', 'of', '77', ',', '795', 'units', 'last', 'month', ',', 'down', 'from', '80', ',', '517', 'units', 'recorded', 'in', 'the', 'same', 'month', 'a', 'year', 'ago', '.', 'Also', ',', 'these', 'models', 'sold', '622', ',', '567', 'units', 'cumulatively', 'between', 'April', 'and', 'February', 'of', 'this', 'financial', 'year', '.', 'The', 'mid', '-', 'size', 'sedan', 'Ciaz', 'that', 'is', 'sold', 'through', 'the', 'premium', 'retail', 'network', 'Nexa', 'recorded', '1', ',', '912', 'units', 'last', 'month', ',', 'up', 'from', '1', ',', '510', 'units', 'sold', 'in', 'February', 'last', 'year', '.'], 'aspect': ['the same month a year ago . First Published'], 'position': [[71, 72, 73, 74, 75, 76, 77, 78, 79]], 'sentiment': ['Positive']}, {'sentence': 'Sales in the entry - level mini segment , where Maruti Suzuki retails Alto andS - Presso , were 19 , 691 units last month , as compared to 23 , 959 units recorded in the same month a year ago . Maruti Suzuki has also said that its total domestic passenger vehicle sales in February were 133 , 948 units , down from 144 , 761 units registered in \\x1b[32m<the same month a year ago . First:Positive>\\x1b[0m Published Date : 01 Mar 2022 , 01 : 49 PM IST', 'IOB': ['O', 'O', 'O', 'O', 'O', 'O', 'O', 'O', 'O', 'O', 'O', 'O', 'O', 'O', 'O', 'O', 'O', 'O', 'O', 'O', 'O', 'O', 'O', 'O', 'O', 'O', 'O', 'O', 'O', 'O', 'O', 'O', 'O', 'O', 'O', 'O', 'O', 'O', 'O', 'O', 'O', 'O', 'O', 'O', 'O', 'O', 'O', 'O', 'O', 'O', 'O', 'O', 'O', 'O', 'O', 'O', 'O', 'O', 'O', 'O', 'O', 'O', 'O', 'O', 'O', 'O', 'O', 'O', 'O', 'O', 'B-ASP', 'I-ASP', 'I-ASP', 'I-ASP', 'I-ASP', 'I-ASP', 'I-ASP', 'I-ASP', 'I-ASP'], 'tokens': ['Sales', 'in', 'the', 'entry', '-', 'level', 'mini', 'segment', ',', 'where', 'Maruti', 'Suzuki', 'retails', 'Alto', 'andS', '-', 'Presso', ',', 'were', '19', ',', '691', 'units', 'last', 'month', ',', 'as', 'compared', 'to', '23', ',', '959', 'units', 'recorded', 'in', 'the', 'same', 'month', 'a', 'year', 'ago', '.', 'Maruti', 'Suzuki', 'has', 'also', 'said', 'that', 'its', 'total', 'domestic', 'passenger', 'vehicle', 'sales', 'in', 'February', 'were', '133', ',', '948', 'units', ',', 'down', 'from', '144', ',', '761', 'units', 'registered', 'in', 'the', 'same', 'month', 'a', 'year', 'ago', '.', 'First', 'Published', 'Date', ':', '01', 'Mar', '2022', ',', '01', ':', '49', 'PM', 'IST'], 'aspect': ['the same month a year ago . First'], 'position': [[72, 73, 74, 75, 76, 77, 78, 79]], 'sentiment': ['Positive']}, {'sentence': 'Sales in the entry - level mini segment , where Maruti Suzuki retails Alto and S - Presso , were 19 , 691 units last month , as compared to 23 , 959 units recorded in the same month a year ago . Maruti Suzuki has also said that its total domestic passenger vehicle sales in February were 133 , 948 units , down from 144 , 761 units registered in the same month a year ago . First Published Date : 01 Mar 2022 , 01 : 49 PM IST', 'IOB': ['O', 'O', 'O', 'O', 'O', 'O', 'O', 'O', 'O', 'O', 'O', 'O', 'O', 'O', 'O', 'O', 'O', 'O', 'O', 'O', 'O', 'O', 'O', 'O', 'O', 'O', 'O', 'O', 'O', 'O', 'O', 'O', 'O', 'O', 'O', 'O', 'O', 'O', 'O', 'O', 'O', 'O', 'O', 'O', 'O', 'O', 'O', 'O', 'O', 'O', 'O', 'O', 'O', 'O', 'O', 'O', 'O', 'O', 'O', 'O', 'O', 'O', 'O', 'O', 'O', 'O', 'O', 'O', 'O', 'O', 'O', 'B-ASP', 'I-ASP', 'I-ASP', 'I-ASP', 'I-ASP', 'I-ASP', 'I-ASP', 'I-ASP'], 'tokens': ['Sales', 'in', 'the', 'entry', '-', 'level', 'mini', 'segment', ',', 'where', 'Maruti', 'Suzuki', 'retails', 'Alto', 'and', 'S', '-', 'Presso', ',', 'were', '19', ',', '691', 'units', 'last', 'month', ',', 'as', 'compared', 'to', '23', ',', '959', 'units', 'recorded', 'in', 'the', 'same', 'month', 'a', 'year', 'ago', '.', 'Maruti', 'Suzuki', 'has', 'also', 'said', 'that', 'its', 'total', 'domestic', 'passenger', 'vehicle', 'sales', 'in', 'February', 'were', '133', ',', '948', 'units', ',', 'down', 'from', '144', ',', '761', 'units', 'registered', 'in', 'the', 'same', 'month', 'a', 'year', 'ago', '.', 'First', 'Published', 'Date', ':', '01', 'Mar', '2022', ',', '01', ':', '49', 'PM', 'IST'], 'aspect': [\"' electric vehicle that will sit below the\"], 'position': [[72, 73, 74, 75, 76, 77, 78, 79]], 'sentiment': ['Positive']}, {'sentence': \"While the overall - domestic sales plus exports - decline of 14 % is likely to be a source of some concern , the demand for models like Creta and Venue remain strong \\x1b[32m<.:Positive>\\x1b[0m Hyundai had a busy 2021 with the launch of several models like Alcazar and i20 N Line . There is much promise from the Koreans for this year as well with the company confirming an ‘ affordable ' electric vehicle that will sit below the Kona which is already available in the lineup .\", 'IOB': ['O', 'O', 'O', 'O', 'O', 'O', 'O', 'O', 'O', 'O', 'O', 'O', 'O', 'O', 'O', 'O', 'O', 'O', 'O', 'O', 'O', 'O', 'O', 'O', 'O', 'O', 'O', 'O', 'O', 'O', 'O', 'O', 'O', 'O', 'O', 'O', 'O', 'O', 'O', 'O', 'O', 'O', 'O', 'O', 'O', 'O', 'O', 'O', 'O', 'O', 'O', 'O', 'O', 'O', 'O', 'O', 'O', 'O', 'O', 'O', 'O', 'O', 'O', 'O', 'O', 'O', 'O', 'O', 'O', 'O', 'O', 'B-ASP', 'I-ASP', 'I-ASP', 'I-ASP', 'I-ASP', 'I-ASP', 'I-ASP', 'I-ASP'], 'tokens': ['While', 'the', 'overall', '-', 'domestic', 'sales', 'plus', 'exports', '-', 'decline', 'of', '14', '%', 'is', 'likely', 'to', 'be', 'a', 'source', 'of', 'some', 'concern', ',', 'the', 'demand', 'for', 'models', 'like', 'Creta', 'and', 'Venue', 'remain', 'strong', '.', 'Hyundai', 'had', 'a', 'busy', '2021', 'with', 'the', 'launch', 'of', 'several', 'models', 'like', 'Alcazar', 'and', 'i20', 'N', 'Line', '.', 'There', 'is', 'much', 'promise', 'from', 'the', 'Koreans', 'for', 'this', 'year', 'as', 'well', 'with', 'the', 'company', 'confirming', 'an', '‘', 'affordable', \"'\", 'electric', 'vehicle', 'that', 'will', 'sit', 'below', 'the', 'Kona', 'which', 'is', 'already', 'available', 'in', 'the', 'lineup', '.'], 'aspect': ['.'], 'position': [[73]], 'sentiment': ['Positive']}, {'sentence': \"The Hero Eddy has been designed for a specific group of customers who want electric two - wheekers to cover short distances . Read more Mouni Roy serves a ' Tip Tip Barsa Paani ' moment in ₹ 84k saree , her braid steals the spotlight : Check out photos\", 'IOB': ['O', 'O', 'O', 'O', 'O', 'O', 'O', 'O', 'O', 'O', 'O', 'O', 'O', 'O', 'O', 'O', 'O', 'O', 'O', 'O', 'O', 'O', 'O', 'O', 'O', 'O', 'O', 'O', 'O', 'O', 'O', 'O', 'O', 'O', 'O', 'O', 'O', 'O', 'O', 'O', 'O', 'O', 'O', 'O', 'O', 'O', 'O', 'O', 'O', 'O'], 'tokens': ['The', 'Hero', 'Eddy', 'has', 'been', 'designed', 'for', 'a', 'specific', 'group', 'of', 'customers', 'who', 'want', 'electric', 'two', '-', 'wheekers', 'to', 'cover', 'short', 'distances', '.', 'Read', 'more', 'Mouni', 'Roy', 'serves', 'a', \"'\", 'Tip', 'Tip', 'Barsa', 'Paani', \"'\", 'moment', 'in', '₹', '84k', 'saree', ',', 'her', 'braid', 'steals', 'the', 'spotlight', ':', 'Check', 'out', 'photos'], 'aspect': [], 'position': [], 'sentiment': []}, {'sentence': 'PM Modi calls on Indian Air Force C - 17s to boost evacuation efforts TheIAF C - 17 aircraft can carry 336 passengers and was used in evacuation in Afghanistan . But in one of the missions it carried more than 600 passengers , which is a World record The IAF will deploy severalC - 17 aircraft to carry out evacuation process Published on Mar 01 , 2022 11 : 59 AM IST', 'IOB': ['O', 'O', 'O', 'O', 'O', 'O', 'O', 'O', 'O', 'O', 'O', 'O', 'O', 'O', 'O', 'O', 'O', 'O', 'O', 'O', 'O', 'O', 'O', 'O', 'O', 'O', 'O', 'O', 'O', 'O', 'O', 'O', 'O', 'O', 'O', 'O', 'O', 'O', 'O', 'O', 'O', 'O', 'O', 'O', 'O', 'O', 'O', 'O', 'O', 'O', 'O', 'O', 'O', 'O', 'O', 'O', 'O', 'O', 'O', 'O', 'O', 'O', 'O', 'O', 'O', 'O', 'O', 'O', 'O', 'O', 'O', 'O', 'O'], 'tokens': ['PM', 'Modi', 'calls', 'on', 'Indian', 'Air', 'Force', 'C', '-', '17s', 'to', 'boost', 'evacuation', 'efforts', 'TheIAF', 'C', '-', '17', 'aircraft', 'can', 'carry', '336', 'passengers', 'and', 'was', 'used', 'in', 'evacuation', 'in', 'Afghanistan', '.', 'But', 'in', 'one', 'of', 'the', 'missions', 'it', 'carried', 'more', 'than', '600', 'passengers', ',', 'which', 'is', 'a', 'World', 'record', 'The', 'IAF', 'will', 'deploy', 'severalC', '-', '17', 'aircraft', 'to', 'carry', 'out', 'evacuation', 'process', 'Published', 'on', 'Mar', '01', ',', '2022', '11', ':', '59', 'AM', 'IST'], 'aspect': [], 'position': [], 'sentiment': []}, {'sentence': 'PM Modi calls on Indian Air ForceC - 17s to boost evacuation efforts The IAF C - 17 aircraft can carry 336 passengers and was used in evacuation in Afghanistan . But in one of the missions it carried more than 600 passengers , which is a World record The IAF will deploy severalC - 17 aircraft to carry out evacuation process Published on Mar 01 , 2022 11 : 59 AM IST', 'IOB': ['O', 'O', 'O', 'O', 'O', 'O', 'O', 'O', 'O', 'O', 'O', 'O', 'O', 'O', 'O', 'O', 'O', 'O', 'O', 'O', 'O', 'O', 'O', 'O', 'O', 'O', 'O', 'O', 'O', 'O', 'O', 'O', 'O', 'O', 'O', 'O', 'O', 'O', 'O', 'O', 'O', 'O', 'O', 'O', 'O', 'O', 'O', 'O', 'O', 'O', 'O', 'O', 'O', 'O', 'O', 'O', 'O', 'O', 'O', 'O', 'O', 'O', 'O', 'O', 'O', 'O', 'O', 'O', 'O', 'O', 'O', 'O', 'O'], 'tokens': ['PM', 'Modi', 'calls', 'on', 'Indian', 'Air', 'ForceC', '-', '17s', 'to', 'boost', 'evacuation', 'efforts', 'The', 'IAF', 'C', '-', '17', 'aircraft', 'can', 'carry', '336', 'passengers', 'and', 'was', 'used', 'in', 'evacuation', 'in', 'Afghanistan', '.', 'But', 'in', 'one', 'of', 'the', 'missions', 'it', 'carried', 'more', 'than', '600', 'passengers', ',', 'which', 'is', 'a', 'World', 'record', 'The', 'IAF', 'will', 'deploy', 'severalC', '-', '17', 'aircraft', 'to', 'carry', 'out', 'evacuation', 'process', 'Published', 'on', 'Mar', '01', ',', '2022', '11', ':', '59', 'AM', 'IST'], 'aspect': [], 'position': [], 'sentiment': []}, {'sentence': 'PM Modi calls on Indian Air ForceC - 17s to boost evacuation efforts TheIAF C - 17 aircraft can carry 336 passengers and was used in evacuation in Afghanistan . But in one of the missions it carried more than 600 passengers , which is a World record The IAF will deploy severalC - 17 aircraft to carry out evacuation process Published on Mar 01 , 2022 11 : 59 AM IST', 'IOB': ['O', 'O', 'O', 'O', 'O', 'O', 'O', 'O', 'O', 'O', 'O', 'O', 'O', 'O', 'O', 'O', 'O', 'O', 'O', 'O', 'O', 'O', 'O', 'O', 'O', 'O', 'O', 'O', 'O', 'O', 'O', 'O', 'O', 'O', 'O', 'O', 'O', 'O', 'O', 'O', 'O', 'O', 'O', 'O', 'O', 'O', 'O', 'O', 'O', 'O', 'O', 'O', 'O', 'O', 'O', 'O', 'O', 'O', 'O', 'O', 'O', 'O', 'O', 'O', 'O', 'O', 'O', 'O', 'O', 'O', 'O', 'O'], 'tokens': ['PM', 'Modi', 'calls', 'on', 'Indian', 'Air', 'ForceC', '-', '17s', 'to', 'boost', 'evacuation', 'efforts', 'TheIAF', 'C', '-', '17', 'aircraft', 'can', 'carry', '336', 'passengers', 'and', 'was', 'used', 'in', 'evacuation', 'in', 'Afghanistan', '.', 'But', 'in', 'one', 'of', 'the', 'missions', 'it', 'carried', 'more', 'than', '600', 'passengers', ',', 'which', 'is', 'a', 'World', 'record', 'The', 'IAF', 'will', 'deploy', 'severalC', '-', '17', 'aircraft', 'to', 'carry', 'out', 'evacuation', 'process', 'Published', 'on', 'Mar', '01', ',', '2022', '11', ':', '59', 'AM', 'IST'], 'aspect': [], 'position': [], 'sentiment': []}, {'sentence': 'PM Modi calls on Indian Air ForceC - 17s to boost evacuation efforts TheIAF C - 17 aircraft can carry 336 passengers and was used in evacuation in Afghanistan . But in one of the missions it carried more than 600 passengers , which is a World record The IAF will deploy several C - 17 aircraft to carry out evacuation process Published on Mar 01 , 2022 11 : 59 AM IST', 'IOB': ['O', 'O', 'O', 'O', 'O', 'O', 'O', 'O', 'O', 'O', 'O', 'O', 'O', 'O', 'O', 'O', 'O', 'O', 'O', 'O', 'O', 'O', 'O', 'O', 'O', 'O', 'O', 'O', 'O', 'O', 'O', 'O', 'O', 'O', 'O', 'O', 'O', 'O', 'O', 'O', 'O', 'O', 'O', 'O', 'O', 'O', 'O', 'O', 'O', 'O', 'O', 'O', 'O', 'O', 'O', 'O', 'O', 'O', 'O', 'O', 'O', 'O', 'O', 'O', 'O', 'O', 'O', 'O', 'O', 'O', 'O', 'O', 'O'], 'tokens': ['PM', 'Modi', 'calls', 'on', 'Indian', 'Air', 'ForceC', '-', '17s', 'to', 'boost', 'evacuation', 'efforts', 'TheIAF', 'C', '-', '17', 'aircraft', 'can', 'carry', '336', 'passengers', 'and', 'was', 'used', 'in', 'evacuation', 'in', 'Afghanistan', '.', 'But', 'in', 'one', 'of', 'the', 'missions', 'it', 'carried', 'more', 'than', '600', 'passengers', ',', 'which', 'is', 'a', 'World', 'record', 'The', 'IAF', 'will', 'deploy', 'several', 'C', '-', '17', 'aircraft', 'to', 'carry', 'out', 'evacuation', 'process', 'Published', 'on', 'Mar', '01', ',', '2022', '11', ':', '59', 'AM', 'IST'], 'aspect': [], 'position': [], 'sentiment': []}, {'sentence': 'Prime Minister Narendra Modi has called for the Indian Air Force to join the evacuation efforts under Operation Ganga , official sources told Hindustan TimesLeveraging the capabilities of the IAF will ensure that more people can be evacuated in the shortest possible time \\x1b[32m<.:Positive>\\x1b[0m It will also help deliver humanitarian aid more efficiently . Indian Air Force is likely to deploy severalC - 17 aircrafts as part of Operation Ganga from today .', 'IOB': ['O', 'O', 'O', 'O', 'O', 'O', 'O', 'O', 'O', 'O', 'O', 'O', 'O', 'O', 'O', 'O', 'O', 'O', 'O', 'O', 'O', 'O', 'O', 'O', 'O', 'O', 'O', 'O', 'O', 'O', 'O', 'O', 'O', 'O', 'O', 'O', 'O', 'O', 'O', 'O', 'O', 'O', 'O', 'O', 'O', 'O', 'O', 'O', 'O', 'O', 'O', 'O', 'O', 'O', 'O', 'O', 'O', 'O', 'O', 'O', 'O', 'O', 'O', 'O', 'O', 'O', 'O', 'O', 'O', 'O', 'O', 'O', 'B-ASP'], 'tokens': ['Prime', 'Minister', 'Narendra', 'Modi', 'has', 'called', 'for', 'the', 'Indian', 'Air', 'Force', 'to', 'join', 'the', 'evacuation', 'efforts', 'under', 'Operation', 'Ganga', ',', 'official', 'sources', 'told', 'Hindustan', 'TimesLeveraging', 'the', 'capabilities', 'of', 'the', 'IAF', 'will', 'ensure', 'that', 'more', 'people', 'can', 'be', 'evacuated', 'in', 'the', 'shortest', 'possible', 'time', '.', 'It', 'will', 'also', 'help', 'deliver', 'humanitarian', 'aid', 'more', 'efficiently', '.', 'Indian', 'Air', 'Force', 'is', 'likely', 'to', 'deploy', 'severalC', '-', '17', 'aircrafts', 'as', 'part', 'of', 'Operation', 'Ganga', 'from', 'today', '.'], 'aspect': ['.'], 'position': [[74]], 'sentiment': ['Positive']}, {'sentence': 'Prime Minister Narendra Modi has called for the Indian Air Force to join the evacuation efforts under Operation Ganga , official sources told Hindustan TimesLeveraging the capabilities of the IAF will ensure that more people can be evacuated in the shortest possible time . It will also help deliver humanitarian aid more efficiently . Indian Air Force is likely to deploy several C - 17 aircrafts as part of Operation Ganga from today .', 'IOB': ['O', 'O', 'O', 'O', 'O', 'O', 'O', 'O', 'O', 'O', 'O', 'O', 'O', 'O', 'O', 'O', 'O', 'O', 'O', 'O', 'O', 'O', 'O', 'O', 'O', 'O', 'O', 'O', 'O', 'O', 'O', 'O', 'O', 'O', 'O', 'O', 'O', 'O', 'O', 'O', 'O', 'O', 'O', 'O', 'O', 'O', 'O', 'O', 'O', 'O', 'O', 'O', 'O', 'O', 'O', 'O', 'O', 'O', 'O', 'O', 'O', 'O', 'O', 'O', 'O', 'O', 'O', 'O', 'O', 'O', 'O', 'O', 'O', 'B-ASP'], 'tokens': ['Prime', 'Minister', 'Narendra', 'Modi', 'has', 'called', 'for', 'the', 'Indian', 'Air', 'Force', 'to', 'join', 'the', 'evacuation', 'efforts', 'under', 'Operation', 'Ganga', ',', 'official', 'sources', 'told', 'Hindustan', 'TimesLeveraging', 'the', 'capabilities', 'of', 'the', 'IAF', 'will', 'ensure', 'that', 'more', 'people', 'can', 'be', 'evacuated', 'in', 'the', 'shortest', 'possible', 'time', '.', 'It', 'will', 'also', 'help', 'deliver', 'humanitarian', 'aid', 'more', 'efficiently', '.', 'Indian', 'Air', 'Force', 'is', 'likely', 'to', 'deploy', 'several', 'C', '-', '17', 'aircrafts', 'as', 'part', 'of', 'Operation', 'Ganga', 'from', 'today', '.'], 'aspect': ['same time .'], 'position': [[77, 78, 79]], 'sentiment': ['Positive']}, {'sentence': 'While the world prepares for the 5G iPhone SE 3 , rumours now suggest that Apple could continue to sell the older iPhone SE 2020 at an even lower price . How low , you ask ? Prices are expected to go under $ 200 , which means markets like India could expect to see a brand - new iPhone in India for less than Rs . 20 , 000 after a long time .', 'IOB': ['O', 'O', 'O', 'O', 'O', 'O', 'O', 'O', 'O', 'O', 'O', 'O', 'O', 'O', 'O', 'O', 'O', 'O', 'O', 'O', 'O', 'O', 'O', 'O', 'O', 'O', 'O', 'O', 'O', 'O', 'O', 'O', 'O', 'O', 'O', 'O', 'O', 'O', 'O', 'O', 'O', 'O', 'O', 'O', 'O', 'O', 'O', 'O', 'O', 'O', 'O', 'O', 'O', 'O', 'O', 'O', 'O', 'O', 'O', 'O', 'O', 'O', 'O', 'O', 'O', 'O', 'O', 'O', 'O', 'O', 'O', 'O', 'O', 'O', 'O'], 'tokens': ['While', 'the', 'world', 'prepares', 'for', 'the', '5G', 'iPhone', 'SE', '3', ',', 'rumours', 'now', 'suggest', 'that', 'Apple', 'could', 'continue', 'to', 'sell', 'the', 'older', 'iPhone', 'SE', '2020', 'at', 'an', 'even', 'lower', 'price', '.', 'How', 'low', ',', 'you', 'ask', '?', 'Prices', 'are', 'expected', 'to', 'go', 'under', '$', '200', ',', 'which', 'means', 'markets', 'like', 'India', 'could', 'expect', 'to', 'see', 'a', 'brand', '-', 'new', 'iPhone', 'in', 'India', 'for', 'less', 'than', 'Rs', '.', '20', ',', '000', 'after', 'a', 'long', 'time', '.'], 'aspect': [], 'position': [], 'sentiment': []}, {'sentence': \"And this is all while the iPhone SE 3 takes care of the sub - ₹ 40 , 000 space . Bloomberg ' s Mark Gurman says in one of his latest reports that the iPhone SE 2020 could see a massive price drop after the March 8 Spring event . Apple will announce the iPhone SE 3 as its most affordable 5G smartphone and drop the prices of the iPhone SE 4G variant at the same time .\", 'IOB': ['O', 'O', 'O', 'O', 'O', 'O', 'O', 'O', 'O', 'O', 'O', 'O', 'O', 'O', 'O', 'O', 'O', 'O', 'O', 'O', 'O', 'O', 'O', 'O', 'O', 'O', 'O', 'O', 'O', 'O', 'O', 'O', 'O', 'O', 'O', 'O', 'O', 'O', 'O', 'O', 'O', 'O', 'O', 'O', 'O', 'O', 'O', 'O', 'O', 'O', 'O', 'O', 'O', 'O', 'O', 'O', 'O', 'O', 'O', 'O', 'O', 'O', 'O', 'O', 'O', 'O', 'O', 'O', 'O', 'O', 'O', 'O', 'O', 'O', 'O', 'O', 'B-ASP', 'I-ASP', 'I-ASP'], 'tokens': ['And', 'this', 'is', 'all', 'while', 'the', 'iPhone', 'SE', '3', 'takes', 'care', 'of', 'the', 'sub', '-', '₹', '40', ',', '000', 'space', '.', 'Bloomberg', \"'\", 's', 'Mark', 'Gurman', 'says', 'in', 'one', 'of', 'his', 'latest', 'reports', 'that', 'the', 'iPhone', 'SE', '2020', 'could', 'see', 'a', 'massive', 'price', 'drop', 'after', 'the', 'March', '8', 'Spring', 'event', '.', 'Apple', 'will', 'announce', 'the', 'iPhone', 'SE', '3', 'as', 'its', 'most', 'affordable', '5G', 'smartphone', 'and', 'drop', 'the', 'prices', 'of', 'the', 'iPhone', 'SE', '4G', 'variant', 'at', 'the', 'same', 'time', '.'], 'aspect': ['₹ 26 , 000 .'], 'position': [[75, 76, 77, 78, 79]], 'sentiment': ['Positive']}, {'sentence': 'The sole reason behind this is Apple wanting to make the iPhone more accessible so as to rope in more customers to try its other services . The iPhone SE 2020 has seen mega price cuts throughout its two - year lifecycle . Originally launched at a starting price of Rs . 43 , 000 , several e - commerce sales over the years have seen the iPhone SE prices go as low as ₹ 26 , 000 .', 'IOB': ['O', 'O', 'O', 'O', 'O', 'O', 'O', 'O', 'O', 'O', 'O', 'O', 'O', 'O', 'O', 'O', 'O', 'O', 'O', 'O', 'O', 'O', 'O', 'O', 'O', 'O', 'O', 'O', 'O', 'O', 'O', 'O', 'O', 'O', 'O', 'O', 'O', 'O', 'O', 'O', 'O', 'O', 'O', 'O', 'O', 'O', 'O', 'O', 'O', 'O', 'O', 'O', 'O', 'O', 'O', 'O', 'O', 'O', 'O', 'O', 'O', 'O', 'O', 'O', 'O', 'O', 'O', 'O', 'O', 'O', 'O', 'O', 'O', 'O', 'B-ASP', 'I-ASP', 'I-ASP', 'I-ASP', 'I-ASP'], 'tokens': ['The', 'sole', 'reason', 'behind', 'this', 'is', 'Apple', 'wanting', 'to', 'make', 'the', 'iPhone', 'more', 'accessible', 'so', 'as', 'to', 'rope', 'in', 'more', 'customers', 'to', 'try', 'its', 'other', 'services', '.', 'The', 'iPhone', 'SE', '2020', 'has', 'seen', 'mega', 'price', 'cuts', 'throughout', 'its', 'two', '-', 'year', 'lifecycle', '.', 'Originally', 'launched', 'at', 'a', 'starting', 'price', 'of', 'Rs', '.', '43', ',', '000', ',', 'several', 'e', '-', 'commerce', 'sales', 'over', 'the', 'years', 'have', 'seen', 'the', 'iPhone', 'SE', 'prices', 'go', 'as', 'low', 'as', '₹', '26', ',', '000', '.'], 'aspect': ['budget Android'], 'position': [[78, 79]], 'sentiment': ['Positive']}, {'sentence': \"At the moment , the base 64GB variant of the iPhone SE is selling at Rs . 30 , 000 . The last time an iPhone was available in India for this low as the original iPhone SE . After two years of sales , the tiny iPhone SE often sold for as low as Rs . 15 , 000 during Flipkart sales . With the current iPhone SE , Apple would want to take on the budget Android smartphones . Even though the iPhone SE 2020 lacks some of the modern features , such as an edge - to - edge display , a big battery and fast charging , it is still one of the fastest smartphones you can buy at its price . Meanwhile , the iPhone SE 3 itself is expected to have a sub - $ 300 price tag . The updates iPhone SE 3 is likely to get a chip upgrade – from the ageing A13 to Apple ' s latest A15 Bionic . Note that the A15 chip powers the iPhone 13 series at the moment , and supports 5G networks . The rest of the phone is said to remain unchanged from the iPhone SE 2020 . The feature allows users to check traffic situation on roads with colour coding signaling the intensity of traffic movement . The live traffic feature on Google Maps makes use of anonymous location data collected from Android smartphones to reflect the condition of traffic movement on roads . But several experts say that this data could be potentially affected in the time of war and especially in the face of an invading force .\", 'IOB': ['O', 'O', 'O', 'O', 'O', 'O', 'O', 'O', 'O', 'O', 'O', 'O', 'O', 'O', 'O', 'O', 'O', 'O', 'O', 'O', 'O', 'O', 'O', 'O', 'O', 'O', 'O', 'O', 'O', 'O', 'O', 'O', 'O', 'O', 'O', 'O', 'O', 'O', 'O', 'O', 'O', 'O', 'O', 'O', 'O', 'O', 'O', 'O', 'O', 'O', 'O', 'O', 'O', 'O', 'O', 'O', 'O', 'O', 'O', 'O', 'O', 'O', 'O', 'O', 'O', 'O', 'O', 'O', 'O', 'O', 'O', 'O', 'O', 'O', 'O', 'O', 'O', 'B-ASP', 'I-ASP'], 'tokens': ['At', 'the', 'moment', ',', 'the', 'base', '64GB', 'variant', 'of', 'the', 'iPhone', 'SE', 'is', 'selling', 'at', 'Rs', '.', '30', ',', '000', '.', 'The', 'last', 'time', 'an', 'iPhone', 'was', 'available', 'in', 'India', 'for', 'this', 'low', 'as', 'the', 'original', 'iPhone', 'SE', '.', 'After', 'two', 'years', 'of', 'sales', ',', 'the', 'tiny', 'iPhone', 'SE', 'often', 'sold', 'for', 'as', 'low', 'as', 'Rs', '.', '15', ',', '000', 'during', 'Flipkart', 'sales', '.', 'With', 'the', 'current', 'iPhone', 'SE', ',', 'Apple', 'would', 'want', 'to', 'take', 'on', 'the', 'budget', 'Android', 'smartphones', '.', 'Even', 'though', 'the', 'iPhone', 'SE', '2020', 'lacks', 'some', 'of', 'the', 'modern', 'features', ',', 'such', 'as', 'an', 'edge', '-', 'to', '-', 'edge', 'display', ',', 'a', 'big', 'battery', 'and', 'fast', 'charging', ',', 'it', 'is', 'still', 'one', 'of', 'the', 'fastest', 'smartphones', 'you', 'can', 'buy', 'at', 'its', 'price', '.', 'Meanwhile', ',', 'the', 'iPhone', 'SE', '3', 'itself', 'is', 'expected', 'to', 'have', 'a', 'sub', '-', '$', '300', 'price', 'tag', '.', 'The', 'updates', 'iPhone', 'SE', '3', 'is', 'likely', 'to', 'get', 'a', 'chip', 'upgrade', '–', 'from', 'the', 'ageing', 'A13', 'to', 'Apple', \"'\", 's', 'latest', 'A15', 'Bionic', '.', 'Note', 'that', 'the', 'A15', 'chip', 'powers', 'the', 'iPhone', '13', 'series', 'at', 'the', 'moment', ',', 'and', 'supports', '5G', 'networks', '.', 'The', 'rest', 'of', 'the', 'phone', 'is', 'said', 'to', 'remain', 'unchanged', 'from', 'the', 'iPhone', 'SE', '2020', '.', 'The', 'feature', 'allows', 'users', 'to', 'check', 'traffic', 'situation', 'on', 'roads', 'with', 'colour', 'coding', 'signaling', 'the', 'intensity', 'of', 'traffic', 'movement', '.', 'The', 'live', 'traffic', 'feature', 'on', 'Google', 'Maps', 'makes', 'use', 'of', 'anonymous', 'location', 'data', 'collected', 'from', 'Android', 'smartphones', 'to', 'reflect', 'the', 'condition', 'of', 'traffic', 'movement', 'on', 'roads', '.', 'But', 'several', 'experts', 'say', 'that', 'this', 'data', 'could', 'be', 'potentially', 'affected', 'in', 'the', 'time', 'of', 'war', 'and', 'especially', 'in', 'the', 'face', 'of', 'an', 'invading', 'force', '.'], 'aspect': ['of potential customers who are also looking for a stylish'], 'position': [[70, 71, 72, 73, 74, 75, 76, 77, 78, 79]], 'sentiment': ['Positive']}, {'sentence': \"The SUV will be based on STLA architecture , Stellantis further said . Carlos Tavares , CEO of Jeep ' s parent company Stellantis said that this upcoming all - electric SUV will be a lifestyle family vehicle . He also said that this is going to be a pure off - road Jeep .\", 'IOB': ['O', 'O', 'O', 'O', 'O', 'O', 'O', 'O', 'O', 'O', 'O', 'O', 'O', 'O', 'O', 'O', 'O', 'O', 'O', 'O', 'O', 'O', 'O', 'O', 'O', 'O', 'O', 'O', 'O', 'O', 'O', 'O', 'O', 'O', 'O', 'O', 'O', 'O', 'O', 'O', 'O', 'O', 'O', 'O', 'O', 'O', 'O', 'O', 'O', 'O', 'O', 'O', 'O', 'O', 'O'], 'tokens': ['The', 'SUV', 'will', 'be', 'based', 'on', 'STLA', 'architecture', ',', 'Stellantis', 'further', 'said', '.', 'Carlos', 'Tavares', ',', 'CEO', 'of', 'Jeep', \"'\", 's', 'parent', 'company', 'Stellantis', 'said', 'that', 'this', 'upcoming', 'all', '-', 'electric', 'SUV', 'will', 'be', 'a', 'lifestyle', 'family', 'vehicle', '.', 'He', 'also', 'said', 'that', 'this', 'is', 'going', 'to', 'be', 'a', 'pure', 'off', '-', 'road', 'Jeep', '.'], 'aspect': [], 'position': [], 'sentiment': []}, {'sentence': 'Hero Eddy short - commute electric scooter unveiled . And no , license not needed Hero Eddy from Hero Electric is aimed at short commutes powered by electricity . The upcoming electric scooter will be offered in two colours . Hero Eddy electric scooter . Hero Electric on Tuesday unveiled the all - new Hero Eddy electric scooter which has been developed specifically to meet the short commute requirements of potential customers who are also looking for a stylish ride option .', 'IOB': ['O', 'O', 'O', 'O', 'O', 'O', 'O', 'O', 'O', 'O', 'O', 'O', 'O', 'O', 'O', 'O', 'O', 'O', 'O', 'O', 'O', 'O', 'O', 'O', 'O', 'O', 'O', 'O', 'O', 'O', 'O', 'O', 'O', 'O', 'O', 'O', 'O', 'O', 'O', 'O', 'O', 'O', 'O', 'O', 'O', 'O', 'O', 'O', 'O', 'O', 'O', 'O', 'O', 'O', 'O', 'O', 'O', 'O', 'O', 'O', 'O', 'O', 'O', 'O', 'O', 'O', 'O', 'O', 'O', 'B-ASP', 'I-ASP', 'I-ASP', 'I-ASP', 'I-ASP', 'I-ASP', 'I-ASP', 'I-ASP', 'I-ASP', 'I-ASP'], 'tokens': ['Hero', 'Eddy', 'short', '-', 'commute', 'electric', 'scooter', 'unveiled', '.', 'And', 'no', ',', 'license', 'not', 'needed', 'Hero', 'Eddy', 'from', 'Hero', 'Electric', 'is', 'aimed', 'at', 'short', 'commutes', 'powered', 'by', 'electricity', '.', 'The', 'upcoming', 'electric', 'scooter', 'will', 'be', 'offered', 'in', 'two', 'colours', '.', 'Hero', 'Eddy', 'electric', 'scooter', '.', 'Hero', 'Electric', 'on', 'Tuesday', 'unveiled', 'the', 'all', '-', 'new', 'Hero', 'Eddy', 'electric', 'scooter', 'which', 'has', 'been', 'developed', 'specifically', 'to', 'meet', 'the', 'short', 'commute', 'requirements', 'of', 'potential', 'customers', 'who', 'are', 'also', 'looking', 'for', 'a', 'stylish', 'ride', 'option', '.'], 'aspect': [\"' t been revealed , the company highlights\"], 'position': [[72, 73, 74, 75, 76, 77, 78, 79]], 'sentiment': ['Positive']}, {'sentence': \"Priced at ₹ 72 , 000 ( ex showroom ) and complete with a simple yet stylish body design , the Hero Eddy comes loaded with a number of features to allow commuters to have a convenient ride . The Hero Eddy has been designed for a specific group of customers who want an electric two - wheeler to cover short distances . Although the range of the electric scooter hasn ' t been revealed , the company highlights that the product comes with features such as Find\", 'IOB': ['O', 'O', 'O', 'O', 'O', 'O', 'O', 'O', 'O', 'O', 'O', 'O', 'O', 'O', 'O', 'O', 'O', 'O', 'O', 'O', 'O', 'O', 'O', 'O', 'O', 'O', 'O', 'O', 'O', 'O', 'O', 'O', 'O', 'O', 'O', 'O', 'O', 'O', 'O', 'O', 'O', 'O', 'O', 'O', 'O', 'O', 'O', 'O', 'O', 'O', 'O', 'O', 'O', 'O', 'O', 'O', 'O', 'O', 'O', 'O', 'O', 'O', 'O', 'O', 'O', 'O', 'O', 'O', 'O', 'O', 'O', 'B-ASP', 'I-ASP', 'I-ASP', 'I-ASP', 'I-ASP', 'I-ASP', 'I-ASP', 'I-ASP'], 'tokens': ['Priced', 'at', '₹', '72', ',', '000', '(', 'ex', 'showroom', ')', 'and', 'complete', 'with', 'a', 'simple', 'yet', 'stylish', 'body', 'design', ',', 'the', 'Hero', 'Eddy', 'comes', 'loaded', 'with', 'a', 'number', 'of', 'features', 'to', 'allow', 'commuters', 'to', 'have', 'a', 'convenient', 'ride', '.', 'The', 'Hero', 'Eddy', 'has', 'been', 'designed', 'for', 'a', 'specific', 'group', 'of', 'customers', 'who', 'want', 'an', 'electric', 'two', '-', 'wheeler', 'to', 'cover', 'short', 'distances', '.', 'Although', 'the', 'range', 'of', 'the', 'electric', 'scooter', 'hasn', \"'\", 't', 'been', 'revealed', ',', 'the', 'company', 'highlights', 'that', 'the', 'product', 'comes', 'with', 'features', 'such', 'as', 'Find'], 'aspect': ['low - speed vehicle .'], 'position': [[69, 70, 71, 72, 73]], 'sentiment': ['Positive']}, {'sentence': 'My Bike , E - Lock , Large Boot Space , Follow Me Headlamps , and Reverse Mode . ( Top 5 electric two - wheeler makers in India in 2021 : Hero , Okinawa lead the pack ) To be made available in two colour options - Yellow and a light shade of Blue , Hero Eddy requires no registration or driving license as it is a low - speed vehicle .', 'IOB': ['O', 'O', 'O', 'O', 'O', 'O', 'O', 'O', 'O', 'O', 'O', 'O', 'O', 'O', 'O', 'O', 'O', 'O', 'O', 'O', 'O', 'O', 'O', 'O', 'O', 'O', 'O', 'O', 'O', 'O', 'O', 'O', 'O', 'O', 'O', 'O', 'O', 'O', 'O', 'O', 'O', 'O', 'O', 'O', 'O', 'O', 'O', 'O', 'O', 'O', 'O', 'O', 'O', 'O', 'O', 'O', 'O', 'O', 'O', 'O', 'O', 'O', 'O', 'O', 'O', 'O', 'O', 'O', 'B-ASP', 'I-ASP', 'I-ASP', 'I-ASP', 'I-ASP'], 'tokens': ['My', 'Bike', ',', 'E', '-', 'Lock', ',', 'Large', 'Boot', 'Space', ',', 'Follow', 'Me', 'Headlamps', ',', 'and', 'Reverse', 'Mode', '.', '(', 'Top', '5', 'electric', 'two', '-', 'wheeler', 'makers', 'in', 'India', 'in', '2021', ':', 'Hero', ',', 'Okinawa', 'lead', 'the', 'pack', ')', 'To', 'be', 'made', 'available', 'in', 'two', 'colour', 'options', '-', 'Yellow', 'and', 'a', 'light', 'shade', 'of', 'Blue', ',', 'Hero', 'Eddy', 'requires', 'no', 'registration', 'or', 'driving', 'license', 'as', 'it', 'is', 'a', 'low', '-', 'speed', 'vehicle', '.'], 'aspect': [\"danger ' .\"], 'position': [[68, 69, 70]], 'sentiment': ['Negative']}, {'sentence': 'Hero Electric is continuing to underline the pollution - free credentials of its product and states that Eddy is a step in the same direction . \\' We at Hero are thrilled to announce our upcoming product Hero Eddy that will have an overwhelming on - road presence combining smart features and stylish looks , \" said Naveen Munjal , MD at Hero Electric . \\'', 'IOB': ['O', 'O', 'O', 'O', 'O', 'O', 'O', 'O', 'O', 'O', 'O', 'O', 'O', 'O', 'O', 'O', 'O', 'O', 'O', 'O', 'O', 'O', 'O', 'O', 'O', 'O', 'O', 'O', 'O', 'O', 'O', 'O', 'O', 'O', 'O', 'O', 'O', 'O', 'O', 'O', 'O', 'O', 'O', 'O', 'O', 'O', 'O', 'O', 'O', 'O', 'O', 'O', 'O', 'O', 'O', 'O', 'O', 'O', 'O', 'O', 'O', 'O', 'O', 'O', 'O', 'O'], 'tokens': ['Hero', 'Electric', 'is', 'continuing', 'to', 'underline', 'the', 'pollution', '-', 'free', 'credentials', 'of', 'its', 'product', 'and', 'states', 'that', 'Eddy', 'is', 'a', 'step', 'in', 'the', 'same', 'direction', '.', \"'\", 'We', 'at', 'Hero', 'are', 'thrilled', 'to', 'announce', 'our', 'upcoming', 'product', 'Hero', 'Eddy', 'that', 'will', 'have', 'an', 'overwhelming', 'on', '-', 'road', 'presence', 'combining', 'smart', 'features', 'and', 'stylish', 'looks', ',', '\"', 'said', 'Naveen', 'Munjal', ',', 'MD', 'at', 'Hero', 'Electric', '.', \"'\"], 'aspect': [], 'position': [], 'sentiment': []}, {'sentence': \"The other car driver , Bhagwant Singh of Sri Ganganagar in Rajasthan , also suffered serious injuries and has been shifted to Guru Gobind Singh Medical College in Faridkot . Meanwhile , Rakhra ' s wife Amritpal Kaur , 35 , and eight - year - old daughter Abhijot Kaur are admitted to a private hospital in Muktsar , and are stated to be ' out of danger ' .\", 'IOB': ['O', 'O', 'O', 'O', 'O', 'O', 'O', 'O', 'O', 'O', 'O', 'O', 'O', 'O', 'O', 'O', 'O', 'O', 'O', 'O', 'O', 'O', 'O', 'O', 'O', 'O', 'O', 'O', 'O', 'O', 'O', 'O', 'O', 'O', 'O', 'O', 'O', 'O', 'O', 'O', 'O', 'O', 'O', 'O', 'O', 'O', 'O', 'O', 'O', 'O', 'O', 'O', 'O', 'O', 'O', 'O', 'O', 'O', 'O', 'O', 'O', 'O', 'O', 'O', 'O', 'O', 'O', 'B-ASP', 'I-ASP', 'I-ASP'], 'tokens': ['The', 'other', 'car', 'driver', ',', 'Bhagwant', 'Singh', 'of', 'Sri', 'Ganganagar', 'in', 'Rajasthan', ',', 'also', 'suffered', 'serious', 'injuries', 'and', 'has', 'been', 'shifted', 'to', 'Guru', 'Gobind', 'Singh', 'Medical', 'College', 'in', 'Faridkot', '.', 'Meanwhile', ',', 'Rakhra', \"'\", 's', 'wife', 'Amritpal', 'Kaur', ',', '35', ',', 'and', 'eight', '-', 'year', '-', 'old', 'daughter', 'Abhijot', 'Kaur', 'are', 'admitted', 'to', 'a', 'private', 'hospital', 'in', 'Muktsar', ',', 'and', 'are', 'stated', 'to', 'be', \"'\", 'out', 'of', 'danger', \"'\", '.'], 'aspect': ['some foreign drug supplier and the'], 'position': [[74, 75, 76, 77, 78, 79]], 'sentiment': ['Negative']}, {'sentence': \"Indeed , contrary to the allegations of NCB ' s Mumbai unit , some of the key findings of the SIT , shared by officials with HT , are : Aryan Khan was never in possession of drugs\", 'IOB': ['O', 'O', 'O', 'O', 'O', 'O', 'O', 'O', 'O', 'O', 'O', 'O', 'O', 'O', 'O', 'O', 'O', 'O', 'O', 'O', 'O', 'O', 'O', 'O', 'O', 'O', 'O', 'O', 'O', 'O', 'O', 'O', 'O', 'O', 'O', 'O', 'O', 'O'], 'tokens': ['Indeed', ',', 'contrary', 'to', 'the', 'allegations', 'of', 'NCB', \"'\", 's', 'Mumbai', 'unit', ',', 'some', 'of', 'the', 'key', 'findings', 'of', 'the', 'SIT', ',', 'shared', 'by', 'officials', 'with', 'HT', ',', 'are', ':', 'Aryan', 'Khan', 'was', 'never', 'in', 'possession', 'of', 'drugs'], 'aspect': [], 'position': [], 'sentiment': []}, {'sentence': \"Significantly , the initial findings of the SIT probe substantiate the observations by Bombay high court , which granted bail to Khan on October 28 last year while saying that ' there was no evidence to suggest existence of any conspiracy ' , the officials said . SIT ' s review of the Cordelia probe which involved questioning all the arrested persons , witnesses It alleged that Aryan Khan was in touch with some foreign drug supplier and the chats referred to ' hard drugs ' and ' bulk quantities ' . However , rejecting NCB ' s claims , a single bench of justice Nitin W Sambre of Bombay high court noted that there was no evidence to suggest existence of any conspiracy .\", 'IOB': ['O', 'O', 'O', 'O', 'O', 'O', 'O', 'O', 'O', 'O', 'O', 'O', 'O', 'O', 'O', 'O', 'O', 'O', 'O', 'O', 'O', 'O', 'O', 'O', 'O', 'O', 'O', 'O', 'O', 'O', 'O', 'O', 'O', 'O', 'O', 'O', 'O', 'O', 'O', 'O', 'O', 'O', 'O', 'O', 'O', 'O', 'O', 'O', 'O', 'O', 'O', 'O', 'O', 'O', 'O', 'O', 'O', 'O', 'O', 'O', 'O', 'O', 'O', 'O', 'O', 'O', 'O', 'O', 'O', 'O', 'O', 'O', 'O', 'B-ASP', 'I-ASP', 'I-ASP', 'I-ASP', 'I-ASP', 'I-ASP'], 'tokens': ['Significantly', ',', 'the', 'initial', 'findings', 'of', 'the', 'SIT', 'probe', 'substantiate', 'the', 'observations', 'by', 'Bombay', 'high', 'court', ',', 'which', 'granted', 'bail', 'to', 'Khan', 'on', 'October', '28', 'last', 'year', 'while', 'saying', 'that', \"'\", 'there', 'was', 'no', 'evidence', 'to', 'suggest', 'existence', 'of', 'any', 'conspiracy', \"'\", ',', 'the', 'officials', 'said', '.', 'SIT', \"'\", 's', 'review', 'of', 'the', 'Cordelia', 'probe', 'which', 'involved', 'questioning', 'all', 'the', 'arrested', 'persons', ',', 'witnesses', 'It', 'alleged', 'that', 'Aryan', 'Khan', 'was', 'in', 'touch', 'with', 'some', 'foreign', 'drug', 'supplier', 'and', 'the', 'chats', 'referred', 'to', \"'\", 'hard', 'drugs', \"'\", 'and', \"'\", 'bulk', 'quantities', \"'\", '.', 'However', ',', 'rejecting', 'NCB', \"'\", 's', 'claims', ',', 'a', 'single', 'bench', 'of', 'justice', 'Nitin', 'W', 'Sambre', 'of', 'Bombay', 'high', 'court', 'noted', 'that', 'there', 'was', 'no', 'evidence', 'to', 'suggest', 'existence', 'of', 'any', 'conspiracy', '.'], 'aspect': ['SHARE THIS ARTICLE ON'], 'position': [[71, 72, 73, 74]], 'sentiment': ['Negative']}, {'sentence': \"The high - profile case got shrouded in controversy when a key NCB witness alleged that the agency ' s Mumbai zonal chief Sameer Wankhede was part of a ₹ 25 crore extortion racket targeting Khan . The witness , Prabhakar Sail , also alleged that he was forced to sign sheets of blank paper , prompting the anti - drug agency to set up an inquiry into Wankhede . SHARE THIS ARTICLE ON\", 'IOB': ['O', 'O', 'O', 'O', 'O', 'O', 'O', 'O', 'O', 'O', 'O', 'O', 'O', 'O', 'O', 'O', 'O', 'O', 'O', 'O', 'O', 'O', 'O', 'O', 'O', 'O', 'O', 'O', 'O', 'O', 'O', 'O', 'O', 'O', 'O', 'O', 'O', 'O', 'O', 'O', 'O', 'O', 'O', 'O', 'O', 'O', 'O', 'O', 'O', 'O', 'O', 'O', 'O', 'O', 'O', 'O', 'O', 'O', 'O', 'O', 'O', 'O', 'O', 'O', 'O', 'O', 'O', 'O', 'O', 'O', 'B-ASP', 'I-ASP', 'I-ASP', 'I-ASP'], 'tokens': ['The', 'high', '-', 'profile', 'case', 'got', 'shrouded', 'in', 'controversy', 'when', 'a', 'key', 'NCB', 'witness', 'alleged', 'that', 'the', 'agency', \"'\", 's', 'Mumbai', 'zonal', 'chief', 'Sameer', 'Wankhede', 'was', 'part', 'of', 'a', '₹', '25', 'crore', 'extortion', 'racket', 'targeting', 'Khan', '.', 'The', 'witness', ',', 'Prabhakar', 'Sail', ',', 'also', 'alleged', 'that', 'he', 'was', 'forced', 'to', 'sign', 'sheets', 'of', 'blank', 'paper', ',', 'prompting', 'the', 'anti', '-', 'drug', 'agency', 'to', 'set', 'up', 'an', 'inquiry', 'into', 'Wankhede', '.', 'SHARE', 'THIS', 'ARTICLE', 'ON'], 'aspect': ['. \" Now , there'], 'position': [[75, 76, 77, 78, 79]], 'sentiment': ['Positive']}, {'sentence': 'After sounding upbeat last week on LIC \\' s prospects despite deteriorating market condition , India \\' s finance minister , Nirmala Sitharaman , on Tuesday told local media the government was open to reviewing the IPO plans due to prevalent market conditions . \" I wouldn \\' t mind looking at it again , \" Sitharaman said in an interview with Business Line newspaper , referring to the timing of the LIC offering . \" Now , there is a full - scale war . Decision on release of Devinder Pal Singh Bhullar from Tihar jail likely today The seven - member Sentence Review Board ( SRB ) will meet on Wednesday to discuss the premature release of at least 100 prisoners , including Devinder Pal Singh Bhullar , officials aware of the development said . They added that the meeting will be held in the afternoon at the Delhi Secretariat .', 'IOB': ['O', 'O', 'O', 'O', 'O', 'O', 'O', 'O', 'O', 'O', 'O', 'O', 'O', 'O', 'O', 'O', 'O', 'O', 'O', 'O', 'O', 'O', 'O', 'O', 'O', 'O', 'O', 'O', 'O', 'O', 'O', 'O', 'O', 'O', 'O', 'O', 'O', 'O', 'O', 'O', 'O', 'O', 'O', 'O', 'O', 'O', 'O', 'O', 'O', 'O', 'O', 'O', 'O', 'O', 'O', 'O', 'O', 'O', 'O', 'O', 'O', 'O', 'O', 'O', 'O', 'O', 'O', 'O', 'O', 'O', 'O', 'O', 'O', 'O', 'B-ASP', 'I-ASP', 'I-ASP', 'I-ASP', 'I-ASP'], 'tokens': ['After', 'sounding', 'upbeat', 'last', 'week', 'on', 'LIC', \"'\", 's', 'prospects', 'despite', 'deteriorating', 'market', 'condition', ',', 'India', \"'\", 's', 'finance', 'minister', ',', 'Nirmala', 'Sitharaman', ',', 'on', 'Tuesday', 'told', 'local', 'media', 'the', 'government', 'was', 'open', 'to', 'reviewing', 'the', 'IPO', 'plans', 'due', 'to', 'prevalent', 'market', 'conditions', '.', '\"', 'I', 'wouldn', \"'\", 't', 'mind', 'looking', 'at', 'it', 'again', ',', '\"', 'Sitharaman', 'said', 'in', 'an', 'interview', 'with', 'Business', 'Line', 'newspaper', ',', 'referring', 'to', 'the', 'timing', 'of', 'the', 'LIC', 'offering', '.', '\"', 'Now', ',', 'there', 'is', 'a', 'full', '-', 'scale', 'war', '.', 'Decision', 'on', 'release', 'of', 'Devinder', 'Pal', 'Singh', 'Bhullar', 'from', 'Tihar', 'jail', 'likely', 'today', 'The', 'seven', '-', 'member', 'Sentence', 'Review', 'Board', '(', 'SRB', ')', 'will', 'meet', 'on', 'Wednesday', 'to', 'discuss', 'the', 'premature', 'release', 'of', 'at', 'least', '100', 'prisoners', ',', 'including', 'Devinder', 'Pal', 'Singh', 'Bhullar', ',', 'officials', 'aware', 'of', 'the', 'development', 'said', '.', 'They', 'added', 'that', 'the', 'meeting', 'will', 'be', 'held', 'in', 'the', 'afternoon', 'at', 'the', 'Delhi', 'Secretariat', '.'], 'aspect': ['of the AAP government in Delhi .'], 'position': [[71, 72, 73, 74, 75, 76, 77]], 'sentiment': ['Negative']}, {'sentence': 'Decision on release of Devinder Pal Singh Bhullar from Tihar jail likely today The seven - member Sentence Review Board ( SRB ) will meet on Wednesday to discuss the premature release of at least 100 prisoners , including Devinder Pal Singh Bhullar , officials aware of the development said . They added that the meeting will be held in the afternoon at the Delhi Secretariat .', 'IOB': ['O', 'O', 'O', 'O', 'O', 'O', 'O', 'O', 'O', 'O', 'O', 'O', 'O', 'O', 'O', 'O', 'O', 'O', 'O', 'O', 'O', 'O', 'O', 'O', 'O', 'O', 'O', 'O', 'O', 'O', 'O', 'O', 'O', 'O', 'O', 'O', 'O', 'O', 'O', 'O', 'O', 'O', 'O', 'O', 'O', 'O', 'O', 'O', 'O', 'O', 'O', 'O', 'O', 'O', 'O', 'O', 'O', 'O', 'O', 'O', 'O', 'O', 'O', 'O', 'O', 'O', 'O'], 'tokens': ['Decision', 'on', 'release', 'of', 'Devinder', 'Pal', 'Singh', 'Bhullar', 'from', 'Tihar', 'jail', 'likely', 'today', 'The', 'seven', '-', 'member', 'Sentence', 'Review', 'Board', '(', 'SRB', ')', 'will', 'meet', 'on', 'Wednesday', 'to', 'discuss', 'the', 'premature', 'release', 'of', 'at', 'least', '100', 'prisoners', ',', 'including', 'Devinder', 'Pal', 'Singh', 'Bhullar', ',', 'officials', 'aware', 'of', 'the', 'development', 'said', '.', 'They', 'added', 'that', 'the', 'meeting', 'will', 'be', 'held', 'in', 'the', 'afternoon', 'at', 'the', 'Delhi', 'Secretariat', '.'], 'aspect': [], 'position': [], 'sentiment': []}, {'sentence': \"Delhi govt to take decision on Bhullar ' s release once legal process gets over : Bhagwant Mann In the run - up to the Punjab assembly elections , there was a growing clamour for Bhullar ' s release with several groups petitioning different political parties , particularly the Aam Aadmi Party ( AAP ) because the Tihar jail , where Bhullar was lodged , comes under the administrative jurisdiction of the AAP government in Delhi .\", 'IOB': ['O', 'O', 'O', 'O', 'O', 'O', 'O', 'O', 'O', 'O', 'O', 'O', 'O', 'O', 'O', 'O', 'O', 'O', 'O', 'O', 'O', 'O', 'O', 'O', 'O', 'O', 'O', 'O', 'O', 'O', 'O', 'O', 'O', 'O', 'O', 'O', 'O', 'O', 'O', 'O', 'O', 'O', 'O', 'O', 'O', 'O', 'O', 'O', 'O', 'O', 'O', 'O', 'O', 'O', 'O', 'O', 'O', 'O', 'O', 'O', 'O', 'O', 'O', 'O', 'O', 'O', 'O', 'O', 'O', 'O', 'B-ASP', 'I-ASP', 'I-ASP', 'I-ASP', 'I-ASP', 'I-ASP', 'I-ASP'], 'tokens': ['Delhi', 'govt', 'to', 'take', 'decision', 'on', 'Bhullar', \"'\", 's', 'release', 'once', 'legal', 'process', 'gets', 'over', ':', 'Bhagwant', 'Mann', 'In', 'the', 'run', '-', 'up', 'to', 'the', 'Punjab', 'assembly', 'elections', ',', 'there', 'was', 'a', 'growing', 'clamour', 'for', 'Bhullar', \"'\", 's', 'release', 'with', 'several', 'groups', 'petitioning', 'different', 'political', 'parties', ',', 'particularly', 'the', 'Aam', 'Aadmi', 'Party', '(', 'AAP', ')', 'because', 'the', 'Tihar', 'jail', ',', 'where', 'Bhullar', 'was', 'lodged', ',', 'comes', 'under', 'the', 'administrative', 'jurisdiction', 'of', 'the', 'AAP', 'government', 'in', 'Delhi', '.'], 'aspect': ['the trial .'], 'position': [[75, 76, 77]], 'sentiment': ['Negative']}, {'sentence': \"The 57 - year - old convict is a prisoner of Tihar , but has been lodged in Punjab ' s Amritsar jail since 2015 due to mental health issues . Bhullar was convicted and sentenced to death in 2011 in the 1993 Delhi bomb blasts case . In March 2014 , however , the Supreme Court commuted his death sentence to life imprisonment owing to his ill health , and a delay in the trial .\", 'IOB': ['O', 'O', 'O', 'O', 'O', 'O', 'O', 'O', 'O', 'O', 'O', 'O', 'O', 'O', 'O', 'O', 'O', 'O', 'O', 'O', 'O', 'O', 'O', 'O', 'O', 'O', 'O', 'O', 'O', 'O', 'O', 'O', 'O', 'O', 'O', 'O', 'O', 'O', 'O', 'O', 'O', 'O', 'O', 'O', 'O', 'O', 'O', 'O', 'O', 'O', 'O', 'O', 'O', 'O', 'O', 'O', 'O', 'O', 'O', 'O', 'O', 'O', 'O', 'O', 'O', 'O', 'O', 'O', 'O', 'O', 'O', 'O', 'O', 'O', 'B-ASP', 'I-ASP', 'I-ASP'], 'tokens': ['The', '57', '-', 'year', '-', 'old', 'convict', 'is', 'a', 'prisoner', 'of', 'Tihar', ',', 'but', 'has', 'been', 'lodged', 'in', 'Punjab', \"'\", 's', 'Amritsar', 'jail', 'since', '2015', 'due', 'to', 'mental', 'health', 'issues', '.', 'Bhullar', 'was', 'convicted', 'and', 'sentenced', 'to', 'death', 'in', '2011', 'in', 'the', '1993', 'Delhi', 'bomb', 'blasts', 'case', '.', 'In', 'March', '2014', ',', 'however', ',', 'the', 'Supreme', 'Court', 'commuted', 'his', 'death', 'sentence', 'to', 'life', 'imprisonment', 'owing', 'to', 'his', 'ill', 'health', ',', 'and', 'a', 'delay', 'in', 'the', 'trial', '.'], 'aspect': ['concluded Punjab assembly polls , and was the'], 'position': [[72, 73, 74, 75, 76, 77, 78, 79]], 'sentiment': ['Negative']}, {'sentence': \"Devinder Pal Bhullar : An explainer on how prisoners are considered for release ' Last week , we got a message from the office of Delhi home minister ( Satyendar Jain ) about the SRB meeting on March 2 . There are many prisoners for review and Bhullar is one of them , ' a state home department official confirmed .\", 'IOB': ['O', 'O', 'O', 'O', 'O', 'O', 'O', 'O', 'O', 'O', 'O', 'O', 'O', 'O', 'O', 'O', 'O', 'O', 'O', 'O', 'O', 'O', 'O', 'O', 'O', 'O', 'O', 'O', 'O', 'O', 'O', 'O', 'O', 'O', 'O', 'O', 'O', 'O', 'O', 'O', 'O', 'O', 'O', 'O', 'O', 'O', 'O', 'O', 'O', 'O', 'O', 'O', 'O', 'O', 'O', 'O', 'O', 'O', 'O', 'O', 'O'], 'tokens': ['Devinder', 'Pal', 'Bhullar', ':', 'An', 'explainer', 'on', 'how', 'prisoners', 'are', 'considered', 'for', 'release', \"'\", 'Last', 'week', ',', 'we', 'got', 'a', 'message', 'from', 'the', 'office', 'of', 'Delhi', 'home', 'minister', '(', 'Satyendar', 'Jain', ')', 'about', 'the', 'SRB', 'meeting', 'on', 'March', '2', '.', 'There', 'are', 'many', 'prisoners', 'for', 'review', 'and', 'Bhullar', 'is', 'one', 'of', 'them', ',', \"'\", 'a', 'state', 'home', 'department', 'official', 'confirmed', '.'], 'aspect': [], 'position': [], 'sentiment': []}, {'sentence': \"In the backdrop of Bhullar ' s family and many groups blaming the Delhi government for delaying Bhullar ' s release , the AAP has maintained that other parties were politicising the issue , and has clarified that SRB is not a Delhi government body but comprises of representatives from the judiciary , police , prison , and the state government . The AAP is a key contender in the recently concluded Punjab assembly polls , and was the main opposition in the outgoing assembly . The Shiromani Akali Dal ( Badal ) patriarch Parkash Singh Badal is among key political figures from Punjab who have pushed for Bhullar ' s early release .\", 'IOB': ['O', 'O', 'O', 'O', 'O', 'O', 'O', 'O', 'O', 'O', 'O', 'O', 'O', 'O', 'O', 'O', 'O', 'O', 'O', 'O', 'O', 'O', 'O', 'O', 'O', 'O', 'O', 'O', 'O', 'O', 'O', 'O', 'O', 'O', 'O', 'O', 'O', 'O', 'O', 'O', 'O', 'O', 'O', 'O', 'O', 'O', 'O', 'O', 'O', 'O', 'O', 'O', 'O', 'O', 'O', 'O', 'O', 'O', 'O', 'O', 'O', 'O', 'O', 'O', 'O', 'O', 'O', 'O', 'O', 'O', 'O', 'B-ASP', 'I-ASP', 'I-ASP', 'I-ASP', 'I-ASP', 'I-ASP', 'I-ASP', 'I-ASP'], 'tokens': ['In', 'the', 'backdrop', 'of', 'Bhullar', \"'\", 's', 'family', 'and', 'many', 'groups', 'blaming', 'the', 'Delhi', 'government', 'for', 'delaying', 'Bhullar', \"'\", 's', 'release', ',', 'the', 'AAP', 'has', 'maintained', 'that', 'other', 'parties', 'were', 'politicising', 'the', 'issue', ',', 'and', 'has', 'clarified', 'that', 'SRB', 'is', 'not', 'a', 'Delhi', 'government', 'body', 'but', 'comprises', 'of', 'representatives', 'from', 'the', 'judiciary', ',', 'police', ',', 'prison', ',', 'and', 'the', 'state', 'government', '.', 'The', 'AAP', 'is', 'a', 'key', 'contender', 'in', 'the', 'recently', 'concluded', 'Punjab', 'assembly', 'polls', ',', 'and', 'was', 'the', 'main', 'opposition', 'in', 'the', 'outgoing', 'assembly', '.', 'The', 'Shiromani', 'Akali', 'Dal', '(', 'Badal', ')', 'patriarch', 'Parkash', 'Singh', 'Badal', 'is', 'among', 'key', 'political', 'figures', 'from', 'Punjab', 'who', 'have', 'pushed', 'for', 'Bhullar', \"'\", 's', 'early', 'release', '.'], 'aspect': ['in Ludhiana to meet'], 'position': [[76, 77, 78, 79]], 'sentiment': ['Positive']}, {'sentence': \"Now they are prized items in the budding relationship that ' s made Turkey one of Kyiv ' s most important backers . In the process , the planes are straining ties between Turkish President Recep Tayyip Erdogan and Putin , a relationship that has consequences for Turkey ' s economy , defense ties and regional flashpoints including Syria ' s war .\", 'IOB': ['O', 'O', 'O', 'O', 'O', 'O', 'O', 'O', 'O', 'O', 'O', 'O', 'O', 'O', 'O', 'O', 'O', 'O', 'O', 'O', 'O', 'O', 'O', 'O', 'O', 'O', 'O', 'O', 'O', 'O', 'O', 'O', 'O', 'O', 'O', 'O', 'O', 'O', 'O', 'O', 'O', 'O', 'O', 'O', 'O', 'O', 'O', 'O', 'O', 'O', 'O', 'O', 'O', 'O', 'O', 'O', 'O', 'O', 'O', 'O', 'O', 'O', 'O'], 'tokens': ['Now', 'they', 'are', 'prized', 'items', 'in', 'the', 'budding', 'relationship', 'that', \"'\", 's', 'made', 'Turkey', 'one', 'of', 'Kyiv', \"'\", 's', 'most', 'important', 'backers', '.', 'In', 'the', 'process', ',', 'the', 'planes', 'are', 'straining', 'ties', 'between', 'Turkish', 'President', 'Recep', 'Tayyip', 'Erdogan', 'and', 'Putin', ',', 'a', 'relationship', 'that', 'has', 'consequences', 'for', 'Turkey', \"'\", 's', 'economy', ',', 'defense', 'ties', 'and', 'regional', 'flashpoints', 'including', 'Syria', \"'\", 's', 'war', '.'], 'aspect': [], 'position': [], 'sentiment': []}, {'sentence': \"Michael Kofman , a Russia analyst at CNA , a nonprofit research and analysis organization in Arlington , Virginia , similarly ascribed some of Ukraine ' s drone strikes to ' mind boggling ' decisions by Russia ' s military , including failing to provide extensive air cover . Putin ' s forces , which are yet to secure control of skies over all Ukraine despite starting their campaign by targeting radar facilities and airstrips , said they had destroyed at least four Bayraktar drones as well as the base from which they ' re launched , according to an Interfax report . They ' re a product of Erdogan ' s ambition to make Turkey ' s projection of regional power more self - sufficient , and Istanbul - based Baykar is run by Selcuk Bayraktar , a son - in - law of the president . Bayraktar drones owned by Ukraine opened fire for the first time in October to destroy mobile artillery in Donbas , a region where Russian - backed separatists have faced off against Ukrainian troops since 2014 and that ' s cited by Putin as one justification for his invasion . Turkey ' s Drone Chief Leads Pursuit of Homegrown Military EdgeIn a Dec . 10 phone call with Erdogan , Putin condemned Ukraine ' s ' provocative ' deployment of the attack drones , according to a Kremlin statement . About a month earlier , Russian Foreign Minister Sergei Lavrov had warned Turkish Foreign Minister Mevlut Cavusoglu to take Moscow ' s concern over Turkey ' s ' militarization ' of Ukraine ' as seriously as possible . '\", 'IOB': ['O', 'O', 'O', 'O', 'O', 'O', 'O', 'O', 'O', 'O', 'O', 'O', 'O', 'O', 'O', 'O', 'O', 'O', 'O', 'O', 'O', 'O', 'O', 'O', 'O', 'O', 'O', 'O', 'O', 'O', 'O', 'O', 'O', 'O', 'O', 'O', 'O', 'O', 'O', 'O', 'O', 'O', 'O', 'O', 'O', 'O', 'O', 'O', 'O', 'O', 'O', 'O', 'O', 'O', 'O', 'O', 'O', 'O', 'O', 'O', 'O', 'O', 'O', 'O', 'O', 'O', 'O', 'O', 'B-ASP', 'I-ASP', 'I-ASP', 'I-ASP', 'I-ASP', 'I-ASP', 'I-ASP', 'I-ASP', 'I-ASP', 'I-ASP', 'I-ASP'], 'tokens': ['Michael', 'Kofman', ',', 'a', 'Russia', 'analyst', 'at', 'CNA', ',', 'a', 'nonprofit', 'research', 'and', 'analysis', 'organization', 'in', 'Arlington', ',', 'Virginia', ',', 'similarly', 'ascribed', 'some', 'of', 'Ukraine', \"'\", 's', 'drone', 'strikes', 'to', \"'\", 'mind', 'boggling', \"'\", 'decisions', 'by', 'Russia', \"'\", 's', 'military', ',', 'including', 'failing', 'to', 'provide', 'extensive', 'air', 'cover', '.', 'Putin', \"'\", 's', 'forces', ',', 'which', 'are', 'yet', 'to', 'secure', 'control', 'of', 'skies', 'over', 'all', 'Ukraine', 'despite', 'starting', 'their', 'campaign', 'by', 'targeting', 'radar', 'facilities', 'and', 'airstrips', ',', 'said', 'they', 'had', 'destroyed', 'at', 'least', 'four', 'Bayraktar', 'drones', 'as', 'well', 'as', 'the', 'base', 'from', 'which', 'they', \"'\", 're', 'launched', ',', 'according', 'to', 'an', 'Interfax', 'report', '.', 'They', \"'\", 're', 'a', 'product', 'of', 'Erdogan', \"'\", 's', 'ambition', 'to', 'make', 'Turkey', \"'\", 's', 'projection', 'of', 'regional', 'power', 'more', 'self', '-', 'sufficient', ',', 'and', 'Istanbul', '-', 'based', 'Baykar', 'is', 'run', 'by', 'Selcuk', 'Bayraktar', ',', 'a', 'son', '-', 'in', '-', 'law', 'of', 'the', 'president', '.', 'Bayraktar', 'drones', 'owned', 'by', 'Ukraine', 'opened', 'fire', 'for', 'the', 'first', 'time', 'in', 'October', 'to', 'destroy', 'mobile', 'artillery', 'in', 'Donbas', ',', 'a', 'region', 'where', 'Russian', '-', 'backed', 'separatists', 'have', 'faced', 'off', 'against', 'Ukrainian', 'troops', 'since', '2014', 'and', 'that', \"'\", 's', 'cited', 'by', 'Putin', 'as', 'one', 'justification', 'for', 'his', 'invasion', '.', 'Turkey', \"'\", 's', 'Drone', 'Chief', 'Leads', 'Pursuit', 'of', 'Homegrown', 'Military', 'EdgeIn', 'a', 'Dec', '.', '10', 'phone', 'call', 'with', 'Erdogan', ',', 'Putin', 'condemned', 'Ukraine', \"'\", 's', \"'\", 'provocative', \"'\", 'deployment', 'of', 'the', 'attack', 'drones', ',', 'according', 'to', 'a', 'Kremlin', 'statement', '.', 'About', 'a', 'month', 'earlier', ',', 'Russian', 'Foreign', 'Minister', 'Sergei', 'Lavrov', 'had', 'warned', 'Turkish', 'Foreign', 'Minister', 'Mevlut', 'Cavusoglu', 'to', 'take', 'Moscow', \"'\", 's', 'concern', 'over', 'Turkey', \"'\", 's', \"'\", 'militarization', \"'\", 'of', 'Ukraine', \"'\", 'as', 'seriously', 'as', 'possible', '.', \"'\"], 'aspect': ['kill Ambani family members .'], 'position': [[71, 72, 73, 74, 75]], 'sentiment': ['Negative']}, {'sentence': 'The scooter is designed keeping in mind individual \\' s conscious efforts to contribute towards carbon - free future combined with a hassle - free ride experience . We are confident that Hero Eddy will make for a perfect alternate mobility choice offering comfort and necessity . \" Hero Electric is a power player in the electric two - wheeler space in India and recently announced it is ramping up production capacity at its facility in Ludhiana to meet increased demand for its products .', 'IOB': ['O', 'O', 'O', 'O', 'O', 'O', 'O', 'O', 'O', 'O', 'O', 'O', 'O', 'O', 'O', 'O', 'O', 'O', 'O', 'O', 'O', 'O', 'O', 'O', 'O', 'O', 'O', 'O', 'O', 'O', 'O', 'O', 'O', 'O', 'O', 'O', 'O', 'O', 'O', 'O', 'O', 'O', 'O', 'O', 'O', 'O', 'O', 'O', 'O', 'O', 'O', 'O', 'O', 'O', 'O', 'O', 'O', 'O', 'O', 'O', 'O', 'O', 'O', 'O', 'O', 'O', 'O', 'O', 'O', 'O', 'O', 'O', 'O', 'O', 'O', 'B-ASP', 'I-ASP', 'I-ASP', 'I-ASP'], 'tokens': ['The', 'scooter', 'is', 'designed', 'keeping', 'in', 'mind', 'individual', \"'\", 's', 'conscious', 'efforts', 'to', 'contribute', 'towards', 'carbon', '-', 'free', 'future', 'combined', 'with', 'a', 'hassle', '-', 'free', 'ride', 'experience', '.', 'We', 'are', 'confident', 'that', 'Hero', 'Eddy', 'will', 'make', 'for', 'a', 'perfect', 'alternate', 'mobility', 'choice', 'offering', 'comfort', 'and', 'necessity', '.', '\"', 'Hero', 'Electric', 'is', 'a', 'power', 'player', 'in', 'the', 'electric', 'two', '-', 'wheeler', 'space', 'in', 'India', 'and', 'recently', 'announced', 'it', 'is', 'ramping', 'up', 'production', 'capacity', 'at', 'its', 'facility', 'in', 'Ludhiana', 'to', 'meet', 'increased', 'demand', 'for', 'its', 'products', '.'], 'aspect': ['? We have heard reports of iPhones surviving'], 'position': [[72, 73, 74, 75, 76, 77, 78, 79]], 'sentiment': ['Positive']}, {'sentence': 'California permits Waymo , Cruise for passenger service in autonomous vehicles Starting this week , Cruise is allowed to provide the Drivered Deployment service on some public roads in San Francisco between 10 pm and 6 am at speeds of up to 30 miles per hour . The California Public Utilities Commission ( CPUC ) has issued permits to General Motors - backed self - driving unit Cruise , and Alphabet - backed Waymo to start passenger service in autonomous vehicles with safety drivers present .', 'IOB': ['O', 'O', 'O', 'O', 'O', 'O', 'O', 'O', 'O', 'O', 'O', 'O', 'O', 'O', 'O', 'O', 'O', 'O', 'O', 'O', 'O', 'O', 'O', 'O', 'O', 'O', 'O', 'O', 'O', 'O', 'O', 'O', 'O', 'O', 'O', 'O', 'O', 'O', 'O', 'O', 'O', 'O', 'O', 'O', 'O', 'O', 'O', 'O', 'O', 'O', 'O', 'O', 'O', 'O', 'O', 'O', 'O', 'O', 'O', 'O', 'O', 'O', 'O', 'O', 'O', 'O', 'B-ASP', 'I-ASP', 'I-ASP', 'I-ASP', 'I-ASP', 'I-ASP', 'I-ASP', 'I-ASP', 'I-ASP', 'I-ASP', 'I-ASP', 'I-ASP', 'I-ASP'], 'tokens': ['California', 'permits', 'Waymo', ',', 'Cruise', 'for', 'passenger', 'service', 'in', 'autonomous', 'vehicles', 'Starting', 'this', 'week', ',', 'Cruise', 'is', 'allowed', 'to', 'provide', 'the', 'Drivered', 'Deployment', 'service', 'on', 'some', 'public', 'roads', 'in', 'San', 'Francisco', 'between', '10', 'pm', 'and', '6', 'am', 'at', 'speeds', 'of', 'up', 'to', '30', 'miles', 'per', 'hour', '.', 'The', 'California', 'Public', 'Utilities', 'Commission', '(', 'CPUC', ')', 'has', 'issued', 'permits', 'to', 'General', 'Motors', '-', 'backed', 'self', '-', 'driving', 'unit', 'Cruise', ',', 'and', 'Alphabet', '-', 'backed', 'Waymo', 'to', 'start', 'passenger', 'service', 'in', 'autonomous', 'vehicles', 'with', 'safety', 'drivers', 'present', '.'], 'aspect': [], 'position': [], 'sentiment': []}, {'sentence': 'Last month , General Motors \\' CEO Mary Barra and President Mark Reuss took rides in two fully - autonomous vehicles of Cruise . Barra was driven around San Francisco as Cruise co - founder and interim CEO Kyle Vogt accompanied her in a car called ‘ Tostada \\' . Reuss took a ride with GM \\' s VP of communications , Craig Buchholz , in another car called \\' Disco . \" One user commented , \" Sasti ( cheap ) copy of Jason Bourne . \" Another said , \" Yeh kiski copy hai . \" The eight - episode series will stream on MX Player , starting March 10 . They allegedly seized several CCTV footage and DVRs under the garb of investigation and destroyed the same - in order to save Vaze from getting caught by law enforcement agencies . On February 25 , 2021 , a Mahindra Scorpio was found abandoned near billionaire industrialist Mukesh Ambani \\' s residence , Antilia on Carmichael Road in south Mumbai , with 20 loose gelatin sticks and a note threatening to kill Ambani family members .', 'IOB': ['O', 'O', 'O', 'O', 'O', 'O', 'O', 'O', 'O', 'O', 'O', 'O', 'O', 'O', 'O', 'O', 'O', 'O', 'O', 'O', 'O', 'O', 'O', 'O', 'O', 'O', 'O', 'O', 'O', 'O', 'O', 'O', 'O', 'O', 'O', 'O', 'O', 'O', 'O', 'O', 'O', 'O', 'O', 'O', 'O', 'O', 'O', 'O', 'O', 'O', 'O', 'O', 'O', 'O', 'O', 'O', 'O', 'O', 'O', 'O', 'O', 'O', 'O', 'O', 'B-ASP', 'I-ASP', 'I-ASP', 'I-ASP', 'I-ASP', 'I-ASP', 'I-ASP', 'I-ASP', 'I-ASP', 'I-ASP', 'I-ASP', 'I-ASP', 'I-ASP', 'I-ASP', 'I-ASP'], 'tokens': ['Last', 'month', ',', 'General', 'Motors', \"'\", 'CEO', 'Mary', 'Barra', 'and', 'President', 'Mark', 'Reuss', 'took', 'rides', 'in', 'two', 'fully', '-', 'autonomous', 'vehicles', 'of', 'Cruise', '.', 'Barra', 'was', 'driven', 'around', 'San', 'Francisco', 'as', 'Cruise', 'co', '-', 'founder', 'and', 'interim', 'CEO', 'Kyle', 'Vogt', 'accompanied', 'her', 'in', 'a', 'car', 'called', '‘', 'Tostada', \"'\", '.', 'Reuss', 'took', 'a', 'ride', 'with', 'GM', \"'\", 's', 'VP', 'of', 'communications', ',', 'Craig', 'Buchholz', ',', 'in', 'another', 'car', 'called', \"'\", 'Disco', '.', '\"', 'One', 'user', 'commented', ',', '\"', 'Sasti', '(', 'cheap', ')', 'copy', 'of', 'Jason', 'Bourne', '.', '\"', 'Another', 'said', ',', '\"', 'Yeh', 'kiski', 'copy', 'hai', '.', '\"', 'The', 'eight', '-', 'episode', 'series', 'will', 'stream', 'on', 'MX', 'Player', ',', 'starting', 'March', '10', '.', 'They', 'allegedly', 'seized', 'several', 'CCTV', 'footage', 'and', 'DVRs', 'under', 'the', 'garb', 'of', 'investigation', 'and', 'destroyed', 'the', 'same', '-', 'in', 'order', 'to', 'save', 'Vaze', 'from', 'getting', 'caught', 'by', 'law', 'enforcement', 'agencies', '.', 'On', 'February', '25', ',', '2021', ',', 'a', 'Mahindra', 'Scorpio', 'was', 'found', 'abandoned', 'near', 'billionaire', 'industrialist', 'Mukesh', 'Ambani', \"'\", 's', 'residence', ',', 'Antilia', 'on', 'Carmichael', 'Road', 'in', 'south', 'Mumbai', ',', 'with', '20', 'loose', 'gelatin', 'sticks', 'and', 'a', 'note', 'threatening', 'to', 'kill', 'Ambani', 'family', 'members', '.'], 'aspect': [], 'position': [], 'sentiment': []}, {'sentence': \"They allegedly seized several CCTV footage and DVRs under the garb of investigation and destroyed the same - in order to save Vaze from getting caught by law enforcement agencies . On February 25 , 2021 , a Mahindra Scorpio was found abandoned near billionaire industrialist Mukesh Ambani ' s residence , Antilia on Carmichael Road in south Mumbai , with 20 loose gelatin sticks and a note threatening to kill Ambani family members .\", 'IOB': ['O', 'O', 'O', 'O', 'O', 'O', 'O', 'O', 'O', 'O', 'O', 'O', 'O', 'O', 'O', 'O', 'O', 'O', 'O', 'O', 'O', 'O', 'O', 'O', 'O', 'O', 'O', 'O', 'O', 'O', 'O', 'O', 'O', 'O', 'O', 'O', 'O', 'O', 'O', 'O', 'O', 'O', 'O', 'O', 'O', 'O', 'O', 'O', 'O', 'O', 'O', 'O', 'O', 'O', 'O', 'O', 'O', 'O', 'O', 'O', 'O', 'O', 'O', 'O', 'O', 'O', 'O', 'O', 'O', 'O', 'B-ASP', 'I-ASP', 'I-ASP', 'I-ASP', 'I-ASP'], 'tokens': ['They', 'allegedly', 'seized', 'several', 'CCTV', 'footage', 'and', 'DVRs', 'under', 'the', 'garb', 'of', 'investigation', 'and', 'destroyed', 'the', 'same', '-', 'in', 'order', 'to', 'save', 'Vaze', 'from', 'getting', 'caught', 'by', 'law', 'enforcement', 'agencies', '.', 'On', 'February', '25', ',', '2021', ',', 'a', 'Mahindra', 'Scorpio', 'was', 'found', 'abandoned', 'near', 'billionaire', 'industrialist', 'Mukesh', 'Ambani', \"'\", 's', 'residence', ',', 'Antilia', 'on', 'Carmichael', 'Road', 'in', 'south', 'Mumbai', ',', 'with', '20', 'loose', 'gelatin', 'sticks', 'and', 'a', 'note', 'threatening', 'to', 'kill', 'Ambani', 'family', 'members', '.'], 'aspect': [], 'position': [], 'sentiment': []}, {'sentence': 'On March 5 , the body of Mansukh Hiren , the owner of the SUV and an auto parts dealer from Thane – was found dumped in a creek at Reti Bunder near Mumbra . The NIA has arrested former CIU head Sachin Vaze , inspector Sunil Mane , retired ACP Pradeep Sharma , Santosh Shelar , Anant Jadhav , Satish Mothkuri , Manish Soni , Naresh Gor , Vinayak Shinde and Kazi in the case . SHARE THIS ARTICLE', 'IOB': ['O', 'O', 'O', 'O', 'O', 'O', 'O', 'O', 'O', 'O', 'O', 'O', 'O', 'O', 'O', 'O', 'O', 'O', 'O', 'O', 'O', 'O', 'O', 'O', 'O', 'O', 'O', 'O', 'O', 'O', 'O', 'O', 'O', 'O', 'O', 'O', 'O', 'O', 'O', 'O', 'O', 'O', 'O', 'O', 'O', 'O', 'O', 'O', 'O', 'O', 'O', 'O', 'O', 'O', 'O', 'O', 'O', 'O', 'O', 'O', 'O', 'O', 'O', 'O', 'O', 'B-ASP', 'I-ASP', 'I-ASP', 'I-ASP', 'I-ASP', 'I-ASP', 'I-ASP', 'I-ASP', 'I-ASP', 'I-ASP', 'I-ASP', 'I-ASP', 'I-ASP', 'I-ASP'], 'tokens': ['On', 'March', '5', ',', 'the', 'body', 'of', 'Mansukh', 'Hiren', ',', 'the', 'owner', 'of', 'the', 'SUV', 'and', 'an', 'auto', 'parts', 'dealer', 'from', 'Thane', '–', 'was', 'found', 'dumped', 'in', 'a', 'creek', 'at', 'Reti', 'Bunder', 'near', 'Mumbra', '.', 'The', 'NIA', 'has', 'arrested', 'former', 'CIU', 'head', 'Sachin', 'Vaze', ',', 'inspector', 'Sunil', 'Mane', ',', 'retired', 'ACP', 'Pradeep', 'Sharma', ',', 'Santosh', 'Shelar', ',', 'Anant', 'Jadhav', ',', 'Satish', 'Mothkuri', ',', 'Manish', 'Soni', ',', 'Naresh', 'Gor', ',', 'Vinayak', 'Shinde', 'and', 'Kazi', 'in', 'the', 'case', '.', 'SHARE', 'THIS', 'ARTICLE'], 'aspect': [], 'position': [], 'sentiment': []}, {'sentence': \"Also , there will be another Jeep EV that would be joining the company ' s portfolio in 2024 . Tavares also shared images of the upcoming EV . However , he didn ' t reveal the name of this electric SUV . The design of the Jeep electric SUV looks identical to the current Jeep Compass . It gets LED headlamps and integrated LED daytime running lights . It gets vertical slats , but not a mesh grille like the standard model . However , Tata Motors , MG Motor , Skoda and Mahindra were able to buck the trend , as they have reported their respective sales numbers in February 2022 . The majority of automakers have witnessed a drop in vehicle dispatches to dealers last month owing to the production delay due to the global semiconductor crisis .\", 'IOB': ['O', 'O', 'O', 'O', 'O', 'O', 'O', 'O', 'O', 'O', 'O', 'O', 'O', 'O', 'O', 'O', 'O', 'O', 'O', 'O', 'O', 'O', 'O', 'O', 'O', 'O', 'O', 'O', 'O', 'O', 'O', 'O', 'O', 'O', 'O', 'O', 'O', 'O', 'O', 'O', 'O', 'O', 'O', 'O', 'O', 'O', 'O', 'O', 'O', 'O', 'O', 'O', 'O', 'O', 'O', 'O', 'O', 'O', 'O', 'O', 'O', 'O', 'O', 'O', 'O', 'O', 'B-ASP', 'I-ASP', 'I-ASP', 'I-ASP', 'I-ASP', 'I-ASP', 'I-ASP', 'I-ASP', 'I-ASP', 'I-ASP', 'I-ASP', 'I-ASP', 'I-ASP'], 'tokens': ['Also', ',', 'there', 'will', 'be', 'another', 'Jeep', 'EV', 'that', 'would', 'be', 'joining', 'the', 'company', \"'\", 's', 'portfolio', 'in', '2024', '.', 'Tavares', 'also', 'shared', 'images', 'of', 'the', 'upcoming', 'EV', '.', 'However', ',', 'he', 'didn', \"'\", 't', 'reveal', 'the', 'name', 'of', 'this', 'electric', 'SUV', '.', 'The', 'design', 'of', 'the', 'Jeep', 'electric', 'SUV', 'looks', 'identical', 'to', 'the', 'current', 'Jeep', 'Compass', '.', 'It', 'gets', 'LED', 'headlamps', 'and', 'integrated', 'LED', 'daytime', 'running', 'lights', '.', 'It', 'gets', 'vertical', 'slats', ',', 'but', 'not', 'a', 'mesh', 'grille', 'like', 'the', 'standard', 'model', '.', 'However', ',', 'Tata', 'Motors', ',', 'MG', 'Motor', ',', 'Skoda', 'and', 'Mahindra', 'were', 'able', 'to', 'buck', 'the', 'trend', ',', 'as', 'they', 'have', 'reported', 'their', 'respective', 'sales', 'numbers', 'in', 'February', '2022', '.', 'The', 'majority', 'of', 'automakers', 'have', 'witnessed', 'a', 'drop', 'in', 'vehicle', 'dispatches', 'to', 'dealers', 'last', 'month', 'owing', 'to', 'the', 'production', 'delay', 'due', 'to', 'the', 'global', 'semiconductor', 'crisis', '.'], 'aspect': [], 'position': [], 'sentiment': []}, {'sentence': 'However , Tata Motors , MG Motor , Skoda and Mahindra were able to buck the trend , as they have reported their respective sales numbers in February 2022 . The majority of automakers have witnessed a drop in vehicle dispatches to dealers last month owing to the production delay due to the global semiconductor crisis .', 'IOB': ['O', 'O', 'O', 'O', 'O', 'O', 'O', 'O', 'O', 'O', 'O', 'O', 'O', 'O', 'O', 'O', 'O', 'O', 'O', 'O', 'O', 'O', 'O', 'O', 'O', 'O', 'O', 'O', 'O', 'O', 'O', 'O', 'O', 'O', 'O', 'O', 'O', 'O', 'O', 'O', 'O', 'O', 'O', 'O', 'O', 'O', 'O', 'O', 'O', 'O', 'O', 'O', 'O', 'O', 'O', 'O', 'O'], 'tokens': ['However', ',', 'Tata', 'Motors', ',', 'MG', 'Motor', ',', 'Skoda', 'and', 'Mahindra', 'were', 'able', 'to', 'buck', 'the', 'trend', ',', 'as', 'they', 'have', 'reported', 'their', 'respective', 'sales', 'numbers', 'in', 'February', '2022', '.', 'The', 'majority', 'of', 'automakers', 'have', 'witnessed', 'a', 'drop', 'in', 'vehicle', 'dispatches', 'to', 'dealers', 'last', 'month', 'owing', 'to', 'the', 'production', 'delay', 'due', 'to', 'the', 'global', 'semiconductor', 'crisis', '.'], 'aspect': [], 'position': [], 'sentiment': []}, {'sentence': 'Skoda Auto India recorded over five - fold surge in sales to 4 , 503 units in February 2022 , riding on the success of its mid - sized SUV Kushaq . MG Motor India claimed that its retail sales increased five per cent year - on - year to 4 , 528 units in February . First Published Date : 01 Mar 2022 , 07 : 39 PM IST', 'IOB': ['O', 'O', 'O', 'O', 'O', 'O', 'O', 'O', 'O', 'O', 'O', 'O', 'O', 'O', 'O', 'O', 'O', 'O', 'O', 'O', 'O', 'O', 'O', 'O', 'O', 'O', 'O', 'O', 'O', 'O', 'O', 'O', 'O', 'O', 'O', 'O', 'O', 'O', 'O', 'O', 'O', 'O', 'O', 'O', 'O', 'O', 'O', 'O', 'O', 'O', 'O', 'O', 'O', 'O', 'O', 'O', 'O', 'O', 'O', 'O', 'O', 'O', 'O', 'O', 'O', 'O', 'O', 'O', 'O', 'O'], 'tokens': ['Skoda', 'Auto', 'India', 'recorded', 'over', 'five', '-', 'fold', 'surge', 'in', 'sales', 'to', '4', ',', '503', 'units', 'in', 'February', '2022', ',', 'riding', 'on', 'the', 'success', 'of', 'its', 'mid', '-', 'sized', 'SUV', 'Kushaq', '.', 'MG', 'Motor', 'India', 'claimed', 'that', 'its', 'retail', 'sales', 'increased', 'five', 'per', 'cent', 'year', '-', 'on', '-', 'year', 'to', '4', ',', '528', 'units', 'in', 'February', '.', 'First', 'Published', 'Date', ':', '01', 'Mar', '2022', ',', '07', ':', '39', 'PM', 'IST'], 'aspect': [], 'position': [], 'sentiment': []}, {'sentence': \"iPhone in toilet for 10 YEARS ! Man gets it out and THIS is what happens next iPhone survives a toilet journey for almost ten years but when it comes out , the results aren ' t what you expect . Your newest iPhone 13 car survive water spills , drops , and a few more abuses before it gives up . But what if you drop it in a toilet ? We have heard reports of iPhones surviving lakes and other water bodies but this ! This is extreme by all means ! And this happened ten years ago – a time when Apple did not care whether your iPhone will survive some splashes or brave through dust ! The report from US Maryland talks about a Halloween incident that may have given the scares to the owner , and this is what happens . For ten years , Becki Beckmann assumed that her iPhone 4S was probably lost or gone for good while she was partying during Halloween .\", 'IOB': ['O', 'O', 'O', 'O', 'O', 'O', 'O', 'O', 'O', 'O', 'O', 'O', 'O', 'O', 'O', 'O', 'O', 'O', 'O', 'O', 'O', 'O', 'O', 'O', 'O', 'O', 'O', 'O', 'O', 'O', 'O', 'O', 'O', 'O', 'O', 'O', 'O', 'O', 'O', 'O', 'O', 'O', 'O', 'O', 'O', 'O', 'O', 'O', 'O', 'O', 'O', 'O', 'O', 'O', 'O', 'O', 'O', 'O', 'O', 'O', 'O', 'O', 'O', 'O', 'O', 'O', 'O', 'O', 'O', 'O', 'O', 'B-ASP', 'I-ASP', 'I-ASP', 'I-ASP', 'I-ASP', 'I-ASP', 'I-ASP', 'I-ASP'], 'tokens': ['iPhone', 'in', 'toilet', 'for', '10', 'YEARS', '!', 'Man', 'gets', 'it', 'out', 'and', 'THIS', 'is', 'what', 'happens', 'next', 'iPhone', 'survives', 'a', 'toilet', 'journey', 'for', 'almost', 'ten', 'years', 'but', 'when', 'it', 'comes', 'out', ',', 'the', 'results', 'aren', \"'\", 't', 'what', 'you', 'expect', '.', 'Your', 'newest', 'iPhone', '13', 'car', 'survive', 'water', 'spills', ',', 'drops', ',', 'and', 'a', 'few', 'more', 'abuses', 'before', 'it', 'gives', 'up', '.', 'But', 'what', 'if', 'you', 'drop', 'it', 'in', 'a', 'toilet', '?', 'We', 'have', 'heard', 'reports', 'of', 'iPhones', 'surviving', 'lakes', 'and', 'other', 'water', 'bodies', 'but', 'this', '!', 'This', 'is', 'extreme', 'by', 'all', 'means', '!', 'And', 'this', 'happened', 'ten', 'years', 'ago', '–', 'a', 'time', 'when', 'Apple', 'did', 'not', 'care', 'whether', 'your', 'iPhone', 'will', 'survive', 'some', 'splashes', 'or', 'brave', 'through', 'dust', '!', 'The', 'report', 'from', 'US', 'Maryland', 'talks', 'about', 'a', 'Halloween', 'incident', 'that', 'may', 'have', 'given', 'the', 'scares', 'to', 'the', 'owner', ',', 'and', 'this', 'is', 'what', 'happens', '.', 'For', 'ten', 'years', ',', 'Becki', 'Beckmann', 'assumed', 'that', 'her', 'iPhone', '4S', 'was', 'probably', 'lost', 'or', 'gone', 'for', 'good', 'while', 'she', 'was', 'partying', 'during', 'Halloween', '.'], 'aspect': [], 'position': [], 'sentiment': []}, {'sentence': '\" The six yards is from the shelves of designer Neeta Lulla \\' s label , and the Brahmastra actor wore it for an episode of DID Li \\' l Masters . Additionally , Mouni created a \\' Tip Tip Barsa Paani \\' moment with the six yards , and we are in love with it . Mouni \\' s sunshine yellow coloured wrinkle chiffon saree features embellished transparent sequin borders in various shades of yellow and ruffled edges .', 'IOB': ['O', 'O', 'O', 'O', 'O', 'O', 'O', 'O', 'O', 'O', 'O', 'O', 'O', 'O', 'O', 'O', 'O', 'O', 'O', 'O', 'O', 'O', 'O', 'O', 'O', 'O', 'O', 'O', 'O', 'O', 'O', 'O', 'O', 'O', 'O', 'O', 'O', 'O', 'O', 'O', 'O', 'O', 'O', 'O', 'O', 'O', 'O', 'O', 'O', 'O', 'O', 'O', 'O', 'O', 'O', 'O', 'O', 'O', 'O', 'O', 'O', 'O', 'O', 'B-ASP', 'I-ASP', 'I-ASP', 'I-ASP', 'I-ASP', 'I-ASP', 'I-ASP', 'I-ASP', 'I-ASP', 'I-ASP', 'I-ASP', 'I-ASP', 'I-ASP', 'I-ASP', 'I-ASP', 'I-ASP'], 'tokens': ['\"', 'The', 'six', 'yards', 'is', 'from', 'the', 'shelves', 'of', 'designer', 'Neeta', 'Lulla', \"'\", 's', 'label', ',', 'and', 'the', 'Brahmastra', 'actor', 'wore', 'it', 'for', 'an', 'episode', 'of', 'DID', 'Li', \"'\", 'l', 'Masters', '.', 'Additionally', ',', 'Mouni', 'created', 'a', \"'\", 'Tip', 'Tip', 'Barsa', 'Paani', \"'\", 'moment', 'with', 'the', 'six', 'yards', ',', 'and', 'we', 'are', 'in', 'love', 'with', 'it', '.', 'Mouni', \"'\", 's', 'sunshine', 'yellow', 'coloured', 'wrinkle', 'chiffon', 'saree', 'features', 'embellished', 'transparent', 'sequin', 'borders', 'in', 'various', 'shades', 'of', 'yellow', 'and', 'ruffled', 'edges', '.'], 'aspect': [], 'position': [], 'sentiment': []}, {'sentence': \"If you wish to buy Mouni ' s sunshine yellow look , it is available on the Neeta Lulla website . The six yards is called the Sunglow - Mehr Saree Set and will cost you a whopping ₹ 84 , 000 . The Sunglow Mehr Saree Set . ( neetalulla . com ) Though the yellow saree created a stunning traditional fashion moment , it was Mouni ' s hairdo that stole the show for us .\", 'IOB': ['O', 'O', 'O', 'O', 'O', 'O', 'O', 'O', 'O', 'O', 'O', 'O', 'O', 'O', 'O', 'O', 'O', 'O', 'O', 'O', 'O', 'O', 'O', 'O', 'O', 'O', 'O', 'O', 'O', 'O', 'O', 'O', 'O', 'O', 'O', 'O', 'O', 'O', 'O', 'O', 'O', 'O', 'O', 'O', 'O', 'O', 'O', 'O', 'O', 'O', 'O', 'O', 'O', 'O', 'O', 'O', 'O', 'O', 'O', 'O', 'O', 'O', 'O', 'O', 'O', 'B-ASP', 'I-ASP', 'I-ASP', 'I-ASP', 'I-ASP', 'I-ASP', 'I-ASP', 'I-ASP', 'I-ASP', 'I-ASP', 'I-ASP', 'I-ASP', 'I-ASP'], 'tokens': ['If', 'you', 'wish', 'to', 'buy', 'Mouni', \"'\", 's', 'sunshine', 'yellow', 'look', ',', 'it', 'is', 'available', 'on', 'the', 'Neeta', 'Lulla', 'website', '.', 'The', 'six', 'yards', 'is', 'called', 'the', 'Sunglow', '-', 'Mehr', 'Saree', 'Set', 'and', 'will', 'cost', 'you', 'a', 'whopping', '₹', '84', ',', '000', '.', 'The', 'Sunglow', 'Mehr', 'Saree', 'Set', '.', '(', 'neetalulla', '.', 'com', ')', 'Though', 'the', 'yellow', 'saree', 'created', 'a', 'stunning', 'traditional', 'fashion', 'moment', ',', 'it', 'was', 'Mouni', \"'\", 's', 'hairdo', 'that', 'stole', 'the', 'show', 'for', 'us', '.'], 'aspect': [], 'position': [], 'sentiment': []}]\n"
          ]
        }
      ],
      "source": [
        "print(atepc_result)"
      ]
    },
    {
      "cell_type": "code",
      "execution_count": null,
      "metadata": {
        "id": "lfT9n39DYgay"
      },
      "outputs": [],
      "source": []
    }
  ],
  "metadata": {
    "accelerator": "GPU",
    "colab": {
      "provenance": [],
      "collapsed_sections": []
    },
    "kernelspec": {
      "display_name": "Python 3",
      "name": "python3"
    },
    "language_info": {
      "name": "python"
    }
  },
  "nbformat": 4,
  "nbformat_minor": 0
}